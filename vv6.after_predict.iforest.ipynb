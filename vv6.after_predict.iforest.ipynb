{
 "cells": [
  {
   "cell_type": "code",
   "execution_count": 1,
   "metadata": {},
   "outputs": [],
   "source": [
    "import pandas as pd\n",
    "import numpy as np\n",
    "import matplotlib.pyplot as plt\n",
    "import copy\n",
    "import pickle\n",
    "from IPython.display import display"
   ]
  },
  {
   "cell_type": "markdown",
   "metadata": {},
   "source": [
    "# Read data"
   ]
  },
  {
   "cell_type": "code",
   "execution_count": 2,
   "metadata": {},
   "outputs": [],
   "source": [
    "af = 'vv'"
   ]
  },
  {
   "cell_type": "code",
   "execution_count": 3,
   "metadata": {},
   "outputs": [
    {
     "data": {
      "text/html": [
       "<div>\n",
       "<style scoped>\n",
       "    .dataframe tbody tr th:only-of-type {\n",
       "        vertical-align: middle;\n",
       "    }\n",
       "\n",
       "    .dataframe tbody tr th {\n",
       "        vertical-align: top;\n",
       "    }\n",
       "\n",
       "    .dataframe thead th {\n",
       "        text-align: right;\n",
       "    }\n",
       "</style>\n",
       "<table border=\"1\" class=\"dataframe\">\n",
       "  <thead>\n",
       "    <tr style=\"text-align: right;\">\n",
       "      <th></th>\n",
       "      <th>StreamID</th>\n",
       "      <th>StartTime</th>\n",
       "      <th>Dur</th>\n",
       "      <th>Proto</th>\n",
       "      <th>SrcAddr</th>\n",
       "      <th>Sport</th>\n",
       "      <th>Dir</th>\n",
       "      <th>DstAddr</th>\n",
       "      <th>Dport</th>\n",
       "      <th>State</th>\n",
       "      <th>...</th>\n",
       "      <th>Proto_arp</th>\n",
       "      <th>Proto_other</th>\n",
       "      <th>Service</th>\n",
       "      <th>Service_80</th>\n",
       "      <th>Service_443</th>\n",
       "      <th>Service_21</th>\n",
       "      <th>Service_22</th>\n",
       "      <th>Service_25</th>\n",
       "      <th>Service_6667</th>\n",
       "      <th>Service_other</th>\n",
       "    </tr>\n",
       "  </thead>\n",
       "  <tbody>\n",
       "    <tr>\n",
       "      <th>0</th>\n",
       "      <td>1</td>\n",
       "      <td>2021-08-12 20:56:02.042618</td>\n",
       "      <td>0.248864</td>\n",
       "      <td>udp</td>\n",
       "      <td>150.35.87.62</td>\n",
       "      <td>59827</td>\n",
       "      <td>&lt;-&gt;</td>\n",
       "      <td>150.35.83.12</td>\n",
       "      <td>53</td>\n",
       "      <td>CON</td>\n",
       "      <td>...</td>\n",
       "      <td>0.0</td>\n",
       "      <td>0.0</td>\n",
       "      <td>other</td>\n",
       "      <td>0.0</td>\n",
       "      <td>0.0</td>\n",
       "      <td>0.0</td>\n",
       "      <td>0.0</td>\n",
       "      <td>0.0</td>\n",
       "      <td>0.0</td>\n",
       "      <td>1.0</td>\n",
       "    </tr>\n",
       "    <tr>\n",
       "      <th>1</th>\n",
       "      <td>2</td>\n",
       "      <td>2021-08-12 20:56:02.051273</td>\n",
       "      <td>0.000458</td>\n",
       "      <td>udp</td>\n",
       "      <td>216.149.170.165</td>\n",
       "      <td>15135</td>\n",
       "      <td>&lt;-&gt;</td>\n",
       "      <td>150.35.87.232</td>\n",
       "      <td>13365</td>\n",
       "      <td>CON</td>\n",
       "      <td>...</td>\n",
       "      <td>0.0</td>\n",
       "      <td>0.0</td>\n",
       "      <td>other</td>\n",
       "      <td>0.0</td>\n",
       "      <td>0.0</td>\n",
       "      <td>0.0</td>\n",
       "      <td>0.0</td>\n",
       "      <td>0.0</td>\n",
       "      <td>0.0</td>\n",
       "      <td>1.0</td>\n",
       "    </tr>\n",
       "    <tr>\n",
       "      <th>2</th>\n",
       "      <td>3</td>\n",
       "      <td>2021-08-12 20:56:02.056605</td>\n",
       "      <td>0.140449</td>\n",
       "      <td>tcp</td>\n",
       "      <td>81.114.119.142</td>\n",
       "      <td>3577</td>\n",
       "      <td>-&gt;</td>\n",
       "      <td>150.35.87.133</td>\n",
       "      <td>80</td>\n",
       "      <td>alltcp</td>\n",
       "      <td>...</td>\n",
       "      <td>0.0</td>\n",
       "      <td>0.0</td>\n",
       "      <td>80</td>\n",
       "      <td>1.0</td>\n",
       "      <td>0.0</td>\n",
       "      <td>0.0</td>\n",
       "      <td>0.0</td>\n",
       "      <td>0.0</td>\n",
       "      <td>0.0</td>\n",
       "      <td>0.0</td>\n",
       "    </tr>\n",
       "    <tr>\n",
       "      <th>3</th>\n",
       "      <td>4</td>\n",
       "      <td>2021-08-12 20:56:02.108284</td>\n",
       "      <td>0.000666</td>\n",
       "      <td>udp</td>\n",
       "      <td>150.35.87.141</td>\n",
       "      <td>55454</td>\n",
       "      <td>&lt;-&gt;</td>\n",
       "      <td>150.35.83.12</td>\n",
       "      <td>53</td>\n",
       "      <td>CON</td>\n",
       "      <td>...</td>\n",
       "      <td>0.0</td>\n",
       "      <td>0.0</td>\n",
       "      <td>other</td>\n",
       "      <td>0.0</td>\n",
       "      <td>0.0</td>\n",
       "      <td>0.0</td>\n",
       "      <td>0.0</td>\n",
       "      <td>0.0</td>\n",
       "      <td>0.0</td>\n",
       "      <td>1.0</td>\n",
       "    </tr>\n",
       "    <tr>\n",
       "      <th>4</th>\n",
       "      <td>5</td>\n",
       "      <td>2021-08-12 20:56:02.108367</td>\n",
       "      <td>0.000749</td>\n",
       "      <td>udp</td>\n",
       "      <td>150.35.87.141</td>\n",
       "      <td>51411</td>\n",
       "      <td>&lt;-&gt;</td>\n",
       "      <td>150.35.83.12</td>\n",
       "      <td>53</td>\n",
       "      <td>CON</td>\n",
       "      <td>...</td>\n",
       "      <td>0.0</td>\n",
       "      <td>0.0</td>\n",
       "      <td>other</td>\n",
       "      <td>0.0</td>\n",
       "      <td>0.0</td>\n",
       "      <td>0.0</td>\n",
       "      <td>0.0</td>\n",
       "      <td>0.0</td>\n",
       "      <td>0.0</td>\n",
       "      <td>1.0</td>\n",
       "    </tr>\n",
       "  </tbody>\n",
       "</table>\n",
       "<p>5 rows × 74 columns</p>\n",
       "</div>"
      ],
      "text/plain": [
       "   StreamID                   StartTime       Dur Proto          SrcAddr  \\\n",
       "0         1  2021-08-12 20:56:02.042618  0.248864   udp     150.35.87.62   \n",
       "1         2  2021-08-12 20:56:02.051273  0.000458   udp  216.149.170.165   \n",
       "2         3  2021-08-12 20:56:02.056605  0.140449   tcp   81.114.119.142   \n",
       "3         4  2021-08-12 20:56:02.108284  0.000666   udp    150.35.87.141   \n",
       "4         5  2021-08-12 20:56:02.108367  0.000749   udp    150.35.87.141   \n",
       "\n",
       "   Sport    Dir        DstAddr  Dport   State  ...  Proto_arp  Proto_other  \\\n",
       "0  59827    <->   150.35.83.12     53     CON  ...        0.0          0.0   \n",
       "1  15135    <->  150.35.87.232  13365     CON  ...        0.0          0.0   \n",
       "2   3577     ->  150.35.87.133     80  alltcp  ...        0.0          0.0   \n",
       "3  55454    <->   150.35.83.12     53     CON  ...        0.0          0.0   \n",
       "4  51411    <->   150.35.83.12     53     CON  ...        0.0          0.0   \n",
       "\n",
       "   Service  Service_80  Service_443  Service_21 Service_22  Service_25  \\\n",
       "0    other         0.0          0.0         0.0        0.0         0.0   \n",
       "1    other         0.0          0.0         0.0        0.0         0.0   \n",
       "2       80         1.0          0.0         0.0        0.0         0.0   \n",
       "3    other         0.0          0.0         0.0        0.0         0.0   \n",
       "4    other         0.0          0.0         0.0        0.0         0.0   \n",
       "\n",
       "   Service_6667  Service_other  \n",
       "0           0.0            1.0  \n",
       "1           0.0            1.0  \n",
       "2           0.0            0.0  \n",
       "3           0.0            1.0  \n",
       "4           0.0            1.0  \n",
       "\n",
       "[5 rows x 74 columns]"
      ]
     },
     "execution_count": 3,
     "metadata": {},
     "output_type": "execute_result"
    }
   ],
   "source": [
    "\"\"\" Load original data \"\"\"\n",
    "df__test = pd.read_csv(f'data/t.{af}1.csv', index_col=[0])\n",
    "df__test.head()"
   ]
  },
  {
   "cell_type": "code",
   "execution_count": 4,
   "metadata": {},
   "outputs": [],
   "source": [
    "\"\"\" Load preprocessed data used for feeding the model \"\"\"\n",
    "pf = '__1__'\n",
    "expname = 'exp04_play'\n",
    "ra = '81.91'\n",
    "model_name = 'iforest'\n",
    "\n",
    "# X_train = np.load(f'result/{af}5.{pf}.{model_name}.{expname}.__{ra}__.data.tr.X.npy')\n",
    "# y_train = np.load(f'data/{af}3.tr.y.npy')\n",
    "\n",
    "X_test = np.load(f'result/{af}5.{pf}.{model_name}.{expname}.__{ra}__.data.t.X.npy')\n",
    "y_test = np.load(f'data/{af}3.t.y.npy')\n",
    "\n",
    "# X_val = np.load(f'result/{af}3-5.{pf}.{model_name}.{expname}.__{ra}__.data.v.X.npy')\n",
    "# y_val = np.load(f'data/{af}3-3.v.y.npy')"
   ]
  },
  {
   "cell_type": "code",
   "execution_count": 5,
   "metadata": {},
   "outputs": [],
   "source": [
    "\"\"\" Load model \"\"\"\n",
    "model = pickle.load(open(f'result/{af}5.{pf}.{model_name}.{expname}.__{ra}__.model.pkl', 'rb'))\n",
    "#? model config\n",
    "model_config = open(f'result/{af}5.{pf}.{model_name}.{expname}.__{ra}__.config.txt').read()"
   ]
  },
  {
   "cell_type": "code",
   "execution_count": 6,
   "metadata": {},
   "outputs": [],
   "source": [
    "\"\"\" Load features names \"\"\"\n",
    "fts_names = [line.strip() for line in open(f'result/{af}5.{pf}.{model_name}.{expname}.__{ra}__.fts.txt').readlines()]"
   ]
  },
  {
   "cell_type": "code",
   "execution_count": 7,
   "metadata": {},
   "outputs": [],
   "source": [
    "# print(X_train.shape)\n",
    "# print(X_test.shape)\n",
    "# print(X_val.shape)\n",
    "# X_test"
   ]
  },
  {
   "cell_type": "markdown",
   "metadata": {},
   "source": [
    "# Use saved model"
   ]
  },
  {
   "cell_type": "code",
   "execution_count": 8,
   "metadata": {},
   "outputs": [],
   "source": [
    "# model.decision_function(X_test)\n",
    "y_pred = model.predict(X_test)"
   ]
  },
  {
   "cell_type": "code",
   "execution_count": 9,
   "metadata": {},
   "outputs": [],
   "source": [
    "#? relabel to use classification metrics\n",
    "y_pred[y_pred == 1] = 0\n",
    "y_pred[y_pred == -1] = 1"
   ]
  },
  {
   "cell_type": "markdown",
   "metadata": {},
   "source": [
    "# Evaluate model"
   ]
  },
  {
   "cell_type": "code",
   "execution_count": 10,
   "metadata": {},
   "outputs": [],
   "source": [
    "from sklearn.metrics import classification_report, confusion_matrix, PrecisionRecallDisplay, roc_auc_score\n",
    "\n",
    "def evaluate(y_true, y_pred, plot_roc=False):\n",
    "    cm = confusion_matrix(y_true, y_pred)\n",
    "    print(cm)\n",
    "    print(classification_report(y_true, y_pred, digits=4))\n",
    "    roc_auc = roc_auc_score(y_true, y_pred)\n",
    "    print(roc_auc)\n",
    "\n",
    "    if plot_roc:\n",
    "        display = PrecisionRecallDisplay.from_predictions(y_true, y_pred, name=model_name)\n",
    "        _ = display.ax_.set_title('2-class Precision-Recall curve')"
   ]
  },
  {
   "cell_type": "code",
   "execution_count": 11,
   "metadata": {},
   "outputs": [
    {
     "name": "stdout",
     "output_type": "stream",
     "text": [
      "[[752410   9170]\n",
      " [  1036   1926]]\n",
      "              precision    recall  f1-score   support\n",
      "\n",
      "           0     0.9986    0.9880    0.9933    761580\n",
      "           1     0.1736    0.6502    0.2740      2962\n",
      "\n",
      "    accuracy                         0.9867    764542\n",
      "   macro avg     0.5861    0.8191    0.6336    764542\n",
      "weighted avg     0.9954    0.9867    0.9905    764542\n",
      "\n",
      "0.8190977847166908\n"
     ]
    }
   ],
   "source": [
    "evaluate(y_test, y_pred)"
   ]
  },
  {
   "cell_type": "code",
   "execution_count": 12,
   "metadata": {},
   "outputs": [
    {
     "data": {
      "text/html": [
       "<div>\n",
       "<style scoped>\n",
       "    .dataframe tbody tr th:only-of-type {\n",
       "        vertical-align: middle;\n",
       "    }\n",
       "\n",
       "    .dataframe tbody tr th {\n",
       "        vertical-align: top;\n",
       "    }\n",
       "\n",
       "    .dataframe thead th {\n",
       "        text-align: right;\n",
       "    }\n",
       "</style>\n",
       "<table border=\"1\" class=\"dataframe\">\n",
       "  <thead>\n",
       "    <tr style=\"text-align: right;\">\n",
       "      <th></th>\n",
       "      <th>StreamID</th>\n",
       "      <th>StartTime</th>\n",
       "      <th>Dur</th>\n",
       "      <th>Proto</th>\n",
       "      <th>SrcAddr</th>\n",
       "      <th>Sport</th>\n",
       "      <th>Dir</th>\n",
       "      <th>DstAddr</th>\n",
       "      <th>Dport</th>\n",
       "      <th>State</th>\n",
       "      <th>...</th>\n",
       "      <th>Proto_other</th>\n",
       "      <th>Service</th>\n",
       "      <th>Service_80</th>\n",
       "      <th>Service_443</th>\n",
       "      <th>Service_21</th>\n",
       "      <th>Service_22</th>\n",
       "      <th>Service_25</th>\n",
       "      <th>Service_6667</th>\n",
       "      <th>Service_other</th>\n",
       "      <th>Label_iforest</th>\n",
       "    </tr>\n",
       "  </thead>\n",
       "  <tbody>\n",
       "    <tr>\n",
       "      <th>0</th>\n",
       "      <td>1</td>\n",
       "      <td>2021-08-12 20:56:02.042618</td>\n",
       "      <td>0.248864</td>\n",
       "      <td>udp</td>\n",
       "      <td>150.35.87.62</td>\n",
       "      <td>59827</td>\n",
       "      <td>&lt;-&gt;</td>\n",
       "      <td>150.35.83.12</td>\n",
       "      <td>53</td>\n",
       "      <td>CON</td>\n",
       "      <td>...</td>\n",
       "      <td>0.0</td>\n",
       "      <td>other</td>\n",
       "      <td>0.0</td>\n",
       "      <td>0.0</td>\n",
       "      <td>0.0</td>\n",
       "      <td>0.0</td>\n",
       "      <td>0.0</td>\n",
       "      <td>0.0</td>\n",
       "      <td>1.0</td>\n",
       "      <td>0</td>\n",
       "    </tr>\n",
       "    <tr>\n",
       "      <th>1</th>\n",
       "      <td>2</td>\n",
       "      <td>2021-08-12 20:56:02.051273</td>\n",
       "      <td>0.000458</td>\n",
       "      <td>udp</td>\n",
       "      <td>216.149.170.165</td>\n",
       "      <td>15135</td>\n",
       "      <td>&lt;-&gt;</td>\n",
       "      <td>150.35.87.232</td>\n",
       "      <td>13365</td>\n",
       "      <td>CON</td>\n",
       "      <td>...</td>\n",
       "      <td>0.0</td>\n",
       "      <td>other</td>\n",
       "      <td>0.0</td>\n",
       "      <td>0.0</td>\n",
       "      <td>0.0</td>\n",
       "      <td>0.0</td>\n",
       "      <td>0.0</td>\n",
       "      <td>0.0</td>\n",
       "      <td>1.0</td>\n",
       "      <td>0</td>\n",
       "    </tr>\n",
       "    <tr>\n",
       "      <th>2</th>\n",
       "      <td>3</td>\n",
       "      <td>2021-08-12 20:56:02.056605</td>\n",
       "      <td>0.140449</td>\n",
       "      <td>tcp</td>\n",
       "      <td>81.114.119.142</td>\n",
       "      <td>3577</td>\n",
       "      <td>-&gt;</td>\n",
       "      <td>150.35.87.133</td>\n",
       "      <td>80</td>\n",
       "      <td>alltcp</td>\n",
       "      <td>...</td>\n",
       "      <td>0.0</td>\n",
       "      <td>80</td>\n",
       "      <td>1.0</td>\n",
       "      <td>0.0</td>\n",
       "      <td>0.0</td>\n",
       "      <td>0.0</td>\n",
       "      <td>0.0</td>\n",
       "      <td>0.0</td>\n",
       "      <td>0.0</td>\n",
       "      <td>0</td>\n",
       "    </tr>\n",
       "    <tr>\n",
       "      <th>3</th>\n",
       "      <td>4</td>\n",
       "      <td>2021-08-12 20:56:02.108284</td>\n",
       "      <td>0.000666</td>\n",
       "      <td>udp</td>\n",
       "      <td>150.35.87.141</td>\n",
       "      <td>55454</td>\n",
       "      <td>&lt;-&gt;</td>\n",
       "      <td>150.35.83.12</td>\n",
       "      <td>53</td>\n",
       "      <td>CON</td>\n",
       "      <td>...</td>\n",
       "      <td>0.0</td>\n",
       "      <td>other</td>\n",
       "      <td>0.0</td>\n",
       "      <td>0.0</td>\n",
       "      <td>0.0</td>\n",
       "      <td>0.0</td>\n",
       "      <td>0.0</td>\n",
       "      <td>0.0</td>\n",
       "      <td>1.0</td>\n",
       "      <td>0</td>\n",
       "    </tr>\n",
       "    <tr>\n",
       "      <th>4</th>\n",
       "      <td>5</td>\n",
       "      <td>2021-08-12 20:56:02.108367</td>\n",
       "      <td>0.000749</td>\n",
       "      <td>udp</td>\n",
       "      <td>150.35.87.141</td>\n",
       "      <td>51411</td>\n",
       "      <td>&lt;-&gt;</td>\n",
       "      <td>150.35.83.12</td>\n",
       "      <td>53</td>\n",
       "      <td>CON</td>\n",
       "      <td>...</td>\n",
       "      <td>0.0</td>\n",
       "      <td>other</td>\n",
       "      <td>0.0</td>\n",
       "      <td>0.0</td>\n",
       "      <td>0.0</td>\n",
       "      <td>0.0</td>\n",
       "      <td>0.0</td>\n",
       "      <td>0.0</td>\n",
       "      <td>1.0</td>\n",
       "      <td>0</td>\n",
       "    </tr>\n",
       "  </tbody>\n",
       "</table>\n",
       "<p>5 rows × 75 columns</p>\n",
       "</div>"
      ],
      "text/plain": [
       "   StreamID                   StartTime       Dur Proto          SrcAddr  \\\n",
       "0         1  2021-08-12 20:56:02.042618  0.248864   udp     150.35.87.62   \n",
       "1         2  2021-08-12 20:56:02.051273  0.000458   udp  216.149.170.165   \n",
       "2         3  2021-08-12 20:56:02.056605  0.140449   tcp   81.114.119.142   \n",
       "3         4  2021-08-12 20:56:02.108284  0.000666   udp    150.35.87.141   \n",
       "4         5  2021-08-12 20:56:02.108367  0.000749   udp    150.35.87.141   \n",
       "\n",
       "   Sport    Dir        DstAddr  Dport   State  ...  Proto_other  Service  \\\n",
       "0  59827    <->   150.35.83.12     53     CON  ...          0.0    other   \n",
       "1  15135    <->  150.35.87.232  13365     CON  ...          0.0    other   \n",
       "2   3577     ->  150.35.87.133     80  alltcp  ...          0.0       80   \n",
       "3  55454    <->   150.35.83.12     53     CON  ...          0.0    other   \n",
       "4  51411    <->   150.35.83.12     53     CON  ...          0.0    other   \n",
       "\n",
       "   Service_80  Service_443  Service_21  Service_22 Service_25  Service_6667  \\\n",
       "0         0.0          0.0         0.0         0.0        0.0           0.0   \n",
       "1         0.0          0.0         0.0         0.0        0.0           0.0   \n",
       "2         1.0          0.0         0.0         0.0        0.0           0.0   \n",
       "3         0.0          0.0         0.0         0.0        0.0           0.0   \n",
       "4         0.0          0.0         0.0         0.0        0.0           0.0   \n",
       "\n",
       "   Service_other  Label_iforest  \n",
       "0            1.0              0  \n",
       "1            1.0              0  \n",
       "2            0.0              0  \n",
       "3            1.0              0  \n",
       "4            1.0              0  \n",
       "\n",
       "[5 rows x 75 columns]"
      ]
     },
     "execution_count": 12,
     "metadata": {},
     "output_type": "execute_result"
    }
   ],
   "source": [
    "df_pred = pd.DataFrame(y_pred, columns=[f'Label_{model_name}'])\n",
    "dfn = pd.concat([df__test.reset_index(), df_pred], axis=1).drop(columns=['index'])\n",
    "dfn.head()"
   ]
  },
  {
   "cell_type": "markdown",
   "metadata": {},
   "source": [
    "## Checking score"
   ]
  },
  {
   "cell_type": "code",
   "execution_count": 13,
   "metadata": {},
   "outputs": [],
   "source": [
    "#? use the model to score the samples\n",
    "y_score = model.score_samples(X_test)"
   ]
  },
  {
   "cell_type": "code",
   "execution_count": 14,
   "metadata": {},
   "outputs": [
    {
     "data": {
      "text/html": [
       "<div>\n",
       "<style scoped>\n",
       "    .dataframe tbody tr th:only-of-type {\n",
       "        vertical-align: middle;\n",
       "    }\n",
       "\n",
       "    .dataframe tbody tr th {\n",
       "        vertical-align: top;\n",
       "    }\n",
       "\n",
       "    .dataframe thead th {\n",
       "        text-align: right;\n",
       "    }\n",
       "</style>\n",
       "<table border=\"1\" class=\"dataframe\">\n",
       "  <thead>\n",
       "    <tr style=\"text-align: right;\">\n",
       "      <th></th>\n",
       "      <th>StreamID</th>\n",
       "      <th>StartTime</th>\n",
       "      <th>Dur</th>\n",
       "      <th>Proto</th>\n",
       "      <th>SrcAddr</th>\n",
       "      <th>Sport</th>\n",
       "      <th>Dir</th>\n",
       "      <th>DstAddr</th>\n",
       "      <th>Dport</th>\n",
       "      <th>State</th>\n",
       "      <th>...</th>\n",
       "      <th>Service</th>\n",
       "      <th>Service_80</th>\n",
       "      <th>Service_443</th>\n",
       "      <th>Service_21</th>\n",
       "      <th>Service_22</th>\n",
       "      <th>Service_25</th>\n",
       "      <th>Service_6667</th>\n",
       "      <th>Service_other</th>\n",
       "      <th>Label_iforest</th>\n",
       "      <th>Score_iforest</th>\n",
       "    </tr>\n",
       "  </thead>\n",
       "  <tbody>\n",
       "    <tr>\n",
       "      <th>0</th>\n",
       "      <td>1</td>\n",
       "      <td>2021-08-12 20:56:02.042618</td>\n",
       "      <td>0.248864</td>\n",
       "      <td>udp</td>\n",
       "      <td>150.35.87.62</td>\n",
       "      <td>59827</td>\n",
       "      <td>&lt;-&gt;</td>\n",
       "      <td>150.35.83.12</td>\n",
       "      <td>53</td>\n",
       "      <td>CON</td>\n",
       "      <td>...</td>\n",
       "      <td>other</td>\n",
       "      <td>0.0</td>\n",
       "      <td>0.0</td>\n",
       "      <td>0.0</td>\n",
       "      <td>0.0</td>\n",
       "      <td>0.0</td>\n",
       "      <td>0.0</td>\n",
       "      <td>1.0</td>\n",
       "      <td>0</td>\n",
       "      <td>-0.329260</td>\n",
       "    </tr>\n",
       "    <tr>\n",
       "      <th>1</th>\n",
       "      <td>2</td>\n",
       "      <td>2021-08-12 20:56:02.051273</td>\n",
       "      <td>0.000458</td>\n",
       "      <td>udp</td>\n",
       "      <td>216.149.170.165</td>\n",
       "      <td>15135</td>\n",
       "      <td>&lt;-&gt;</td>\n",
       "      <td>150.35.87.232</td>\n",
       "      <td>13365</td>\n",
       "      <td>CON</td>\n",
       "      <td>...</td>\n",
       "      <td>other</td>\n",
       "      <td>0.0</td>\n",
       "      <td>0.0</td>\n",
       "      <td>0.0</td>\n",
       "      <td>0.0</td>\n",
       "      <td>0.0</td>\n",
       "      <td>0.0</td>\n",
       "      <td>1.0</td>\n",
       "      <td>0</td>\n",
       "      <td>-0.330604</td>\n",
       "    </tr>\n",
       "    <tr>\n",
       "      <th>2</th>\n",
       "      <td>3</td>\n",
       "      <td>2021-08-12 20:56:02.056605</td>\n",
       "      <td>0.140449</td>\n",
       "      <td>tcp</td>\n",
       "      <td>81.114.119.142</td>\n",
       "      <td>3577</td>\n",
       "      <td>-&gt;</td>\n",
       "      <td>150.35.87.133</td>\n",
       "      <td>80</td>\n",
       "      <td>alltcp</td>\n",
       "      <td>...</td>\n",
       "      <td>80</td>\n",
       "      <td>1.0</td>\n",
       "      <td>0.0</td>\n",
       "      <td>0.0</td>\n",
       "      <td>0.0</td>\n",
       "      <td>0.0</td>\n",
       "      <td>0.0</td>\n",
       "      <td>0.0</td>\n",
       "      <td>0</td>\n",
       "      <td>-0.356895</td>\n",
       "    </tr>\n",
       "    <tr>\n",
       "      <th>3</th>\n",
       "      <td>4</td>\n",
       "      <td>2021-08-12 20:56:02.108284</td>\n",
       "      <td>0.000666</td>\n",
       "      <td>udp</td>\n",
       "      <td>150.35.87.141</td>\n",
       "      <td>55454</td>\n",
       "      <td>&lt;-&gt;</td>\n",
       "      <td>150.35.83.12</td>\n",
       "      <td>53</td>\n",
       "      <td>CON</td>\n",
       "      <td>...</td>\n",
       "      <td>other</td>\n",
       "      <td>0.0</td>\n",
       "      <td>0.0</td>\n",
       "      <td>0.0</td>\n",
       "      <td>0.0</td>\n",
       "      <td>0.0</td>\n",
       "      <td>0.0</td>\n",
       "      <td>1.0</td>\n",
       "      <td>0</td>\n",
       "      <td>-0.314296</td>\n",
       "    </tr>\n",
       "    <tr>\n",
       "      <th>4</th>\n",
       "      <td>5</td>\n",
       "      <td>2021-08-12 20:56:02.108367</td>\n",
       "      <td>0.000749</td>\n",
       "      <td>udp</td>\n",
       "      <td>150.35.87.141</td>\n",
       "      <td>51411</td>\n",
       "      <td>&lt;-&gt;</td>\n",
       "      <td>150.35.83.12</td>\n",
       "      <td>53</td>\n",
       "      <td>CON</td>\n",
       "      <td>...</td>\n",
       "      <td>other</td>\n",
       "      <td>0.0</td>\n",
       "      <td>0.0</td>\n",
       "      <td>0.0</td>\n",
       "      <td>0.0</td>\n",
       "      <td>0.0</td>\n",
       "      <td>0.0</td>\n",
       "      <td>1.0</td>\n",
       "      <td>0</td>\n",
       "      <td>-0.312009</td>\n",
       "    </tr>\n",
       "  </tbody>\n",
       "</table>\n",
       "<p>5 rows × 76 columns</p>\n",
       "</div>"
      ],
      "text/plain": [
       "   StreamID                   StartTime       Dur Proto          SrcAddr  \\\n",
       "0         1  2021-08-12 20:56:02.042618  0.248864   udp     150.35.87.62   \n",
       "1         2  2021-08-12 20:56:02.051273  0.000458   udp  216.149.170.165   \n",
       "2         3  2021-08-12 20:56:02.056605  0.140449   tcp   81.114.119.142   \n",
       "3         4  2021-08-12 20:56:02.108284  0.000666   udp    150.35.87.141   \n",
       "4         5  2021-08-12 20:56:02.108367  0.000749   udp    150.35.87.141   \n",
       "\n",
       "   Sport    Dir        DstAddr  Dport   State  ...  Service  Service_80  \\\n",
       "0  59827    <->   150.35.83.12     53     CON  ...    other         0.0   \n",
       "1  15135    <->  150.35.87.232  13365     CON  ...    other         0.0   \n",
       "2   3577     ->  150.35.87.133     80  alltcp  ...       80         1.0   \n",
       "3  55454    <->   150.35.83.12     53     CON  ...    other         0.0   \n",
       "4  51411    <->   150.35.83.12     53     CON  ...    other         0.0   \n",
       "\n",
       "   Service_443  Service_21  Service_22  Service_25 Service_6667  \\\n",
       "0          0.0         0.0         0.0         0.0          0.0   \n",
       "1          0.0         0.0         0.0         0.0          0.0   \n",
       "2          0.0         0.0         0.0         0.0          0.0   \n",
       "3          0.0         0.0         0.0         0.0          0.0   \n",
       "4          0.0         0.0         0.0         0.0          0.0   \n",
       "\n",
       "   Service_other  Label_iforest  Score_iforest  \n",
       "0            1.0              0      -0.329260  \n",
       "1            1.0              0      -0.330604  \n",
       "2            0.0              0      -0.356895  \n",
       "3            1.0              0      -0.314296  \n",
       "4            1.0              0      -0.312009  \n",
       "\n",
       "[5 rows x 76 columns]"
      ]
     },
     "execution_count": 14,
     "metadata": {},
     "output_type": "execute_result"
    }
   ],
   "source": [
    "df_score = pd.DataFrame(y_score, columns=[f'Score_{model_name}'])\n",
    "dfn = pd.concat([dfn, df_score], axis=1)\n",
    "\n",
    "dfn.head()"
   ]
  },
  {
   "cell_type": "code",
   "execution_count": 15,
   "metadata": {},
   "outputs": [],
   "source": [
    "dfn[dfn[f'Label_{model_name}'] == 1][['StreamID','StartTime','Label',f'Label_{model_name}']].to_csv(f'result/{af}6.{pf}.{model_name}.{expname}.__{ra}__.detected.csv')"
   ]
  },
  {
   "cell_type": "markdown",
   "metadata": {},
   "source": [
    "### Describe"
   ]
  },
  {
   "cell_type": "code",
   "execution_count": 16,
   "metadata": {},
   "outputs": [
    {
     "name": "stdout",
     "output_type": "stream",
     "text": [
      "-0.473040    389\n",
      "-0.495118    196\n",
      "-0.470613    113\n",
      "-0.467518     91\n",
      "-0.653373     41\n",
      "            ... \n",
      "-0.474972      1\n",
      "-0.478805      1\n",
      "-0.483379      1\n",
      "-0.466628      1\n",
      "-0.502619      1\n",
      "Name: Score_iforest, Length: 7755, dtype: int64 \n",
      "\n",
      "count    11096.000000\n",
      "mean        -0.524650\n",
      "std          0.060798\n",
      "min         -0.765988\n",
      "25%         -0.566118\n",
      "50%         -0.496989\n",
      "75%         -0.475060\n",
      "max         -0.464703\n",
      "Name: Score_iforest, dtype: float64 \n",
      "\n"
     ]
    }
   ],
   "source": [
    "print(dfn.loc[(dfn[f'Label_{model_name}'] == 1)][f'Score_{model_name}'].value_counts(), '\\n')\n",
    "print(dfn.loc[(dfn[f'Label_{model_name}'] == 1)][f'Score_{model_name}'].describe(), '\\n')"
   ]
  },
  {
   "cell_type": "code",
   "execution_count": 17,
   "metadata": {},
   "outputs": [
    {
     "name": "stdout",
     "output_type": "stream",
     "text": [
      "-0.311085    3428\n",
      "-0.311441    3149\n",
      "-0.311626    3110\n",
      "-0.316132    3054\n",
      "-0.312745    2897\n",
      "             ... \n",
      "-0.340814       1\n",
      "-0.415229       1\n",
      "-0.324897       1\n",
      "-0.340646       1\n",
      "-0.414406       1\n",
      "Name: Score_iforest, Length: 124441, dtype: int64 \n",
      "\n",
      "count    752410.000000\n",
      "mean         -0.339238\n",
      "std           0.032884\n",
      "min          -0.464701\n",
      "25%          -0.356757\n",
      "50%          -0.323950\n",
      "75%          -0.313865\n",
      "max          -0.310354\n",
      "Name: Score_iforest, dtype: float64 \n",
      "\n"
     ]
    }
   ],
   "source": [
    "#? true normal scores\n",
    "print(dfn.loc[(dfn['Label'] != 5) & (dfn[f'Label_{model_name}'] == 0)][f'Score_{model_name}'].value_counts(), '\\n')\n",
    "print(dfn.loc[(dfn['Label'] != 5) & (dfn[f'Label_{model_name}'] == 0)][f'Score_{model_name}'].describe(), '\\n')"
   ]
  },
  {
   "cell_type": "code",
   "execution_count": 18,
   "metadata": {},
   "outputs": [],
   "source": [
    "# #? false alarm scores\n",
    "# print(dfn.loc[(dfn['Label'] != 5) & (dfn[f'Label_{model_name}'] == 1)][f'Score_{model_name}'].value_counts(), '\\n')\n",
    "# print(dfn.loc[(dfn['Label'] != 5) & (dfn[f'Label_{model_name}'] == 1)][f'Score_{model_name}'].describe(), '\\n')"
   ]
  },
  {
   "cell_type": "code",
   "execution_count": 19,
   "metadata": {},
   "outputs": [
    {
     "name": "stdout",
     "output_type": "stream",
     "text": [
      "-0.653373    41\n",
      "-0.651970    37\n",
      "-0.648786    36\n",
      "-0.635999    33\n",
      "-0.655341    30\n",
      "             ..\n",
      "-0.606535     1\n",
      "-0.638273     1\n",
      "-0.465388     1\n",
      "-0.609119     1\n",
      "-0.485490     1\n",
      "Name: Score_iforest, Length: 598, dtype: int64 \n",
      "\n",
      "count    1926.000000\n",
      "mean       -0.615474\n",
      "std         0.047183\n",
      "min        -0.718684\n",
      "25%        -0.644749\n",
      "50%        -0.622359\n",
      "75%        -0.603962\n",
      "max        -0.464727\n",
      "Name: Score_iforest, dtype: float64 \n",
      "\n"
     ]
    }
   ],
   "source": [
    "#? true detected scores\n",
    "print(dfn.loc[(dfn['Label'] == 5) & (dfn[f'Label_{model_name}'] == 1)][f'Score_{model_name}'].value_counts(), '\\n')\n",
    "print(dfn.loc[(dfn['Label'] == 5) & (dfn[f'Label_{model_name}'] == 1)][f'Score_{model_name}'].describe(), '\\n')"
   ]
  },
  {
   "cell_type": "code",
   "execution_count": 20,
   "metadata": {},
   "outputs": [],
   "source": [
    "# dfn.loc[(dfn['Label'] == 5) & (dfn[f'Label_{model_name}'] == 1)]"
   ]
  },
  {
   "cell_type": "markdown",
   "metadata": {},
   "source": [
    "## Apply thresh"
   ]
  },
  {
   "cell_type": "code",
   "execution_count": 21,
   "metadata": {},
   "outputs": [],
   "source": [
    "def evaluate_thresh(score, p=2, plot_roc=False):\n",
    "    print('\\n------------')\n",
    "    print('p =', p)\n",
    "\n",
    "    #? check the score for p% of outliers\n",
    "    score_threshold = np.percentile(score, p)\n",
    "    \n",
    "    print('score_threshold', score_threshold)\n",
    "\n",
    "    #? check the model performance at p% threshold\n",
    "    y_pred_1 = [1 if i < score_threshold else 0 for i in score]\n",
    "\n",
    "    #? check the prediction performance\n",
    "    evaluate(y_test, y_pred_1, plot_roc)\n",
    "\n",
    "    return y_pred_1"
   ]
  },
  {
   "cell_type": "code",
   "execution_count": null,
   "metadata": {},
   "outputs": [],
   "source": []
  },
  {
   "cell_type": "markdown",
   "metadata": {},
   "source": [
    "### No thresh"
   ]
  },
  {
   "cell_type": "code",
   "execution_count": 22,
   "metadata": {},
   "outputs": [
    {
     "name": "stdout",
     "output_type": "stream",
     "text": [
      "[[752410   9170]\n",
      " [  1036   1926]]\n",
      "              precision    recall  f1-score   support\n",
      "\n",
      "           0     0.9986    0.9880    0.9933    761580\n",
      "           1     0.1736    0.6502    0.2740      2962\n",
      "\n",
      "    accuracy                         0.9867    764542\n",
      "   macro avg     0.5861    0.8191    0.6336    764542\n",
      "weighted avg     0.9954    0.9867    0.9905    764542\n",
      "\n",
      "0.8190977847166908\n"
     ]
    },
    {
     "data": {
      "image/png": "[encoded data removed]",
      "text/plain": [
       "<Figure size 640x480 with 1 Axes>"
      ]
     },
     "metadata": {},
     "output_type": "display_data"
    }
   ],
   "source": [
    "evaluate(y_test, y_pred, plot_roc=True)\n",
    "\n",
    "dfn[dfn[f'Label_{model_name}'] == 1]['StreamID'].to_csv(f'result/{af}6.{pf}.{model_name}.{expname}.detected.__p=None__.csv', index=False)"
   ]
  },
  {
   "cell_type": "markdown",
   "metadata": {},
   "source": [
    "### p = 2%"
   ]
  },
  {
   "cell_type": "code",
   "execution_count": 23,
   "metadata": {},
   "outputs": [
    {
     "name": "stdout",
     "output_type": "stream",
     "text": [
      "\n",
      "------------\n",
      "p = 2\n",
      "score_threshold -0.44918330550413654\n",
      "[[748355  13225]\n",
      " [   896   2066]]\n",
      "              precision    recall  f1-score   support\n",
      "\n",
      "           0     0.9988    0.9826    0.9907    761580\n",
      "           1     0.1351    0.6975    0.2264      2962\n",
      "\n",
      "    accuracy                         0.9815    764542\n",
      "   macro avg     0.5670    0.8401    0.6085    764542\n",
      "weighted avg     0.9955    0.9815    0.9877    764542\n",
      "\n",
      "0.8400682368129841\n"
     ]
    },
    {
     "data": {
      "image/png": "[encoded data removed]",
      "text/plain": [
       "<Figure size 640x480 with 1 Axes>"
      ]
     },
     "metadata": {},
     "output_type": "display_data"
    }
   ],
   "source": [
    "y_thresh_200 = evaluate_thresh(y_score, 2, plot_roc=True)\n",
    "\n",
    "dfn[f'Label_{model_name}_thresh_2.0'] = pd.Series(y_thresh_200)\n",
    "dfn[dfn[f'Label_{model_name}_thresh_2.0'] == 1]['StreamID'].to_csv(f'result/{af}6.{pf}.{model_name}.{expname}.detected.__p=2.0__.csv', index=False)"
   ]
  },
  {
   "cell_type": "markdown",
   "metadata": {},
   "source": [
    "### p = 1%"
   ]
  },
  {
   "cell_type": "code",
   "execution_count": 24,
   "metadata": {},
   "outputs": [
    {
     "name": "stdout",
     "output_type": "stream",
     "text": [
      "\n",
      "------------\n",
      "p = 1\n",
      "score_threshold -0.4786329317468643\n",
      "[[755773   5807]\n",
      " [  1123   1839]]\n",
      "              precision    recall  f1-score   support\n",
      "\n",
      "           0     0.9985    0.9924    0.9954    761580\n",
      "           1     0.2405    0.6209    0.3467      2962\n",
      "\n",
      "    accuracy                         0.9909    764542\n",
      "   macro avg     0.6195    0.8066    0.6711    764542\n",
      "weighted avg     0.9956    0.9909    0.9929    764542\n",
      "\n",
      "0.8066196716308125\n"
     ]
    },
    {
     "data": {
      "image/png": "[encoded data removed]",
      "text/plain": [
       "<Figure size 640x480 with 1 Axes>"
      ]
     },
     "metadata": {},
     "output_type": "display_data"
    }
   ],
   "source": [
    "y_thresh_100 = evaluate_thresh(y_score, 1, plot_roc=True)\n",
    "\n",
    "dfn[f'Label_{model_name}_thresh_1.0'] = pd.Series(y_thresh_100)\n",
    "dfn[dfn[f'Label_{model_name}_thresh_1.0'] == 1]['StreamID'].to_csv(f'result/{af}6.{pf}.{model_name}.{expname}.__{ra}__.detected.__p=1.0__.csv', index=False)"
   ]
  },
  {
   "cell_type": "markdown",
   "metadata": {},
   "source": [
    "### p = 0.5%"
   ]
  },
  {
   "cell_type": "code",
   "execution_count": 25,
   "metadata": {},
   "outputs": [
    {
     "name": "stdout",
     "output_type": "stream",
     "text": [
      "\n",
      "------------\n",
      "p = 0.5\n",
      "score_threshold -0.5306271793260229\n",
      "[[759526   2054]\n",
      " [  1193   1769]]\n",
      "              precision    recall  f1-score   support\n",
      "\n",
      "           0     0.9984    0.9973    0.9979    761580\n",
      "           1     0.4627    0.5972    0.5214      2962\n",
      "\n",
      "    accuracy                         0.9958    764542\n",
      "   macro avg     0.7306    0.7973    0.7597    764542\n",
      "weighted avg     0.9964    0.9958    0.9960    764542\n",
      "\n",
      "0.7972672878316746\n"
     ]
    },
    {
     "data": {
      "image/png": "[encoded data removed]",
      "text/plain": [
       "<Figure size 640x480 with 1 Axes>"
      ]
     },
     "metadata": {},
     "output_type": "display_data"
    }
   ],
   "source": [
    "y_thresh_050 = evaluate_thresh(y_score, .5, plot_roc=True)\n",
    "\n",
    "dfn[f'Label_{model_name}_thresh_0.5'] = pd.Series(y_thresh_050)\n",
    "dfn[dfn[f'Label_{model_name}_thresh_0.5'] == 1]['StreamID'].to_csv(f'result/{af}6.{pf}.{model_name}.{expname}.__{ra}__.detected.__p=0.5__.csv', index=False)"
   ]
  },
  {
   "cell_type": "markdown",
   "metadata": {},
   "source": [
    "Reducing the threshold increases the precision (will recude the recall for class 1)"
   ]
  },
  {
   "cell_type": "code",
   "execution_count": null,
   "metadata": {},
   "outputs": [],
   "source": []
  },
  {
   "cell_type": "markdown",
   "metadata": {},
   "source": [
    "### p = 0.45%"
   ]
  },
  {
   "cell_type": "code",
   "execution_count": 26,
   "metadata": {},
   "outputs": [
    {
     "name": "stdout",
     "output_type": "stream",
     "text": [
      "\n",
      "------------\n",
      "p = 0.45\n",
      "score_threshold -0.5422179920372868\n",
      "[[759902   1678]\n",
      " [  1199   1763]]\n",
      "              precision    recall  f1-score   support\n",
      "\n",
      "           0     0.9984    0.9978    0.9981    761580\n",
      "           1     0.5124    0.5952    0.5507      2962\n",
      "\n",
      "    accuracy                         0.9962    764542\n",
      "   macro avg     0.7554    0.7965    0.7744    764542\n",
      "weighted avg     0.9965    0.9962    0.9964    764542\n",
      "\n",
      "0.796501313884233\n"
     ]
    },
    {
     "data": {
      "image/png": "[encoded data removed]",
      "text/plain": [
       "<Figure size 640x480 with 1 Axes>"
      ]
     },
     "metadata": {},
     "output_type": "display_data"
    }
   ],
   "source": [
    "y_thresh_045 = evaluate_thresh(y_score, .45, plot_roc=True)\n",
    "\n",
    "dfn[f'Label_{model_name}_thresh_0.45'] = pd.Series(y_thresh_045)\n",
    "dfn[dfn[f'Label_{model_name}_thresh_0.45'] == 1]['StreamID'].to_csv(f'result/{af}6.{pf}.{model_name}.{expname}.__{ra}__.detected.__p=0.45__.csv', index=False)"
   ]
  },
  {
   "cell_type": "markdown",
   "metadata": {},
   "source": [
    "### p = 0.4%"
   ]
  },
  {
   "cell_type": "code",
   "execution_count": 27,
   "metadata": {},
   "outputs": [
    {
     "name": "stdout",
     "output_type": "stream",
     "text": [
      "\n",
      "------------\n",
      "p = 0.4\n",
      "score_threshold -0.5545033574490165\n",
      "[[760264   1316]\n",
      " [  1219   1743]]\n",
      "              precision    recall  f1-score   support\n",
      "\n",
      "           0     0.9984    0.9983    0.9983    761580\n",
      "           1     0.5698    0.5885    0.5790      2962\n",
      "\n",
      "    accuracy                         0.9967    764542\n",
      "   macro avg     0.7841    0.7934    0.7887    764542\n",
      "weighted avg     0.9967    0.9967    0.9967    764542\n",
      "\n",
      "0.7933628804568291\n"
     ]
    },
    {
     "data": {
      "image/png": "[encoded data removed]",
      "text/plain": [
       "<Figure size 640x480 with 1 Axes>"
      ]
     },
     "metadata": {},
     "output_type": "display_data"
    }
   ],
   "source": [
    "y_thresh_040 = evaluate_thresh(y_score, .4, plot_roc=True)\n",
    "\n",
    "dfn[f'Label_{model_name}_thresh_0.4'] = pd.Series(y_thresh_040)\n",
    "dfn[dfn[f'Label_{model_name}_thresh_0.4'] == 1]['StreamID'].to_csv(f'result/{af}6.{pf}.{model_name}.{expname}.__{ra}__.detected.__p=0.4__.csv', index=False)"
   ]
  },
  {
   "cell_type": "code",
   "execution_count": null,
   "metadata": {},
   "outputs": [],
   "source": []
  },
  {
   "cell_type": "code",
   "execution_count": 28,
   "metadata": {},
   "outputs": [],
   "source": [
    "dfn[['StreamID','StartTime','Label',f'Label_{model_name}',f'Label_{model_name}_thresh_1.0',f'Label_{model_name}_thresh_0.5',f'Label_{model_name}_thresh_0.45',f'Label_{model_name}_thresh_0.4']].to_csv(f'result/{af}6.{pf}.{model_name}.{expname}.__{ra}__.dfn.csv')"
   ]
  },
  {
   "cell_type": "code",
   "execution_count": null,
   "metadata": {},
   "outputs": [],
   "source": []
  },
  {
   "cell_type": "markdown",
   "metadata": {},
   "source": [
    "# Improv\n",
    "\n",
    "It's a simple post-processing trick.  \n",
    "By considering the ratio of number of flows detected as bots over the total flows from one SrcAddr, we can observe that if flows classified as bots by the model come from the same SrcAddr will be more likely to be bots (in contrast with only few flows come from an SrcAddr are detected as bots, which could be noise).  \n",
    "\n",
    "**Note** that using this tactic will require analysing detected batch after a certain time period. It will decrease the capability to detect early anomalies.  "
   ]
  },
  {
   "cell_type": "code",
   "execution_count": 29,
   "metadata": {},
   "outputs": [],
   "source": [
    "pred_field = f'Label_{model_name}_thresh_1.0'"
   ]
  },
  {
   "cell_type": "code",
   "execution_count": 30,
   "metadata": {},
   "outputs": [],
   "source": [
    "detected = dfn.loc[(dfn[pred_field] == 1)]"
   ]
  },
  {
   "cell_type": "code",
   "execution_count": 31,
   "metadata": {},
   "outputs": [],
   "source": [
    "# print('total 0', len(dfn.loc[(dfn['Label'] == 0)]))\n",
    "# print('total 1', len(dfn.loc[(dfn['Label'] == 1)]))\n",
    "# print('total 2', len(dfn.loc[(dfn['Label'] == 2)]))\n",
    "# print('total 3', len(dfn.loc[(dfn['Label'] == 3)]))\n",
    "# print('total 4', len(dfn.loc[(dfn['Label'] == 4)]))\n",
    "# detected['Label'].value_counts()"
   ]
  },
  {
   "cell_type": "code",
   "execution_count": 32,
   "metadata": {},
   "outputs": [
    {
     "data": {
      "text/plain": [
       "150.35.87.168      1839\n",
       "150.35.87.62        714\n",
       "150.35.89.99        425\n",
       "120.105.252.106     341\n",
       "150.35.99.72        239\n",
       "                   ... \n",
       "196.8.219.103         1\n",
       "80.240.30.7           1\n",
       "114.4.136.89          1\n",
       "215.43.156.4          1\n",
       "192.12.25.68          1\n",
       "Name: SrcAddr, Length: 991, dtype: int64"
      ]
     },
     "execution_count": 32,
     "metadata": {},
     "output_type": "execute_result"
    }
   ],
   "source": [
    "detected_by_src = detected['SrcAddr'].value_counts()\n",
    "detected_by_src"
   ]
  },
  {
   "cell_type": "code",
   "execution_count": 33,
   "metadata": {},
   "outputs": [
    {
     "data": {
      "text/plain": [
       "count              7646\n",
       "unique              991\n",
       "top       150.35.87.168\n",
       "freq               1839\n",
       "Name: SrcAddr, dtype: object"
      ]
     },
     "execution_count": 33,
     "metadata": {},
     "output_type": "execute_result"
    }
   ],
   "source": [
    "detected['SrcAddr'].describe()"
   ]
  },
  {
   "cell_type": "code",
   "execution_count": 34,
   "metadata": {},
   "outputs": [
    {
     "data": {
      "text/html": [
       "<div>\n",
       "<style scoped>\n",
       "    .dataframe tbody tr th:only-of-type {\n",
       "        vertical-align: middle;\n",
       "    }\n",
       "\n",
       "    .dataframe tbody tr th {\n",
       "        vertical-align: top;\n",
       "    }\n",
       "\n",
       "    .dataframe thead th {\n",
       "        text-align: right;\n",
       "    }\n",
       "</style>\n",
       "<table border=\"1\" class=\"dataframe\">\n",
       "  <thead>\n",
       "    <tr style=\"text-align: right;\">\n",
       "      <th></th>\n",
       "      <th>n_flows_total</th>\n",
       "      <th>n_flows_detected</th>\n",
       "      <th>p</th>\n",
       "    </tr>\n",
       "  </thead>\n",
       "  <tbody>\n",
       "    <tr>\n",
       "      <th>214.104.40.118</th>\n",
       "      <td>81</td>\n",
       "      <td>81.0</td>\n",
       "      <td>1.0</td>\n",
       "    </tr>\n",
       "    <tr>\n",
       "      <th>195.171.88.110</th>\n",
       "      <td>62</td>\n",
       "      <td>62.0</td>\n",
       "      <td>1.0</td>\n",
       "    </tr>\n",
       "    <tr>\n",
       "      <th>84.5.198.99</th>\n",
       "      <td>35</td>\n",
       "      <td>35.0</td>\n",
       "      <td>1.0</td>\n",
       "    </tr>\n",
       "    <tr>\n",
       "      <th>92.238.40.133</th>\n",
       "      <td>34</td>\n",
       "      <td>34.0</td>\n",
       "      <td>1.0</td>\n",
       "    </tr>\n",
       "    <tr>\n",
       "      <th>89.52.119.227</th>\n",
       "      <td>34</td>\n",
       "      <td>34.0</td>\n",
       "      <td>1.0</td>\n",
       "    </tr>\n",
       "    <tr>\n",
       "      <th>...</th>\n",
       "      <td>...</td>\n",
       "      <td>...</td>\n",
       "      <td>...</td>\n",
       "    </tr>\n",
       "    <tr>\n",
       "      <th>197.75.169.85</th>\n",
       "      <td>1</td>\n",
       "      <td>0.0</td>\n",
       "      <td>0.0</td>\n",
       "    </tr>\n",
       "    <tr>\n",
       "      <th>176.22.230.180</th>\n",
       "      <td>1</td>\n",
       "      <td>0.0</td>\n",
       "      <td>0.0</td>\n",
       "    </tr>\n",
       "    <tr>\n",
       "      <th>88.230.136.131</th>\n",
       "      <td>1</td>\n",
       "      <td>0.0</td>\n",
       "      <td>0.0</td>\n",
       "    </tr>\n",
       "    <tr>\n",
       "      <th>82.55.192.57</th>\n",
       "      <td>1</td>\n",
       "      <td>0.0</td>\n",
       "      <td>0.0</td>\n",
       "    </tr>\n",
       "    <tr>\n",
       "      <th>181.93.231.242</th>\n",
       "      <td>1</td>\n",
       "      <td>0.0</td>\n",
       "      <td>0.0</td>\n",
       "    </tr>\n",
       "  </tbody>\n",
       "</table>\n",
       "<p>102321 rows × 3 columns</p>\n",
       "</div>"
      ],
      "text/plain": [
       "                n_flows_total  n_flows_detected    p\n",
       "214.104.40.118             81              81.0  1.0\n",
       "195.171.88.110             62              62.0  1.0\n",
       "84.5.198.99                35              35.0  1.0\n",
       "92.238.40.133              34              34.0  1.0\n",
       "89.52.119.227              34              34.0  1.0\n",
       "...                       ...               ...  ...\n",
       "197.75.169.85               1               0.0  0.0\n",
       "176.22.230.180              1               0.0  0.0\n",
       "88.230.136.131              1               0.0  0.0\n",
       "82.55.192.57                1               0.0  0.0\n",
       "181.93.231.242              1               0.0  0.0\n",
       "\n",
       "[102321 rows x 3 columns]"
      ]
     },
     "execution_count": 34,
     "metadata": {},
     "output_type": "execute_result"
    }
   ],
   "source": [
    "\"\"\" consider one SrcAddr, how many flows are detected as bot over total of flows \"\"\"\n",
    "counts_by_src = dfn['SrcAddr'].value_counts()\n",
    "pd_counts_by_src = counts_by_src.to_frame().rename(columns={'SrcAddr': 'n_flows_total'})\n",
    "pd_detected_by_src = detected_by_src.to_frame().rename(columns= {'SrcAddr': 'n_flows_detected'})\n",
    "\n",
    "pd_by_src = pd.concat([pd_counts_by_src, pd_detected_by_src], axis=1).fillna(0)\n",
    "pd_by_src['p'] = pd_by_src['n_flows_detected']/pd_by_src['n_flows_total']\n",
    "pd_by_src = pd_by_src.sort_values(by=['p', 'n_flows_detected'], ascending=[False, False])\n",
    "\n",
    "pd_by_src"
   ]
  },
  {
   "cell_type": "code",
   "execution_count": 35,
   "metadata": {},
   "outputs": [],
   "source": [
    "idx_keep = detected_by_src[detected_by_src > 100].index\n",
    "dfn[f'{pred_field}_improv'] = dfn[pred_field]\n",
    "dfn.loc[(dfn[pred_field] == 1) & (~dfn['SrcAddr'].isin(idx_keep)), f'{pred_field}_improv'] = 0"
   ]
  },
  {
   "cell_type": "code",
   "execution_count": 36,
   "metadata": {},
   "outputs": [],
   "source": [
    "y_pred_improv = dfn[f'{pred_field}_improv'].values"
   ]
  },
  {
   "cell_type": "code",
   "execution_count": 37,
   "metadata": {},
   "outputs": [
    {
     "name": "stdout",
     "output_type": "stream",
     "text": [
      "[[759172   2408]\n",
      " [  1123   1839]]\n",
      "              precision    recall  f1-score   support\n",
      "\n",
      "           0     0.9985    0.9968    0.9977    761580\n",
      "           1     0.4330    0.6209    0.5102      2962\n",
      "\n",
      "    accuracy                         0.9954    764542\n",
      "   macro avg     0.7158    0.8089    0.7539    764542\n",
      "weighted avg     0.9963    0.9954    0.9958    764542\n",
      "\n",
      "0.8088512165768457\n"
     ]
    }
   ],
   "source": [
    "#? re-evaluate\n",
    "evaluate(y_test, y_pred_improv)"
   ]
  },
  {
   "cell_type": "code",
   "execution_count": null,
   "metadata": {},
   "outputs": [],
   "source": []
  },
  {
   "cell_type": "markdown",
   "metadata": {},
   "source": [
    "## Improv Pipeline"
   ]
  },
  {
   "cell_type": "code",
   "execution_count": 38,
   "metadata": {},
   "outputs": [],
   "source": [
    "def improv(pred_field, p='None', num_thresh=100, per_thresh=0.5):\n",
    "    \"\"\"\n",
    "    num_thresh: Only `SrcAddr` that has more than `num_thresh` detected as bot is classified as bot, otherwise consider them as normal.\n",
    "    per_thresh: Only `SrcAddr` that has n_detected/n_total > per_thresh  detected as bot is classified as bot, otherwise consider them as normal.\n",
    "    \"\"\"\n",
    "    detected = dfn.loc[(dfn[pred_field] == 1)]\n",
    "\n",
    "    counts_by_src = dfn['SrcAddr'].value_counts()\n",
    "    detected_by_src = detected['SrcAddr'].value_counts()\n",
    "    # display(detected_by_src)\n",
    "\n",
    "    pd_counts_by_src = counts_by_src.to_frame().rename(columns={'SrcAddr': 'n_flows_total'})\n",
    "    pd_detected_by_src = detected_by_src.to_frame().rename(columns= {'SrcAddr': 'n_flows_detected'})\n",
    "    \n",
    "    pd_by_src = pd.concat([pd_counts_by_src, pd_detected_by_src], axis=1).fillna(0)\n",
    "    pd_by_src['p'] = pd_by_src['n_flows_detected']/pd_by_src['n_flows_total']\n",
    "    pd_by_src = pd_by_src.sort_values(by=['p', 'n_flows_detected'], ascending=[False, False])\n",
    "    \n",
    "\n",
    "    #? debug\n",
    "    # # display(pd_counts_by_src)\n",
    "    # # display(pd_detected_by_src)\n",
    "    # display(pd_by_src)\n",
    "\n",
    "    # concernAddr = pd_by_src[pd_by_src['p'] > per_thresh].index\n",
    "    # display(pd_by_src[pd_by_src['p'] > per_thresh])\n",
    "    # display(detected[detected['SrcAddr'].isin(concernAddr)])\n",
    "\n",
    "    dfn[f'{pred_field}_improv'] = dfn[pred_field]\n",
    "    if num_thresh == 0 and per_thresh > 0:\n",
    "        idx_keep = pd_by_src[pd_by_src['p'] > per_thresh].index\n",
    "        dfn.loc[(dfn[pred_field] == 1) & (~dfn['SrcAddr'].isin(idx_keep)), f'{pred_field}_improv'] = 0\n",
    "    elif num_thresh > 0 and per_thresh == 0:\n",
    "        idx_keep = pd_by_src[pd_by_src['n_flows_detected'] > num_thresh].index\n",
    "        dfn.loc[(dfn[pred_field] == 1) & (~dfn['SrcAddr'].isin(idx_keep)), f'{pred_field}_improv'] = 0\n",
    "    elif num_thresh > 0 and per_thresh > 0:\n",
    "        idx_keep = pd_by_src[(pd_by_src['n_flows_detected'] > num_thresh) & (pd_by_src['p'] > per_thresh)].index\n",
    "        dfn.loc[(dfn[pred_field] == 1) & (~dfn['SrcAddr'].isin(idx_keep)), f'{pred_field}_improv'] = 0\n",
    "    \n",
    "    y_pred_improv = dfn[f'{pred_field}_improv'].values\n",
    "\n",
    "\n",
    "    #? re-evaluate\n",
    "    evaluate(y_test, y_pred_improv, plot_roc=True)\n",
    "\n",
    "    #? save\n",
    "    dfn[dfn[f'{pred_field}_improv'] == 1]['StreamID'].to_csv(f'result/{af}6.{pf}.{model_name}.{expname}.__{ra}__.detected.__p={p}__.__improv_{num_thresh}_{per_thresh}__.csv', index=False)\n",
    "    dfn[dfn[f'{pred_field}_improv'] == 1].to_csv(f'result/{af}6.{pf}.{model_name}.{expname}.__{ra}__.detected.__p={p}__.__improv_{num_thresh}_{per_thresh}__.full.csv', index=False)"
   ]
  },
  {
   "cell_type": "code",
   "execution_count": null,
   "metadata": {},
   "outputs": [],
   "source": []
  },
  {
   "cell_type": "code",
   "execution_count": null,
   "metadata": {},
   "outputs": [],
   "source": []
  },
  {
   "cell_type": "code",
   "execution_count": 39,
   "metadata": {},
   "outputs": [
    {
     "name": "stdout",
     "output_type": "stream",
     "text": [
      "[[760651    929]\n",
      " [  1036   1926]]\n",
      "              precision    recall  f1-score   support\n",
      "\n",
      "           0     0.9986    0.9988    0.9987    761580\n",
      "           1     0.6746    0.6502    0.6622      2962\n",
      "\n",
      "    accuracy                         0.9974    764542\n",
      "   macro avg     0.8366    0.8245    0.8305    764542\n",
      "weighted avg     0.9974    0.9974    0.9974    764542\n",
      "\n",
      "0.8245082471763143\n"
     ]
    },
    {
     "data": {
      "image/png": "[encoded data removed]",
      "text/plain": [
       "<Figure size 640x480 with 1 Axes>"
      ]
     },
     "metadata": {},
     "output_type": "display_data"
    }
   ],
   "source": [
    "improv(f'Label_{model_name}')"
   ]
  },
  {
   "cell_type": "code",
   "execution_count": 40,
   "metadata": {},
   "outputs": [
    {
     "name": "stdout",
     "output_type": "stream",
     "text": [
      "[[759692   1888]\n",
      " [   896   2066]]\n",
      "              precision    recall  f1-score   support\n",
      "\n",
      "           0     0.9988    0.9975    0.9982    761580\n",
      "           1     0.5225    0.6975    0.5975      2962\n",
      "\n",
      "    accuracy                         0.9964    764542\n",
      "   macro avg     0.7607    0.8475    0.7978    764542\n",
      "weighted avg     0.9970    0.9964    0.9966    764542\n",
      "\n",
      "0.8475113156753491\n"
     ]
    },
    {
     "data": {
      "image/png": "[encoded data removed]",
      "text/plain": [
       "<Figure size 640x480 with 1 Axes>"
      ]
     },
     "metadata": {},
     "output_type": "display_data"
    }
   ],
   "source": [
    "improv(f'Label_{model_name}_thresh_2.0', '2.0')"
   ]
  },
  {
   "cell_type": "code",
   "execution_count": 41,
   "metadata": {},
   "outputs": [
    {
     "name": "stdout",
     "output_type": "stream",
     "text": [
      "[[761000    580]\n",
      " [  1123   1839]]\n",
      "              precision    recall  f1-score   support\n",
      "\n",
      "           0     0.9985    0.9992    0.9989    761580\n",
      "           1     0.7602    0.6209    0.6835      2962\n",
      "\n",
      "    accuracy                         0.9978    764542\n",
      "   macro avg     0.8794    0.8101    0.8412    764542\n",
      "weighted avg     0.9976    0.9978    0.9977    764542\n",
      "\n",
      "0.8100513531350536\n"
     ]
    },
    {
     "data": {
      "image/png": "[encoded data removed]",
      "text/plain": [
       "<Figure size 640x480 with 1 Axes>"
      ]
     },
     "metadata": {},
     "output_type": "display_data"
    }
   ],
   "source": [
    "improv(f'Label_{model_name}_thresh_1.0', '1.0')"
   ]
  },
  {
   "cell_type": "code",
   "execution_count": 42,
   "metadata": {},
   "outputs": [
    {
     "name": "stdout",
     "output_type": "stream",
     "text": [
      "[[761392    188]\n",
      " [  1193   1769]]\n",
      "              precision    recall  f1-score   support\n",
      "\n",
      "           0     0.9984    0.9998    0.9991    761580\n",
      "           1     0.9039    0.5972    0.7193      2962\n",
      "\n",
      "    accuracy                         0.9982    764542\n",
      "   macro avg     0.9512    0.7985    0.8592    764542\n",
      "weighted avg     0.9981    0.9982    0.9980    764542\n",
      "\n",
      "0.7984923725240246\n"
     ]
    },
    {
     "data": {
      "image/png": "[encoded data removed]",
      "text/plain": [
       "<Figure size 640x480 with 1 Axes>"
      ]
     },
     "metadata": {},
     "output_type": "display_data"
    }
   ],
   "source": [
    "improv(f'Label_{model_name}_thresh_0.5', '0.5')"
   ]
  },
  {
   "cell_type": "code",
   "execution_count": 43,
   "metadata": {},
   "outputs": [
    {
     "name": "stdout",
     "output_type": "stream",
     "text": [
      "[[761419    161]\n",
      " [  1199   1763]]\n",
      "              precision    recall  f1-score   support\n",
      "\n",
      "           0     0.9984    0.9998    0.9991    761580\n",
      "           1     0.9163    0.5952    0.7217      2962\n",
      "\n",
      "    accuracy                         0.9982    764542\n",
      "   macro avg     0.9574    0.7975    0.8604    764542\n",
      "weighted avg     0.9981    0.9982    0.9980    764542\n",
      "\n",
      "0.7974972696603825\n"
     ]
    },
    {
     "data": {
      "image/png": "[encoded data removed]",
      "text/plain": [
       "<Figure size 640x480 with 1 Axes>"
      ]
     },
     "metadata": {},
     "output_type": "display_data"
    }
   ],
   "source": [
    "improv(f'Label_{model_name}_thresh_0.45', '0.45')"
   ]
  },
  {
   "cell_type": "code",
   "execution_count": 44,
   "metadata": {},
   "outputs": [
    {
     "name": "stdout",
     "output_type": "stream",
     "text": [
      "[[761452    128]\n",
      " [  1219   1743]]\n",
      "              precision    recall  f1-score   support\n",
      "\n",
      "           0     0.9984    0.9998    0.9991    761580\n",
      "           1     0.9316    0.5885    0.7213      2962\n",
      "\n",
      "    accuracy                         0.9982    764542\n",
      "   macro avg     0.9650    0.7941    0.8602    764542\n",
      "weighted avg     0.9981    0.9982    0.9980    764542\n",
      "\n",
      "0.7941428379136951\n"
     ]
    },
    {
     "data": {
      "image/png": "[encoded data removed]",
      "text/plain": [
       "<Figure size 640x480 with 1 Axes>"
      ]
     },
     "metadata": {},
     "output_type": "display_data"
    }
   ],
   "source": [
    "improv(f'Label_{model_name}_thresh_0.4', '0.4')"
   ]
  },
  {
   "cell_type": "code",
   "execution_count": null,
   "metadata": {},
   "outputs": [],
   "source": []
  },
  {
   "cell_type": "code",
   "execution_count": null,
   "metadata": {},
   "outputs": [],
   "source": []
  },
  {
   "cell_type": "code",
   "execution_count": null,
   "metadata": {},
   "outputs": [],
   "source": []
  },
  {
   "cell_type": "code",
   "execution_count": 50,
   "metadata": {},
   "outputs": [],
   "source": [
    "dfn[dfn['Label'] == 5][['StreamID','StartTime','Proto','State','Dport','LabelStr','Label',f'Label_{model_name}',f'Label_{model_name}_thresh_1.0',f'Label_{model_name}_thresh_0.5',f'Label_{model_name}_thresh_0.45',f'Label_{model_name}_thresh_0.4']].to_csv(f'result/{af}6.{pf}.{model_name}.{expname}.__{ra}__.bots.csv')"
   ]
  },
  {
   "cell_type": "code",
   "execution_count": 51,
   "metadata": {},
   "outputs": [],
   "source": [
    "dfn[(dfn['Label'] == 5) & (dfn[f'Label_{model_name}'] == 1)][['StreamID','StartTime','Proto','State','Dport','LabelStr','Label',f'Label_{model_name}',f'Label_{model_name}_thresh_1.0',f'Label_{model_name}_thresh_0.5',f'Label_{model_name}_thresh_0.45',f'Label_{model_name}_thresh_0.4']].to_csv(f'result/{af}6.{pf}.{model_name}.{expname}.__{ra}__.true_bots.csv')"
   ]
  },
  {
   "cell_type": "code",
   "execution_count": 52,
   "metadata": {},
   "outputs": [],
   "source": [
    "dfn[(dfn['Label'] == 5) & (dfn[f'Label_{model_name}'] == 0)][['StreamID','StartTime','Proto','State','Dport','LabelStr','Label',f'Label_{model_name}',f'Label_{model_name}_thresh_1.0',f'Label_{model_name}_thresh_0.5',f'Label_{model_name}_thresh_0.45',f'Label_{model_name}_thresh_0.4']].to_csv(f'result/{af}6.{pf}.{model_name}.{expname}.__{ra}__.missed_bots.csv')"
   ]
  },
  {
   "cell_type": "code",
   "execution_count": 49,
   "metadata": {},
   "outputs": [
    {
     "name": "stderr",
     "output_type": "stream",
     "text": [
      "C:\\Users\\ZEPHYRUS\\AppData\\Local\\Temp\\ipykernel_14092\\639440608.py:1: UserWarning: Boolean Series key will be reindexed to match DataFrame index.\n",
      "  dfn[dfn['Label'] != 5][(dfn[f'Label_{model_name}'] == 1) | (dfn[f'Label_{model_name}_thresh_1.0'] == 1) | (dfn[f'Label_{model_name}_thresh_0.5'] == 1) | (dfn[f'Label_{model_name}_thresh_0.4'] == 1)][['StreamID','StartTime','Proto','State','Dport','LabelStr','Label',f'Label_{model_name}',f'Label_{model_name}_thresh_1.0',f'Label_{model_name}_thresh_0.5',f'Label_{model_name}_thresh_0.45',f'Label_{model_name}_thresh_0.4']].to_csv(f'result/{af}6.{pf}.{model_name}.{expname}.__{ra}__.false_alarm.csv')\n"
     ]
    }
   ],
   "source": [
    "dfn[dfn['Label'] != 5][(dfn[f'Label_{model_name}'] == 1) | (dfn[f'Label_{model_name}_thresh_1.0'] == 1) | (dfn[f'Label_{model_name}_thresh_0.5'] == 1) | (dfn[f'Label_{model_name}_thresh_0.4'] == 1)][['StreamID','StartTime','Proto','State','Dport','LabelStr','Label',f'Label_{model_name}',f'Label_{model_name}_thresh_1.0',f'Label_{model_name}_thresh_0.5',f'Label_{model_name}_thresh_0.45',f'Label_{model_name}_thresh_0.4']].to_csv(f'result/{af}6.{pf}.{model_name}.{expname}.__{ra}__.false_alarm.csv')"
   ]
  },
  {
   "cell_type": "code",
   "execution_count": null,
   "metadata": {},
   "outputs": [],
   "source": []
  },
  {
   "cell_type": "code",
   "execution_count": 53,
   "metadata": {},
   "outputs": [
    {
     "data": {
      "text/plain": [
       "flow=From-Botnet-V45-TCP-Attempt-SPAM                          980\n",
       "flow=From-Botnet-V45-ICMP                                      812\n",
       "flow=From-Botnet-V46-TCP-Not-Encrypted-SMTP-Private-Proxy-1    104\n",
       "flow=From-Botnet-V46-TCP-Attempt                                21\n",
       "flow=From-Botnet-V46-TCP-Attempt-SPAM                            6\n",
       "flow=From-Botnet-V45-TCP-CC106-IRC-Not-Encrypted                 2\n",
       "flow=From-Botnet-V46-TCP-CC1-HTTP-Not-Encrypted                  1\n",
       "Name: LabelStr, dtype: int64"
      ]
     },
     "execution_count": 53,
     "metadata": {},
     "output_type": "execute_result"
    }
   ],
   "source": [
    "dfn[(dfn['Label'] == 5) & (dfn[f'Label_{model_name}'] == 1)]['LabelStr'].value_counts()"
   ]
  },
  {
   "cell_type": "code",
   "execution_count": 54,
   "metadata": {},
   "outputs": [
    {
     "data": {
      "text/plain": [
       "flow=From-Botnet-V46-TCP-Attempt                                 401\n",
       "flow=From-Botnet-V45-TCP-Attempt-SPAM                            147\n",
       "flow=From-Botnet-V46-TCP-Not-Encrypted-SMTP-Private-Proxy-1       77\n",
       "flow=From-Botnet-V46-UDP-DNS                                      49\n",
       "flow=From-Botnet-V45-TCP-CC73-Not-Encrypted                       47\n",
       "flow=From-Botnet-V45-UDP-DNS                                      31\n",
       "flow=From-Botnet-V45-UDP-Attempt                                  29\n",
       "flow=From-Botnet-V46-TCP-Established-HTTP-To-Microsoft-6          21\n",
       "flow=From-Botnet-V46-TCP-Established-SPAM                         19\n",
       "flow=From-Botnet-V46-TCP-Established-Custom-Encryption-1          17\n",
       "flow=From-Botnet-V46-TCP-HTTP-Google-Net-Established-2            17\n",
       "flow=From-Botnet-V46-TCP-Established-SSL-To-Microsoft-6           16\n",
       "flow=From-Botnet-V46-TCP-Established-HTTP-Ad-46                   13\n",
       "flow=From-Botnet-V46-TCP-Established-SSL-To-Microsoft-7           13\n",
       "flow=From-Botnet-V46-TCP-Attempt-SPAM                             13\n",
       "flow=From-Botnet-V46-TCP-CC12-HTTP-Not-Encrypted                  11\n",
       "flow=From-Botnet-V46-TCP-Established-HTTP-To-Microsoft-7          10\n",
       "flow=From-Botnet-V46-TCP-WEB-Established-SSL                      10\n",
       "flow=From-Botnet-V46-TCP-Established-HTTP-To-Microsoft-4           9\n",
       "flow=From-Botnet-V46-TCP-Established-HTTP-To-Microsoft-5           9\n",
       "flow=From-Botnet-V46-TCP-CC5-Plain-HTTP-Encrypted-Data             7\n",
       "flow=From-Botnet-V46-TCP-Established-HTTP-To-Microsoft-Live-1      7\n",
       "flow=From-Botnet-V46-TCP-Established-HTTP-To-Microsoft-Live-3      7\n",
       "flow=From-Botnet-V46-TCP-Established-SSL-To-Microsoft-4            6\n",
       "flow=From-Botnet-V46-TCP-Established-HTTP-To-Microsoft-Live-2      6\n",
       "flow=From-Botnet-V46-TCP-WEB-Established                           5\n",
       "flow=From-Botnet-V46-TCP-Established-SSL-To-Microsoft-5            5\n",
       "flow=From-Botnet-V45-TCP-HTTP-Google-Net-Established-6             4\n",
       "flow=From-Botnet-V46-TCP-CC1-HTTP-Not-Encrypted                    4\n",
       "flow=From-Botnet-V46-TCP-Established-HTTP-Binary-Download-3        4\n",
       "flow=From-Botnet-V45-TCP-Established-HTTP-Ad-40                    3\n",
       "flow=From-Botnet-V46-UDP-Attempt-DNS                               3\n",
       "flow=From-Botnet-V46-TCP-Established-SSL-To-Microsoft-3            3\n",
       "flow=From-Botnet-V45-TCP-CC106-IRC-Not-Encrypted                   2\n",
       "flow=From-Botnet-V46-TCP-Established-HTTP-Binary-Download-1        2\n",
       "flow=From-Botnet-V45-TCP-Established                               2\n",
       "flow=From-Botnet-V45-TCP-Established-HTTP-Ad-62                    1\n",
       "flow=From-Botnet-V46-TCP-Established-Custom-Encryption-8           1\n",
       "flow=From-Botnet-V46-TCP-Established-HTTP-Ad-4                     1\n",
       "flow=From-Botnet-V46-TCP-CC7-Custom-Encryption                     1\n",
       "flow=From-Botnet-V46-TCP-HTTP-Google-Net-Established-6             1\n",
       "flow=From-Botnet-V45-TCP-WEB-Established                           1\n",
       "flow=From-Botnet-V46-TCP-Established                               1\n",
       "Name: LabelStr, dtype: int64"
      ]
     },
     "execution_count": 54,
     "metadata": {},
     "output_type": "execute_result"
    }
   ],
   "source": [
    "dfn[(dfn['Label'] == 5) & (dfn[f'Label_{model_name}'] == 0)]['LabelStr'].value_counts()"
   ]
  }
 ],
 "metadata": {
  "interpreter": {
   "hash": "ee5cc6fef2d70a7e71ee3826687cbd150f18158e0b1eef11d4f4f92bb920e304"
  },
  "kernelspec": {
   "display_name": "Python 3.9.6 64-bit",
   "language": "python",
   "name": "python3"
  },
  "language_info": {
   "codemirror_mode": {
    "name": "ipython",
    "version": 3
   },
   "file_extension": ".py",
   "mimetype": "text/x-python",
   "name": "python",
   "nbconvert_exporter": "python",
   "pygments_lexer": "ipython3",
   "version": "3.9.6"
  },
  "orig_nbformat": 4
 },
 "nbformat": 4,
 "nbformat_minor": 2
}
