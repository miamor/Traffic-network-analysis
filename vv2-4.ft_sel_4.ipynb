{
 "cells": [
  {
   "cell_type": "markdown",
   "metadata": {
    "colab_type": "text",
    "id": "z47K0yNEqyAN"
   },
   "source": [
    "# Importing libraries"
   ]
  },
  {
   "cell_type": "code",
   "execution_count": 1,
   "metadata": {},
   "outputs": [],
   "source": [
    "import numpy as np\n",
    "import pandas as pd\n",
    "from IPython.display import display\n",
    "\n",
    "import warnings\n",
    "warnings.filterwarnings(\"ignore\")"
   ]
  },
  {
   "cell_type": "markdown",
   "metadata": {},
   "source": [
    "# Read data"
   ]
  },
  {
   "cell_type": "code",
   "execution_count": 2,
   "metadata": {},
   "outputs": [],
   "source": [
    "af = 'vv'\n",
    "\n",
    "# df__train = pd.read_csv(f'data/tr.{af}1.csv')\n",
    "# df__test = pd.read_csv(f'./data/t.{af}1.csv')\n",
    "df = pd.read_csv(f'./data/v.{af}1.csv', index_col=[0])"
   ]
  },
  {
   "cell_type": "code",
   "execution_count": 3,
   "metadata": {},
   "outputs": [],
   "source": [
    "df.loc[df['Label'] != 5, 'LabelBin'] = 0\n",
    "df.loc[df['Label'] == 5, 'LabelBin'] = 1"
   ]
  },
  {
   "cell_type": "code",
   "execution_count": 4,
   "metadata": {},
   "outputs": [
    {
     "data": {
      "text/plain": [
       "Index(['StreamID', 'StartTime', 'Dur', 'Proto', 'SrcAddr', 'Sport', 'Dir',\n",
       "       'DstAddr', 'Dport', 'State', 'sTos', 'dTos', 'TotPkts', 'TotBytes',\n",
       "       'SrcBytes', 'Label', 'LabelStr', 'PktsPerSec', 'BytesPerSec',\n",
       "       'SrcBytesPerSec', 'BytesPerPkt', 'DstBytes', 'DstBytesPerSec', 'sTos_0',\n",
       "       'sTos_2', 'sTos_3', 'sTos_1', 'sTos_-1', 'dTos_0', 'dTos_-1', 'dTos_3',\n",
       "       'dTos_2', 'dTos_1', 'State_orig', 'State_CON', 'State_alltcp',\n",
       "       'State_INT', 'State_S_', 'State_URP', 'State_ECO', 'State_RED',\n",
       "       'State_REQ', 'State_ECR', 'State_URH', 'State_TXD', 'State_URFIL',\n",
       "       'State_R_', 'State_URN', 'State_RSP', 'State_URHPRO', 'State_A_',\n",
       "       'State_other', 'Flag_nan', 'Flag_S', 'Flag_A', 'Flag_P', 'Flag_R',\n",
       "       'Flag_F', 'Proto_udp', 'Proto_tcp', 'Proto_icmp', 'Proto_rtp',\n",
       "       'Proto_rtcp', 'Proto_igmp', 'Proto_arp', 'Proto_other', 'Service',\n",
       "       'Service_80', 'Service_443', 'Service_21', 'Service_22', 'Service_25',\n",
       "       'Service_6667', 'Service_other', 'SportHex', 'DportHex', 'sTosStr',\n",
       "       'dTosStr', 'pattern', 'key', 'LabelBin'],\n",
       "      dtype='object')"
      ]
     },
     "execution_count": 4,
     "metadata": {},
     "output_type": "execute_result"
    }
   ],
   "source": [
    "df.columns"
   ]
  },
  {
   "cell_type": "markdown",
   "metadata": {},
   "source": [
    "# Step forward"
   ]
  },
  {
   "cell_type": "code",
   "execution_count": 8,
   "metadata": {},
   "outputs": [],
   "source": [
    "fts = ['Dur', \n",
    "    # 'Proto', 'SrcAddr', 'Dir', 'DstAddr', 'State', \n",
    "    'Sport', 'Dport', 'sTos', 'dTos', 'TotPkts', 'TotBytes',\n",
    "    'SrcBytes', 'PktsPerSec', 'BytesPerSec',\n",
    "    'SrcBytesPerSec', 'BytesPerPkt', 'DstBytes', 'DstBytesPerSec', \n",
    "    # 'sTos_0', 'sTos_2', 'sTos_3', 'sTos_1', 'sTos_-1', \n",
    "    # 'dTos_0', 'dTos_-1', 'dTos_3', 'dTos_2', 'dTos_1', \n",
    "    # 'State_orig', 'Service',\n",
    "    'State_CON', 'State_alltcp',\n",
    "    'State_INT', 'State_S_', 'State_URP', 'State_ECO', 'State_RED',\n",
    "    'State_REQ', 'State_ECR', 'State_URH', 'State_TXD', 'State_URFIL',\n",
    "    'State_R_', 'State_URN', 'State_RSP', 'State_URHPRO', 'State_A_',\n",
    "    'State_other', 'Flag_nan', 'Flag_S', 'Flag_A', 'Flag_P', 'Flag_R',\n",
    "    'Flag_F', 'Proto_udp', 'Proto_tcp', 'Proto_icmp', 'Proto_rtp',\n",
    "    'Proto_rtcp', 'Proto_igmp', 'Proto_arp', 'Proto_other', \n",
    "    'Service_80', 'Service_443', 'Service_21', 'Service_22', 'Service_25',\n",
    "    'Service_6667', 'Service_other'\n",
    "]"
   ]
  },
  {
   "cell_type": "code",
   "execution_count": 9,
   "metadata": {},
   "outputs": [],
   "source": [
    "X = df[fts].values\n",
    "y = df['LabelBin'].values"
   ]
  },
  {
   "cell_type": "code",
   "execution_count": 10,
   "metadata": {},
   "outputs": [
    {
     "name": "stderr",
     "output_type": "stream",
     "text": [
      "[Parallel(n_jobs=3)]: Using backend LokyBackend with 3 concurrent workers.\n",
      "[Parallel(n_jobs=3)]: Done  35 tasks      | elapsed:   27.8s\n",
      "[Parallel(n_jobs=3)]: Done  53 out of  53 | elapsed:   35.9s finished\n",
      "\n",
      "[2022-10-04 23:19:12] Features: 1/20 -- score: 0.9924185752100356[Parallel(n_jobs=3)]: Using backend LokyBackend with 3 concurrent workers.\n",
      "[Parallel(n_jobs=3)]: Done  35 tasks      | elapsed:   48.4s\n",
      "[Parallel(n_jobs=3)]: Done  52 out of  52 | elapsed:  1.2min finished\n",
      "\n",
      "[2022-10-04 23:20:26] Features: 2/20 -- score: 0.9941095847414181[Parallel(n_jobs=3)]: Using backend LokyBackend with 3 concurrent workers.\n",
      "[Parallel(n_jobs=3)]: Done  35 tasks      | elapsed:   46.1s\n",
      "[Parallel(n_jobs=3)]: Done  51 out of  51 | elapsed:  1.1min finished\n",
      "\n",
      "[2022-10-04 23:21:32] Features: 3/20 -- score: 0.9968468492032769[Parallel(n_jobs=3)]: Using backend LokyBackend with 3 concurrent workers.\n",
      "[Parallel(n_jobs=3)]: Done  35 tasks      | elapsed:   53.8s\n",
      "[Parallel(n_jobs=3)]: Done  50 out of  50 | elapsed:  1.2min finished\n",
      "\n",
      "[2022-10-04 23:22:46] Features: 4/20 -- score: 0.9973438202952531[Parallel(n_jobs=3)]: Using backend LokyBackend with 3 concurrent workers.\n",
      "[Parallel(n_jobs=3)]: Done  35 tasks      | elapsed:   54.3s\n",
      "[Parallel(n_jobs=3)]: Done  49 out of  49 | elapsed:  1.2min finished\n",
      "\n",
      "[2022-10-04 23:24:00] Features: 5/20 -- score: 0.9978041724646627[Parallel(n_jobs=3)]: Using backend LokyBackend with 3 concurrent workers.\n",
      "[Parallel(n_jobs=3)]: Done  35 tasks      | elapsed:   38.0s\n",
      "[Parallel(n_jobs=3)]: Done  48 out of  48 | elapsed:   50.8s finished\n",
      "\n",
      "[2022-10-04 23:24:51] Features: 6/20 -- score: 0.9980879691145544[Parallel(n_jobs=3)]: Using backend LokyBackend with 3 concurrent workers.\n",
      "[Parallel(n_jobs=3)]: Done  35 tasks      | elapsed:   41.6s\n",
      "[Parallel(n_jobs=3)]: Done  47 out of  47 | elapsed:   53.4s finished\n",
      "\n",
      "[2022-10-04 23:25:45] Features: 7/20 -- score: 0.9979153370510259[Parallel(n_jobs=3)]: Using backend LokyBackend with 3 concurrent workers.\n",
      "[Parallel(n_jobs=3)]: Done  35 tasks      | elapsed:   36.5s\n",
      "[Parallel(n_jobs=3)]: Done  46 out of  46 | elapsed:   46.5s finished\n",
      "\n",
      "[2022-10-04 23:26:32] Features: 8/20 -- score: 0.9980304250933782[Parallel(n_jobs=3)]: Using backend LokyBackend with 3 concurrent workers.\n",
      "[Parallel(n_jobs=3)]: Done  35 tasks      | elapsed:   46.9s\n",
      "[Parallel(n_jobs=3)]: Done  45 out of  45 | elapsed:   58.2s finished\n",
      "\n",
      "[2022-10-04 23:27:30] Features: 9/20 -- score: 0.9981075863945008[Parallel(n_jobs=3)]: Using backend LokyBackend with 3 concurrent workers.\n",
      "[Parallel(n_jobs=3)]: Done  35 tasks      | elapsed:   45.9s\n",
      "[Parallel(n_jobs=3)]: Done  44 out of  44 | elapsed:   56.1s finished\n",
      "\n",
      "[2022-10-04 23:28:27] Features: 10/20 -- score: 0.9982174431622008[Parallel(n_jobs=3)]: Using backend LokyBackend with 3 concurrent workers.\n",
      "[Parallel(n_jobs=3)]: Done  35 tasks      | elapsed:   41.3s\n",
      "[Parallel(n_jobs=3)]: Done  43 out of  43 | elapsed:   49.4s finished\n",
      "\n",
      "[2022-10-04 23:29:17] Features: 11/20 -- score: 0.9982239822555163[Parallel(n_jobs=3)]: Using backend LokyBackend with 3 concurrent workers.\n",
      "[Parallel(n_jobs=3)]: Done  35 tasks      | elapsed:   37.5s\n",
      "[Parallel(n_jobs=3)]: Done  42 out of  42 | elapsed:   44.5s finished\n",
      "\n",
      "[2022-10-04 23:30:02] Features: 12/20 -- score: 0.9982357526234842[Parallel(n_jobs=3)]: Using backend LokyBackend with 3 concurrent workers.\n",
      "[Parallel(n_jobs=3)]: Done  35 tasks      | elapsed:   48.5s\n",
      "[Parallel(n_jobs=3)]: Done  41 out of  41 | elapsed:   54.8s finished\n",
      "\n",
      "[2022-10-04 23:30:57] Features: 13/20 -- score: 0.9980997394825224[Parallel(n_jobs=3)]: Using backend LokyBackend with 3 concurrent workers.\n",
      "[Parallel(n_jobs=3)]: Done  35 tasks      | elapsed:   45.1s\n",
      "[Parallel(n_jobs=3)]: Done  40 out of  40 | elapsed:   49.8s finished\n",
      "\n",
      "[2022-10-04 23:31:47] Features: 14/20 -- score: 0.9982619089967462[Parallel(n_jobs=3)]: Using backend LokyBackend with 3 concurrent workers.\n",
      "[Parallel(n_jobs=3)]: Done  39 out of  39 | elapsed:   46.7s finished\n",
      "\n",
      "[2022-10-04 23:32:34] Features: 15/20 -- score: 0.9981324349490996[Parallel(n_jobs=3)]: Using backend LokyBackend with 3 concurrent workers.\n",
      "[Parallel(n_jobs=3)]: Done  38 out of  38 | elapsed:   45.9s finished\n",
      "\n",
      "[2022-10-04 23:33:21] Features: 16/20 -- score: 0.9982527542661045[Parallel(n_jobs=3)]: Using backend LokyBackend with 3 concurrent workers.\n",
      "[Parallel(n_jobs=3)]: Done  37 out of  37 | elapsed:   51.9s finished\n",
      "\n",
      "[2022-10-04 23:34:13] Features: 17/20 -- score: 0.9983364546605427[Parallel(n_jobs=3)]: Using backend LokyBackend with 3 concurrent workers.\n",
      "[Parallel(n_jobs=3)]: Done  36 out of  36 | elapsed:   52.5s finished\n",
      "\n",
      "[2022-10-04 23:35:06] Features: 18/20 -- score: 0.9981716695089926[Parallel(n_jobs=3)]: Using backend LokyBackend with 3 concurrent workers.\n",
      "[Parallel(n_jobs=3)]: Done  35 out of  35 | elapsed:   51.7s finished\n",
      "\n",
      "[2022-10-04 23:35:59] Features: 19/20 -- score: 0.998163822597014[Parallel(n_jobs=3)]: Using backend LokyBackend with 3 concurrent workers.\n",
      "[Parallel(n_jobs=3)]: Done  34 out of  34 | elapsed:   42.0s finished\n",
      "\n",
      "[2022-10-04 23:36:41] Features: 20/20 -- score: 0.9982553699034307"
     ]
    }
   ],
   "source": [
    "from sklearn.ensemble import RandomForestClassifier\n",
    "\n",
    "from mlxtend.feature_selection import SequentialFeatureSelector as SFS\n",
    "\n",
    "sfs = SFS(RandomForestClassifier(n_estimators=10, n_jobs=10, random_state=0), \n",
    "           k_features=20,\n",
    "           forward=True, \n",
    "           floating=False,\n",
    "           verbose=2,\n",
    "           scoring='accuracy',\n",
    "           cv=2,\n",
    "           n_jobs=10\\\n",
    "        )\n",
    "\n",
    "sfs = sfs.fit(X, y)"
   ]
  },
  {
   "cell_type": "code",
   "execution_count": 13,
   "metadata": {},
   "outputs": [
    {
     "data": {
      "text/plain": [
       "Index(['Sport', 'Dport', 'TotPkts', 'TotBytes', 'SrcBytes', 'PktsPerSec',\n",
       "       'State_INT', 'State_URH', 'State_URN', 'State_RSP', 'State_A_',\n",
       "       'Flag_S', 'Flag_P', 'Proto_tcp', 'Proto_igmp', 'Proto_other',\n",
       "       'Service_443', 'Service_21', 'Service_6667', 'Service_other'],\n",
       "      dtype='object')"
      ]
     },
     "execution_count": 13,
     "metadata": {},
     "output_type": "execute_result"
    }
   ],
   "source": [
    "selected_ft = df[fts].columns[list(sfs.k_feature_idx_)]\n",
    "selected_ft"
   ]
  }
 ],
 "metadata": {
  "interpreter": {
   "hash": "ee5cc6fef2d70a7e71ee3826687cbd150f18158e0b1eef11d4f4f92bb920e304"
  },
  "kernelspec": {
   "display_name": "Python 3.9.6 64-bit",
   "language": "python",
   "name": "python3"
  },
  "language_info": {
   "codemirror_mode": {
    "name": "ipython",
    "version": 3
   },
   "file_extension": ".py",
   "mimetype": "text/x-python",
   "name": "python",
   "nbconvert_exporter": "python",
   "pygments_lexer": "ipython3",
   "version": "3.9.6"
  },
  "orig_nbformat": 4
 },
 "nbformat": 4,
 "nbformat_minor": 2
}
