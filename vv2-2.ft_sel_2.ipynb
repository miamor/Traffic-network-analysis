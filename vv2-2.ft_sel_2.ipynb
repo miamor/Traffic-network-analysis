{
 "cells": [
  {
   "cell_type": "markdown",
   "metadata": {
    "colab_type": "text",
    "id": "z47K0yNEqyAN"
   },
   "source": [
    "# Importing libraries"
   ]
  },
  {
   "cell_type": "code",
   "execution_count": 1,
   "metadata": {},
   "outputs": [],
   "source": [
    "import numpy as np\n",
    "import pandas as pd\n",
    "from IPython.display import display\n",
    "import matplotlib.pyplot as plt\n",
    "import seaborn as sns\n",
    "from scipy import stats\n",
    "\n",
    "import warnings\n",
    "warnings.filterwarnings(\"ignore\")"
   ]
  },
  {
   "cell_type": "markdown",
   "metadata": {},
   "source": [
    "# Read data"
   ]
  },
  {
   "cell_type": "code",
   "execution_count": 2,
   "metadata": {},
   "outputs": [],
   "source": [
    "af = 'vv'\n",
    "\n",
    "# df__train = pd.read_csv(f'data/tr.{af}1.csv')\n",
    "# df__test = pd.read_csv(f'./data/t.{af}1.csv')\n",
    "df = pd.read_csv(f'./data/v.{af}1.csv', index_col=[0])"
   ]
  },
  {
   "cell_type": "code",
   "execution_count": 3,
   "metadata": {},
   "outputs": [],
   "source": [
    "df.loc[df['Label'] != 5, 'LabelBin'] = 0\n",
    "df.loc[df['Label'] == 5, 'LabelBin'] = 1"
   ]
  },
  {
   "cell_type": "code",
   "execution_count": 4,
   "metadata": {},
   "outputs": [
    {
     "data": {
      "text/plain": [
       "Index(['StreamID', 'StartTime', 'Dur', 'Proto', 'SrcAddr', 'Sport', 'Dir',\n",
       "       'DstAddr', 'Dport', 'State', 'sTos', 'dTos', 'TotPkts', 'TotBytes',\n",
       "       'SrcBytes', 'Label', 'LabelStr', 'PktsPerSec', 'BytesPerSec',\n",
       "       'SrcBytesPerSec', 'BytesPerPkt', 'DstBytes', 'DstBytesPerSec', 'Dir_0',\n",
       "       'Dir_1', 'Dir_2', 'Dir_3', 'Dir_4', 'Dir_5', 'Dir_6', 'sTos_0',\n",
       "       'sTos_2', 'sTos_3', 'sTos_1', 'sTos_-1', 'dTos_0', 'dTos_-1', 'dTos_3',\n",
       "       'dTos_2', 'dTos_1', 'State_orig', 'State_CON', 'State_alltcp',\n",
       "       'State_INT', 'State_S_', 'State_URP', 'State_ECO', 'State_RED',\n",
       "       'State_REQ', 'State_ECR', 'State_URH', 'State_TXD', 'State_URFIL',\n",
       "       'State_R_', 'State_URN', 'State_RSP', 'State_URHPRO', 'State_A_',\n",
       "       'State_other', 'Flag_nan', 'Flag_S', 'Flag_A', 'Flag_P', 'Flag_R',\n",
       "       'Flag_F', 'Proto_udp', 'Proto_tcp', 'Proto_icmp', 'Proto_rtp',\n",
       "       'Proto_rtcp', 'Proto_igmp', 'Proto_arp', 'Proto_other', 'Service',\n",
       "       'Service_80', 'Service_443', 'Service_21', 'Service_22', 'Service_25',\n",
       "       'Service_6667', 'Service_other', 'LabelBin'],\n",
       "      dtype='object')"
      ]
     },
     "execution_count": 4,
     "metadata": {},
     "output_type": "execute_result"
    }
   ],
   "source": [
    "df.columns"
   ]
  },
  {
   "cell_type": "code",
   "execution_count": 9,
   "metadata": {},
   "outputs": [],
   "source": [
    "def mean_encoding(df_train, df_test, categorical_vars):    \n",
    "    #? temporary copy of the original dataframes\n",
    "    df_train_temp = df_train.copy()\n",
    "    df_test_temp = df_test.copy()\n",
    "    \n",
    "    #? iterate over each variable\n",
    "    for col in categorical_vars:\n",
    "        \n",
    "        #? make a dictionary of categories, target-mean pairs\n",
    "        target_mean_dict = df_train.groupby([col])['LabelBin'].mean().to_dict()\n",
    "        \n",
    "        #? replace the categories by the mean of the target\n",
    "        df_train_temp[col] = df_train[col].map(target_mean_dict)\n",
    "        df_test_temp[col] = df_test[col].map(target_mean_dict)\n",
    "    \n",
    "    #? drop the target from the daatset\n",
    "    df_train_temp.drop(['LabelBin'], axis=1, inplace=True)\n",
    "    df_test_temp.drop(['LabelBin'], axis=1, inplace=True)\n",
    "    \n",
    "    return df_train_temp, df_test_temp"
   ]
  },
  {
   "cell_type": "markdown",
   "metadata": {},
   "source": [
    "# On categorical features"
   ]
  },
  {
   "cell_type": "code",
   "execution_count": 14,
   "metadata": {},
   "outputs": [],
   "source": [
    "cat_fts = [\n",
    "    'Proto', 'Service', 'State', 'Dir', 'sTos', 'dTos'\n",
    "]"
   ]
  },
  {
   "cell_type": "code",
   "execution_count": 15,
   "metadata": {},
   "outputs": [
    {
     "data": {
      "text/plain": [
       "((535242, 7), (229390, 7))"
      ]
     },
     "execution_count": 15,
     "metadata": {},
     "output_type": "execute_result"
    }
   ],
   "source": [
    "from sklearn.model_selection import train_test_split\n",
    "\n",
    "X_train, X_test, y_train, y_test = train_test_split(\n",
    "    df[cat_fts + ['LabelBin']],\n",
    "    df['LabelBin'],\n",
    "    test_size=0.3,\n",
    "    random_state=0\n",
    ")\n",
    "\n",
    "X_train.shape, X_test.shape"
   ]
  },
  {
   "cell_type": "code",
   "execution_count": 20,
   "metadata": {},
   "outputs": [],
   "source": [
    "X_train_enc, X_test_enc = mean_encoding(X_train, X_test, cat_fts)"
   ]
  },
  {
   "cell_type": "code",
   "execution_count": 21,
   "metadata": {},
   "outputs": [
    {
     "data": {
      "text/html": [
       "<div>\n",
       "<style scoped>\n",
       "    .dataframe tbody tr th:only-of-type {\n",
       "        vertical-align: middle;\n",
       "    }\n",
       "\n",
       "    .dataframe tbody tr th {\n",
       "        vertical-align: top;\n",
       "    }\n",
       "\n",
       "    .dataframe thead th {\n",
       "        text-align: right;\n",
       "    }\n",
       "</style>\n",
       "<table border=\"1\" class=\"dataframe\">\n",
       "  <thead>\n",
       "    <tr style=\"text-align: right;\">\n",
       "      <th></th>\n",
       "      <th>Proto</th>\n",
       "      <th>Service</th>\n",
       "      <th>State</th>\n",
       "      <th>Dir</th>\n",
       "      <th>sTos</th>\n",
       "      <th>dTos</th>\n",
       "    </tr>\n",
       "  </thead>\n",
       "  <tbody>\n",
       "    <tr>\n",
       "      <th>87202</th>\n",
       "      <td>0.000494</td>\n",
       "      <td>0.003</td>\n",
       "      <td>0.000512</td>\n",
       "      <td>0.000512</td>\n",
       "      <td>0.015214</td>\n",
       "      <td>0.004661</td>\n",
       "    </tr>\n",
       "    <tr>\n",
       "      <th>358990</th>\n",
       "      <td>0.000494</td>\n",
       "      <td>0.003</td>\n",
       "      <td>0.000512</td>\n",
       "      <td>0.000512</td>\n",
       "      <td>0.015214</td>\n",
       "      <td>0.004661</td>\n",
       "    </tr>\n",
       "    <tr>\n",
       "      <th>583705</th>\n",
       "      <td>0.000494</td>\n",
       "      <td>0.003</td>\n",
       "      <td>0.000512</td>\n",
       "      <td>0.000512</td>\n",
       "      <td>0.015214</td>\n",
       "      <td>0.004661</td>\n",
       "    </tr>\n",
       "    <tr>\n",
       "      <th>600690</th>\n",
       "      <td>0.000494</td>\n",
       "      <td>0.003</td>\n",
       "      <td>0.000512</td>\n",
       "      <td>0.000512</td>\n",
       "      <td>0.015214</td>\n",
       "      <td>0.004661</td>\n",
       "    </tr>\n",
       "    <tr>\n",
       "      <th>80990</th>\n",
       "      <td>0.000494</td>\n",
       "      <td>0.003</td>\n",
       "      <td>0.000512</td>\n",
       "      <td>0.000512</td>\n",
       "      <td>0.015214</td>\n",
       "      <td>0.004661</td>\n",
       "    </tr>\n",
       "  </tbody>\n",
       "</table>\n",
       "</div>"
      ],
      "text/plain": [
       "           Proto  Service     State       Dir      sTos      dTos\n",
       "87202   0.000494    0.003  0.000512  0.000512  0.015214  0.004661\n",
       "358990  0.000494    0.003  0.000512  0.000512  0.015214  0.004661\n",
       "583705  0.000494    0.003  0.000512  0.000512  0.015214  0.004661\n",
       "600690  0.000494    0.003  0.000512  0.000512  0.015214  0.004661\n",
       "80990   0.000494    0.003  0.000512  0.000512  0.015214  0.004661"
      ]
     },
     "execution_count": 21,
     "metadata": {},
     "output_type": "execute_result"
    }
   ],
   "source": [
    "X_train_enc.head()"
   ]
  },
  {
   "cell_type": "code",
   "execution_count": 17,
   "metadata": {},
   "outputs": [
    {
     "data": {
      "text/html": [
       "<div>\n",
       "<style scoped>\n",
       "    .dataframe tbody tr th:only-of-type {\n",
       "        vertical-align: middle;\n",
       "    }\n",
       "\n",
       "    .dataframe tbody tr th {\n",
       "        vertical-align: top;\n",
       "    }\n",
       "\n",
       "    .dataframe thead th {\n",
       "        text-align: right;\n",
       "    }\n",
       "</style>\n",
       "<table border=\"1\" class=\"dataframe\">\n",
       "  <thead>\n",
       "    <tr style=\"text-align: right;\">\n",
       "      <th></th>\n",
       "      <th>Proto</th>\n",
       "      <th>Service</th>\n",
       "      <th>State</th>\n",
       "      <th>Dir</th>\n",
       "      <th>sTos</th>\n",
       "      <th>dTos</th>\n",
       "    </tr>\n",
       "  </thead>\n",
       "  <tbody>\n",
       "    <tr>\n",
       "      <th>312240</th>\n",
       "      <td>0.000494</td>\n",
       "      <td>0.003</td>\n",
       "      <td>0.000512</td>\n",
       "      <td>0.000512</td>\n",
       "      <td>0.015214</td>\n",
       "      <td>0.004661</td>\n",
       "    </tr>\n",
       "    <tr>\n",
       "      <th>15746</th>\n",
       "      <td>0.000494</td>\n",
       "      <td>0.003</td>\n",
       "      <td>0.000512</td>\n",
       "      <td>0.000512</td>\n",
       "      <td>0.015214</td>\n",
       "      <td>0.004661</td>\n",
       "    </tr>\n",
       "    <tr>\n",
       "      <th>104911</th>\n",
       "      <td>0.000494</td>\n",
       "      <td>0.003</td>\n",
       "      <td>0.000512</td>\n",
       "      <td>0.000512</td>\n",
       "      <td>0.015214</td>\n",
       "      <td>0.004661</td>\n",
       "    </tr>\n",
       "    <tr>\n",
       "      <th>360555</th>\n",
       "      <td>0.000494</td>\n",
       "      <td>0.003</td>\n",
       "      <td>0.000512</td>\n",
       "      <td>0.000512</td>\n",
       "      <td>0.015214</td>\n",
       "      <td>0.004661</td>\n",
       "    </tr>\n",
       "    <tr>\n",
       "      <th>263250</th>\n",
       "      <td>0.000494</td>\n",
       "      <td>0.003</td>\n",
       "      <td>0.000512</td>\n",
       "      <td>0.000512</td>\n",
       "      <td>0.015214</td>\n",
       "      <td>0.004661</td>\n",
       "    </tr>\n",
       "  </tbody>\n",
       "</table>\n",
       "</div>"
      ],
      "text/plain": [
       "           Proto  Service     State       Dir      sTos      dTos\n",
       "312240  0.000494    0.003  0.000512  0.000512  0.015214  0.004661\n",
       "15746   0.000494    0.003  0.000512  0.000512  0.015214  0.004661\n",
       "104911  0.000494    0.003  0.000512  0.000512  0.015214  0.004661\n",
       "360555  0.000494    0.003  0.000512  0.000512  0.015214  0.004661\n",
       "263250  0.000494    0.003  0.000512  0.000512  0.015214  0.004661"
      ]
     },
     "execution_count": 17,
     "metadata": {},
     "output_type": "execute_result"
    }
   ],
   "source": [
    "X_test_enc.head()"
   ]
  },
  {
   "cell_type": "markdown",
   "metadata": {},
   "source": [
    "### Determine the roc-auc using the variable values as input"
   ]
  },
  {
   "cell_type": "code",
   "execution_count": 18,
   "metadata": {},
   "outputs": [],
   "source": [
    "from sklearn.metrics import roc_auc_score\n",
    "\n",
    "roc_values = []\n",
    "\n",
    "for ft in cat_fts:\n",
    "    roc_values.append(roc_auc_score(y_test, X_test_enc[ft])) "
   ]
  },
  {
   "cell_type": "code",
   "execution_count": 19,
   "metadata": {},
   "outputs": [
    {
     "data": {
      "text/plain": [
       "State      0.962036\n",
       "Proto      0.917941\n",
       "Dir        0.898655\n",
       "Service    0.869783\n",
       "dTos       0.822295\n",
       "sTos       0.501622\n",
       "dtype: float64"
      ]
     },
     "execution_count": 19,
     "metadata": {},
     "output_type": "execute_result"
    }
   ],
   "source": [
    "m1 = pd.Series(roc_values)\n",
    "m1.index = cat_fts\n",
    "m1.sort_values(ascending=False)"
   ]
  },
  {
   "cell_type": "markdown",
   "metadata": {},
   "source": [
    "# On numerical features"
   ]
  },
  {
   "cell_type": "code",
   "execution_count": 5,
   "metadata": {},
   "outputs": [],
   "source": [
    "num_fts = [\n",
    "    'Dur', \n",
    "    'Sport', 'Dport', \n",
    "    'sTos', 'dTos', \n",
    "    'TotPkts', 'TotBytes', 'SrcBytes', \n",
    "    'PktsPerSec', 'BytesPerSec', 'SrcBytesPerSec', 'BytesPerPkt', \n",
    "    'DstBytes', 'DstBytesPerSec', \n",
    "\n",
    "    'State_CON', 'State_alltcp',\n",
    "    'State_INT', 'State_S_', 'State_URP', 'State_ECO', 'State_RED',\n",
    "    'State_REQ', 'State_ECR', 'State_URH', 'State_TXD', 'State_URFIL',\n",
    "    'State_R_', 'State_URN', 'State_RSP', 'State_URHPRO', 'State_A_',\n",
    "    'State_other', \n",
    "    'Flag_nan', 'Flag_S', 'Flag_A', 'Flag_P', 'Flag_R', 'Flag_F', \n",
    "    'Proto_udp', 'Proto_tcp', 'Proto_icmp', 'Proto_rtp', 'Proto_rtcp', 'Proto_igmp', 'Proto_arp', 'Proto_other', \n",
    "    'Service_80', 'Service_443', 'Service_21', 'Service_22', 'Service_25',\n",
    "    'Service_6667', 'Service_other'\n",
    "]"
   ]
  },
  {
   "cell_type": "code",
   "execution_count": 6,
   "metadata": {},
   "outputs": [
    {
     "data": {
      "text/plain": [
       "((535242, 54), (229390, 54))"
      ]
     },
     "execution_count": 6,
     "metadata": {},
     "output_type": "execute_result"
    }
   ],
   "source": [
    "from sklearn.model_selection import train_test_split\n",
    "\n",
    "X_train, X_test, y_train, y_test = train_test_split(\n",
    "    df[num_fts + ['LabelBin']],\n",
    "    df['LabelBin'],\n",
    "    test_size=0.3,\n",
    "    random_state=0\n",
    ")\n",
    "\n",
    "X_train.shape, X_test.shape"
   ]
  },
  {
   "cell_type": "code",
   "execution_count": 7,
   "metadata": {},
   "outputs": [],
   "source": [
    "binned_fts = []\n",
    "\n",
    "for ft in num_fts:\n",
    "    # print('\\n-----------')\n",
    "    # print(ft)\n",
    "    X_train[f'{ft}_binned'], intervals = pd.qcut(\n",
    "        X_train['Dur'],\n",
    "        q = 5,\n",
    "        labels=False,\n",
    "        retbins=True,\n",
    "        precision=3,\n",
    "        duplicates='drop',\n",
    "    )\n",
    "\n",
    "    # display(X_train[[f'{ft}_binned', ft]].head(10))\n",
    "\n",
    "    #? count the number of distinct bins\n",
    "    # print(X_train[f'{ft}_binned'].nunique())\n",
    "    # print(X_train[f'{ft}_binned'].unique())\n",
    "\n",
    "    #? Use the interval limits calculated in the previous cell to bin the testing set\n",
    "    X_test[f'{ft}_binned'] = pd.cut(x = X_test[ft], bins=intervals, labels=False)\n",
    "\n",
    "    # display(X_test[[f'{ft}_binned', ft]].head(10))\n",
    "\n",
    "    X_train = X_train.fillna(0)\n",
    "    X_test = X_test.fillna(0)\n",
    "\n",
    "    binned_fts.append(f'{ft}_binned')"
   ]
  },
  {
   "cell_type": "code",
   "execution_count": 31,
   "metadata": {},
   "outputs": [],
   "source": []
  },
  {
   "cell_type": "markdown",
   "metadata": {},
   "source": [
    "### Replace bins with target mean"
   ]
  },
  {
   "cell_type": "code",
   "execution_count": 10,
   "metadata": {},
   "outputs": [
    {
     "data": {
      "text/html": [
       "<div>\n",
       "<style scoped>\n",
       "    .dataframe tbody tr th:only-of-type {\n",
       "        vertical-align: middle;\n",
       "    }\n",
       "\n",
       "    .dataframe tbody tr th {\n",
       "        vertical-align: top;\n",
       "    }\n",
       "\n",
       "    .dataframe thead th {\n",
       "        text-align: right;\n",
       "    }\n",
       "</style>\n",
       "<table border=\"1\" class=\"dataframe\">\n",
       "  <thead>\n",
       "    <tr style=\"text-align: right;\">\n",
       "      <th></th>\n",
       "      <th>Dur_binned</th>\n",
       "      <th>Sport_binned</th>\n",
       "      <th>Dport_binned</th>\n",
       "      <th>sTos_binned</th>\n",
       "      <th>dTos_binned</th>\n",
       "      <th>TotPkts_binned</th>\n",
       "      <th>TotBytes_binned</th>\n",
       "      <th>SrcBytes_binned</th>\n",
       "      <th>PktsPerSec_binned</th>\n",
       "      <th>BytesPerSec_binned</th>\n",
       "      <th>...</th>\n",
       "      <th>Proto_igmp_binned</th>\n",
       "      <th>Proto_arp_binned</th>\n",
       "      <th>Proto_other_binned</th>\n",
       "      <th>Service_80_binned</th>\n",
       "      <th>Service_443_binned</th>\n",
       "      <th>Service_21_binned</th>\n",
       "      <th>Service_22_binned</th>\n",
       "      <th>Service_25_binned</th>\n",
       "      <th>Service_6667_binned</th>\n",
       "      <th>Service_other_binned</th>\n",
       "    </tr>\n",
       "  </thead>\n",
       "  <tbody>\n",
       "    <tr>\n",
       "      <th>87202</th>\n",
       "      <td>0.000392</td>\n",
       "      <td>0.000392</td>\n",
       "      <td>0.000392</td>\n",
       "      <td>0.000392</td>\n",
       "      <td>0.000392</td>\n",
       "      <td>0.000392</td>\n",
       "      <td>0.000392</td>\n",
       "      <td>0.000392</td>\n",
       "      <td>0.000392</td>\n",
       "      <td>0.000392</td>\n",
       "      <td>...</td>\n",
       "      <td>0.000392</td>\n",
       "      <td>0.000392</td>\n",
       "      <td>0.000392</td>\n",
       "      <td>0.000392</td>\n",
       "      <td>0.000392</td>\n",
       "      <td>0.000392</td>\n",
       "      <td>0.000392</td>\n",
       "      <td>0.000392</td>\n",
       "      <td>0.000392</td>\n",
       "      <td>0.000392</td>\n",
       "    </tr>\n",
       "    <tr>\n",
       "      <th>358990</th>\n",
       "      <td>0.001719</td>\n",
       "      <td>0.001719</td>\n",
       "      <td>0.001719</td>\n",
       "      <td>0.001719</td>\n",
       "      <td>0.001719</td>\n",
       "      <td>0.001719</td>\n",
       "      <td>0.001719</td>\n",
       "      <td>0.001719</td>\n",
       "      <td>0.001719</td>\n",
       "      <td>0.001719</td>\n",
       "      <td>...</td>\n",
       "      <td>0.001719</td>\n",
       "      <td>0.001719</td>\n",
       "      <td>0.001719</td>\n",
       "      <td>0.001719</td>\n",
       "      <td>0.001719</td>\n",
       "      <td>0.001719</td>\n",
       "      <td>0.001719</td>\n",
       "      <td>0.001719</td>\n",
       "      <td>0.001719</td>\n",
       "      <td>0.001719</td>\n",
       "    </tr>\n",
       "    <tr>\n",
       "      <th>583705</th>\n",
       "      <td>0.000392</td>\n",
       "      <td>0.000392</td>\n",
       "      <td>0.000392</td>\n",
       "      <td>0.000392</td>\n",
       "      <td>0.000392</td>\n",
       "      <td>0.000392</td>\n",
       "      <td>0.000392</td>\n",
       "      <td>0.000392</td>\n",
       "      <td>0.000392</td>\n",
       "      <td>0.000392</td>\n",
       "      <td>...</td>\n",
       "      <td>0.000392</td>\n",
       "      <td>0.000392</td>\n",
       "      <td>0.000392</td>\n",
       "      <td>0.000392</td>\n",
       "      <td>0.000392</td>\n",
       "      <td>0.000392</td>\n",
       "      <td>0.000392</td>\n",
       "      <td>0.000392</td>\n",
       "      <td>0.000392</td>\n",
       "      <td>0.000392</td>\n",
       "    </tr>\n",
       "    <tr>\n",
       "      <th>600690</th>\n",
       "      <td>0.071127</td>\n",
       "      <td>0.071127</td>\n",
       "      <td>0.071127</td>\n",
       "      <td>0.071127</td>\n",
       "      <td>0.071127</td>\n",
       "      <td>0.071127</td>\n",
       "      <td>0.071127</td>\n",
       "      <td>0.071127</td>\n",
       "      <td>0.071127</td>\n",
       "      <td>0.071127</td>\n",
       "      <td>...</td>\n",
       "      <td>0.071127</td>\n",
       "      <td>0.071127</td>\n",
       "      <td>0.071127</td>\n",
       "      <td>0.071127</td>\n",
       "      <td>0.071127</td>\n",
       "      <td>0.071127</td>\n",
       "      <td>0.071127</td>\n",
       "      <td>0.071127</td>\n",
       "      <td>0.071127</td>\n",
       "      <td>0.071127</td>\n",
       "    </tr>\n",
       "    <tr>\n",
       "      <th>80990</th>\n",
       "      <td>0.002102</td>\n",
       "      <td>0.002102</td>\n",
       "      <td>0.002102</td>\n",
       "      <td>0.002102</td>\n",
       "      <td>0.002102</td>\n",
       "      <td>0.002102</td>\n",
       "      <td>0.002102</td>\n",
       "      <td>0.002102</td>\n",
       "      <td>0.002102</td>\n",
       "      <td>0.002102</td>\n",
       "      <td>...</td>\n",
       "      <td>0.002102</td>\n",
       "      <td>0.002102</td>\n",
       "      <td>0.002102</td>\n",
       "      <td>0.002102</td>\n",
       "      <td>0.002102</td>\n",
       "      <td>0.002102</td>\n",
       "      <td>0.002102</td>\n",
       "      <td>0.002102</td>\n",
       "      <td>0.002102</td>\n",
       "      <td>0.002102</td>\n",
       "    </tr>\n",
       "  </tbody>\n",
       "</table>\n",
       "<p>5 rows × 53 columns</p>\n",
       "</div>"
      ],
      "text/plain": [
       "        Dur_binned  Sport_binned  Dport_binned  sTos_binned  dTos_binned  \\\n",
       "87202     0.000392      0.000392      0.000392     0.000392     0.000392   \n",
       "358990    0.001719      0.001719      0.001719     0.001719     0.001719   \n",
       "583705    0.000392      0.000392      0.000392     0.000392     0.000392   \n",
       "600690    0.071127      0.071127      0.071127     0.071127     0.071127   \n",
       "80990     0.002102      0.002102      0.002102     0.002102     0.002102   \n",
       "\n",
       "        TotPkts_binned  TotBytes_binned  SrcBytes_binned  PktsPerSec_binned  \\\n",
       "87202         0.000392         0.000392         0.000392           0.000392   \n",
       "358990        0.001719         0.001719         0.001719           0.001719   \n",
       "583705        0.000392         0.000392         0.000392           0.000392   \n",
       "600690        0.071127         0.071127         0.071127           0.071127   \n",
       "80990         0.002102         0.002102         0.002102           0.002102   \n",
       "\n",
       "        BytesPerSec_binned  ...  Proto_igmp_binned  Proto_arp_binned  \\\n",
       "87202             0.000392  ...           0.000392          0.000392   \n",
       "358990            0.001719  ...           0.001719          0.001719   \n",
       "583705            0.000392  ...           0.000392          0.000392   \n",
       "600690            0.071127  ...           0.071127          0.071127   \n",
       "80990             0.002102  ...           0.002102          0.002102   \n",
       "\n",
       "        Proto_other_binned  Service_80_binned  Service_443_binned  \\\n",
       "87202             0.000392           0.000392            0.000392   \n",
       "358990            0.001719           0.001719            0.001719   \n",
       "583705            0.000392           0.000392            0.000392   \n",
       "600690            0.071127           0.071127            0.071127   \n",
       "80990             0.002102           0.002102            0.002102   \n",
       "\n",
       "        Service_21_binned  Service_22_binned  Service_25_binned  \\\n",
       "87202            0.000392           0.000392           0.000392   \n",
       "358990           0.001719           0.001719           0.001719   \n",
       "583705           0.000392           0.000392           0.000392   \n",
       "600690           0.071127           0.071127           0.071127   \n",
       "80990            0.002102           0.002102           0.002102   \n",
       "\n",
       "        Service_6667_binned  Service_other_binned  \n",
       "87202              0.000392              0.000392  \n",
       "358990             0.001719              0.001719  \n",
       "583705             0.000392              0.000392  \n",
       "600690             0.071127              0.071127  \n",
       "80990              0.002102              0.002102  \n",
       "\n",
       "[5 rows x 53 columns]"
      ]
     },
     "execution_count": 10,
     "metadata": {},
     "output_type": "execute_result"
    }
   ],
   "source": [
    "\"\"\"\n",
    "now we use our previous function to encode the variables with the target mean\n",
    "\"\"\"\n",
    "\n",
    "X_train_enc, X_test_enc = mean_encoding(X_train[binned_fts + ['LabelBin']], X_test[binned_fts + ['LabelBin']], binned_fts)\n",
    "\n",
    "X_train_enc.head()"
   ]
  },
  {
   "cell_type": "markdown",
   "metadata": {},
   "source": [
    "### Determine the roc-auc using the variable values as input"
   ]
  },
  {
   "cell_type": "code",
   "execution_count": 11,
   "metadata": {},
   "outputs": [],
   "source": [
    "from sklearn.metrics import roc_auc_score\n",
    "\n",
    "roc_values = []\n",
    "\n",
    "for ft in binned_fts:\n",
    "    roc_values.append(roc_auc_score(y_test, X_test_enc[ft])) "
   ]
  },
  {
   "cell_type": "code",
   "execution_count": 12,
   "metadata": {},
   "outputs": [
    {
     "data": {
      "text/plain": [
       "Flag_S_binned            0.920108\n",
       "Proto_tcp_binned         0.917719\n",
       "Dur_binned               0.883219\n",
       "State_S__binned          0.849325\n",
       "Sport_binned             0.822717\n",
       "Service_80_binned        0.812319\n",
       "SrcBytesPerSec_binned    0.811048\n",
       "PktsPerSec_binned        0.805036\n",
       "BytesPerSec_binned       0.771623\n",
       "Dport_binned             0.737811\n",
       "State_alltcp_binned      0.568498\n",
       "Flag_A_binned            0.568337\n",
       "Flag_R_binned            0.556462\n",
       "Flag_P_binned            0.551479\n",
       "Flag_F_binned            0.548486\n",
       "DstBytesPerSec_binned    0.539700\n",
       "Service_25_binned        0.538156\n",
       "TotBytes_binned          0.536377\n",
       "SrcBytes_binned          0.535586\n",
       "Service_443_binned       0.506440\n",
       "BytesPerPkt_binned       0.505620\n",
       "TotPkts_binned           0.505019\n",
       "Service_6667_binned      0.500735\n",
       "Flag_nan_binned          0.500000\n",
       "State_other_binned       0.499996\n",
       "Proto_other_binned       0.499991\n",
       "Service_21_binned        0.499985\n",
       "State_RSP_binned         0.499967\n",
       "State_A__binned          0.499962\n",
       "State_URHPRO_binned      0.499945\n",
       "State_R__binned          0.499934\n",
       "dTos_binned              0.499927\n",
       "State_URN_binned         0.499920\n",
       "Proto_arp_binned         0.499912\n",
       "State_URFIL_binned       0.499878\n",
       "State_TXD_binned         0.499869\n",
       "State_REQ_binned         0.499869\n",
       "Proto_igmp_binned        0.499754\n",
       "State_ECR_binned         0.499723\n",
       "State_ECO_binned         0.499655\n",
       "Proto_rtcp_binned        0.499631\n",
       "State_RED_binned         0.499515\n",
       "sTos_binned              0.499427\n",
       "Proto_rtp_binned         0.499343\n",
       "State_URH_binned         0.499270\n",
       "Service_22_binned        0.496790\n",
       "State_URP_binned         0.496622\n",
       "Proto_icmp_binned        0.494394\n",
       "State_INT_binned         0.483549\n",
       "DstBytes_binned          0.302027\n",
       "Service_other_binned     0.145575\n",
       "State_CON_binned         0.104502\n",
       "Proto_udp_binned         0.089257\n",
       "dtype: float64"
      ]
     },
     "execution_count": 12,
     "metadata": {},
     "output_type": "execute_result"
    }
   ],
   "source": [
    "m1 = pd.Series(roc_values)\n",
    "m1.index = binned_fts\n",
    "m1.sort_values(ascending=False)"
   ]
  },
  {
   "cell_type": "code",
   "execution_count": 14,
   "metadata": {},
   "outputs": [
    {
     "data": {
      "text/plain": [
       "Index(['Dur_binned', 'Sport_binned', 'Dport_binned', 'sTos_binned',\n",
       "       'dTos_binned', 'TotPkts_binned', 'TotBytes_binned', 'SrcBytes_binned',\n",
       "       'PktsPerSec_binned', 'BytesPerSec_binned', 'SrcBytesPerSec_binned',\n",
       "       'BytesPerPkt_binned', 'DstBytes_binned', 'DstBytesPerSec_binned',\n",
       "       'State_CON_binned', 'State_alltcp_binned', 'State_INT_binned',\n",
       "       'State_S__binned', 'State_URP_binned', 'State_ECO_binned',\n",
       "       'State_RED_binned', 'State_REQ_binned', 'State_ECR_binned',\n",
       "       'State_URH_binned', 'State_TXD_binned', 'State_URFIL_binned',\n",
       "       'State_R__binned', 'State_URN_binned', 'State_RSP_binned',\n",
       "       'State_URHPRO_binned', 'State_A__binned', 'State_other_binned',\n",
       "       'Flag_nan_binned', 'Flag_S_binned', 'Flag_A_binned', 'Flag_P_binned',\n",
       "       'Flag_R_binned', 'Flag_F_binned', 'Proto_udp_binned',\n",
       "       'Proto_tcp_binned', 'Proto_icmp_binned', 'Proto_rtp_binned',\n",
       "       'Proto_rtcp_binned', 'Proto_igmp_binned', 'Proto_arp_binned',\n",
       "       'Proto_other_binned', 'Service_80_binned', 'Service_443_binned',\n",
       "       'Service_21_binned', 'Service_22_binned', 'Service_25_binned',\n",
       "       'Service_6667_binned', 'Service_other_binned'],\n",
       "      dtype='object')"
      ]
     },
     "execution_count": 14,
     "metadata": {},
     "output_type": "execute_result"
    }
   ],
   "source": [
    "m1.index"
   ]
  }
 ],
 "metadata": {
  "interpreter": {
   "hash": "ee5cc6fef2d70a7e71ee3826687cbd150f18158e0b1eef11d4f4f92bb920e304"
  },
  "kernelspec": {
   "display_name": "Python 3.9.6 64-bit",
   "language": "python",
   "name": "python3"
  },
  "language_info": {
   "codemirror_mode": {
    "name": "ipython",
    "version": 3
   },
   "file_extension": ".py",
   "mimetype": "text/x-python",
   "name": "python",
   "nbconvert_exporter": "python",
   "pygments_lexer": "ipython3",
   "version": "3.9.6"
  },
  "orig_nbformat": 4
 },
 "nbformat": 4,
 "nbformat_minor": 2
}
