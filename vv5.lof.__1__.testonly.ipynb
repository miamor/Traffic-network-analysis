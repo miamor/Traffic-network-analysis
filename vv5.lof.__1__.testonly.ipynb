{
 "cells": [
  {
   "cell_type": "markdown",
   "metadata": {},
   "source": [
    "# 4colab"
   ]
  },
  {
   "cell_type": "code",
   "execution_count": 1,
   "metadata": {},
   "outputs": [],
   "source": [
    "# # Load the Drive helper and mount\n",
    "# from google.colab import drive\n",
    "\n",
    "# # This will prompt for authorization.\n",
    "# drive.mount('/content/drive')\n",
    "\n",
    "# %cd '/content/drive/MyDrive/Colab Notebooks/C73_A2_1/data'\n",
    "# !ls\n",
    "\n",
    "# data_dir = '/content/drive/MyDrive/Colab Notebooks/C73_A2_1/data'\n",
    "# result_dir = '/content/drive/MyDrive/Colab Notebooks/C73_A2_1/result'"
   ]
  },
  {
   "cell_type": "code",
   "execution_count": 2,
   "metadata": {},
   "outputs": [],
   "source": [
    "data_dir = 'data'\n",
    "result_dir = 'result'"
   ]
  },
  {
   "cell_type": "markdown",
   "metadata": {},
   "source": [
    "# Import"
   ]
  },
  {
   "cell_type": "code",
   "execution_count": 3,
   "metadata": {},
   "outputs": [],
   "source": [
    "import pandas as pd\n",
    "import numpy as np\n",
    "import matplotlib.pyplot as plt\n",
    "import copy\n",
    "\n",
    "import warnings\n",
    "warnings.filterwarnings(\"ignore\")"
   ]
  },
  {
   "cell_type": "markdown",
   "metadata": {},
   "source": [
    "# Read data"
   ]
  },
  {
   "cell_type": "code",
   "execution_count": 4,
   "metadata": {},
   "outputs": [],
   "source": [
    "af = 'vv'\n",
    "pf = '__1__'\n",
    "\n",
    "# Xtrain = np.load(f'{data_dir}/{af}3.tr.X.{pf}.npy', allow_pickle=True)\n",
    "# y_train = np.load(f'{data_dir}/{af}3.tr.y.npy', allow_pickle=True)\n",
    "\n",
    "Xtest = np.load(f'{data_dir}/{af}3.t.X.{pf}.npy', allow_pickle=True)\n",
    "y_test = np.load(f'{data_dir}/{af}3.t.y.npy', allow_pickle=True)\n",
    "\n",
    "# Xval = np.load(f'{data_dir}/{af}3.v.X.{pf}.npy', allow_pickle=True)\n",
    "# y_val = np.load(f'{data_dir}/{af}3.v.y.npy', allow_pickle=True)\n",
    "\n",
    "#? features names\n",
    "fts_names = [line.strip() for line in open(f'{data_dir}/{af}3.fts_cols.{pf}.txt').readlines()]"
   ]
  },
  {
   "cell_type": "code",
   "execution_count": 5,
   "metadata": {},
   "outputs": [],
   "source": [
    "# Xtrain.shape"
   ]
  },
  {
   "cell_type": "code",
   "execution_count": 6,
   "metadata": {},
   "outputs": [],
   "source": [
    "# for i in range(0, len(fts_names)):\n",
    "#     print(i, fts_names[i])"
   ]
  },
  {
   "cell_type": "markdown",
   "metadata": {},
   "source": [
    "# Test and evaluate"
   ]
  },
  {
   "cell_type": "code",
   "execution_count": 7,
   "metadata": {},
   "outputs": [],
   "source": [
    "from sklearn.metrics import classification_report, confusion_matrix, PrecisionRecallDisplay, f1_score, roc_auc_score, roc_curve, auc\n",
    "\n",
    "def evaluate(y_true, y_pred):\n",
    "    #? relabel to use classification metrics\n",
    "    y_pred[y_pred == 1] = 0\n",
    "    y_pred[y_pred == -1] = 1\n",
    "\n",
    "    cm = confusion_matrix(y_true, y_pred)\n",
    "    print(cm)\n",
    "    print(classification_report(y_true, y_pred, digits=4))\n",
    "    roc_auc = roc_auc_score(y_true, y_pred)\n",
    "    print(roc_auc)\n",
    "\n",
    "    # display = PrecisionRecallDisplay.from_predictions(y_true, y_pred)\n",
    "    # _ = display.ax_.set_title(\"2-class Precision-Recall curve\")\n",
    "    return roc_auc"
   ]
  },
  {
   "cell_type": "code",
   "execution_count": 8,
   "metadata": {},
   "outputs": [],
   "source": [
    "import pickle\n",
    "\n",
    "def save_result(model, Xt, yt_pred, scores, model_name, selected_fts_names, roc_auc, expname='', config=None):\n",
    "    ra = '{:.2f}'.format(round(roc_auc * 100, 2))\n",
    "    # if ra <= 70: #? not good enough to even bother\n",
    "    #     return\n",
    "    \n",
    "    #? save model\n",
    "    pickle.dump(model, open(f'{result_dir}/{af}5.{pf}.{model_name}.{expname}.__{ra}__.model.pkl','wb'))\n",
    "\n",
    "    #? save prediction\n",
    "    np.save(f'{result_dir}/{af}5.{pf}.{model_name}.{expname}.__{ra}__.result.t.y_pred.npy', yt_pred)\n",
    "    np.save(f'{result_dir}/{af}5.{pf}.{model_name}.{expname}.__{ra}__.result.t.scores.npy', scores)\n",
    "\n",
    "    #? save transformed X as well\n",
    "    # np.save(f'{result_dir}/{af}5.{pf}.{model_name}.{expname}.__{ra}__.data.tr.X.npy', Xtr)\n",
    "    np.save(f'{result_dir}/{af}5.{pf}.{model_name}.{expname}.__{ra}__.data.t.X.npy', Xt)\n",
    "    # np.save(f'{result_dir}/{af}5.{pf}.{model_name}.{expname}.__{ra}__.data.v.X.npy', Xv)\n",
    "\n",
    "    #? save fts\n",
    "    open(f'{result_dir}/{af}5.{pf}.{model_name}.{expname}.__{ra}__.fts.txt', 'w').write('\\n'.join(selected_fts_names))\n",
    "    \n",
    "    #? save config\n",
    "    if config is not None:\n",
    "        open(f'{result_dir}/{af}5.{pf}.{model_name}.{expname}.__{ra}__.config.txt', 'w').write(config)"
   ]
  },
  {
   "cell_type": "markdown",
   "metadata": {},
   "source": [
    "## Exp 01: Run on original features (0-8)\n",
    "\n",
    "`Dur`, `sTos`, `dTos`, `Sport`, `Dport`, `TotPkts`, `TotBytes`, `SrcBytes`\n",
    "\n",
    "Using only numeric features from original data, the result is not good\n",
    "\n",
    "```\n",
    "CPU times: total: 12min 24s\n",
    "Wall time: 1min 21s\n",
    "\n",
    "[[754066   7514]\n",
    " [  2830    132]]\n",
    "              precision    recall  f1-score   support\n",
    "\n",
    "           0     0.9963    0.9901    0.9932    761580\n",
    "           1     0.0173    0.0446    0.0249      2962\n",
    "\n",
    "    accuracy                         0.9865    764542\n",
    "   macro avg     0.5068    0.5173    0.5090    764542\n",
    "weighted avg     0.9925    0.9865    0.9894    764542\n",
    "\n",
    "0.5173490764668689\n",
    "```"
   ]
  },
  {
   "cell_type": "code",
   "execution_count": 9,
   "metadata": {},
   "outputs": [
    {
     "data": {
      "text/plain": [
       "'Dur, sTos, dTos, Sport, Dport, PktsPerSec, BytesPerSec, SrcBytesPerSec'"
      ]
     },
     "execution_count": 9,
     "metadata": {},
     "output_type": "execute_result"
    }
   ],
   "source": [
    "\"\"\" select features \"\"\"\n",
    "selected_fts_names__01 = fts_names[0:8]\n",
    "', '.join(selected_fts_names__01)"
   ]
  },
  {
   "cell_type": "code",
   "execution_count": 19,
   "metadata": {},
   "outputs": [
    {
     "name": "stdout",
     "output_type": "stream",
     "text": [
      "(764542, 8)\n"
     ]
    }
   ],
   "source": [
    "# X_train__01 = Xtrain[:,0:8]\n",
    "X_test__01 = Xtest[:,0:8]\n",
    "# X_val__01 = Xval[:,0:8]\n",
    "\n",
    "print(X_test__01.shape)"
   ]
  },
  {
   "cell_type": "code",
   "execution_count": 32,
   "metadata": {},
   "outputs": [],
   "source": [
    "\"\"\" train \"\"\"\n",
    "from sklearn.neighbors import LocalOutlierFactor\n",
    "\n",
    "n_neighbors = 65\n",
    "contamination = 0.01\n",
    "model__01 = LocalOutlierFactor(n_neighbors=n_neighbors, contamination=contamination, n_jobs=10)"
   ]
  },
  {
   "cell_type": "code",
   "execution_count": 33,
   "metadata": {},
   "outputs": [
    {
     "name": "stdout",
     "output_type": "stream",
     "text": [
      "CPU times: total: 12min 24s\n",
      "Wall time: 1min 21s\n"
     ]
    }
   ],
   "source": [
    "%%time\n",
    "\"\"\" predict \"\"\"\n",
    "y_pred__01 = model__01.fit_predict(X_test__01)"
   ]
  },
  {
   "cell_type": "code",
   "execution_count": 34,
   "metadata": {},
   "outputs": [
    {
     "name": "stdout",
     "output_type": "stream",
     "text": [
      "[[754066   7514]\n",
      " [  2830    132]]\n",
      "              precision    recall  f1-score   support\n",
      "\n",
      "           0     0.9963    0.9901    0.9932    761580\n",
      "           1     0.0173    0.0446    0.0249      2962\n",
      "\n",
      "    accuracy                         0.9865    764542\n",
      "   macro avg     0.5068    0.5173    0.5090    764542\n",
      "weighted avg     0.9925    0.9865    0.9894    764542\n",
      "\n",
      "0.5173490764668689\n"
     ]
    }
   ],
   "source": [
    "\"\"\" evaluate \"\"\"\n",
    "roc_auc__01 = evaluate(y_test, y_pred__01)"
   ]
  },
  {
   "cell_type": "code",
   "execution_count": 35,
   "metadata": {},
   "outputs": [],
   "source": [
    "\"\"\" get lof scores \"\"\"\n",
    "scores_pred__01 = model__01.negative_outlier_factor_"
   ]
  },
  {
   "cell_type": "code",
   "execution_count": 36,
   "metadata": {},
   "outputs": [],
   "source": [
    "\"\"\" save model \"\"\"\n",
    "save_result(model__01, X_test__01, y_pred__01, scores_pred__01, 'lof', selected_fts_names__01, roc_auc__01, 'exp01_fts-0-8', config=f'n_neighbors={n_neighbors}\\ncontamination={contamination}')"
   ]
  },
  {
   "cell_type": "code",
   "execution_count": 37,
   "metadata": {},
   "outputs": [],
   "source": [
    "\"\"\" clean \"\"\"\n",
    "del X_test__01\n",
    "del model__01, y_pred__01, scores_pred__01"
   ]
  },
  {
   "cell_type": "markdown",
   "metadata": {},
   "source": [
    "## Exp 02: Run on numeric features (0-14)\n",
    "\n",
    "`Dur`, `sTos`, `dTos`, `Sport`, `Dport`, `PktsPerSec`, `BytesPerSec`, `SrcBytesPerSec`, `BytesPerPkt`, `TotPkts`, `TotBytes`, `SrcBytes`, `DstBytes`, `DstBytesPerSec`\n",
    "\n",
    "Using only numeric features, the result is not good.  \n",
    "The result does not change much from Exp01\n",
    "\n",
    "```\n",
    "CPU times: total: 23min 28s\n",
    "Wall time: 2min 33s\n",
    "\n",
    "[[754045   7535]\n",
    " [  2851    111]]\n",
    "              precision    recall  f1-score   support\n",
    "\n",
    "           0     0.9962    0.9901    0.9932    761580\n",
    "           1     0.0145    0.0375    0.0209      2962\n",
    "\n",
    "    accuracy                         0.9864    764542\n",
    "   macro avg     0.5054    0.5138    0.5070    764542\n",
    "weighted avg     0.9924    0.9864    0.9894    764542\n",
    "\n",
    "0.5137903872469258\n",
    "```"
   ]
  },
  {
   "cell_type": "code",
   "execution_count": 38,
   "metadata": {},
   "outputs": [
    {
     "data": {
      "text/plain": [
       "'Dur, sTos, dTos, Sport, Dport, PktsPerSec, BytesPerSec, SrcBytesPerSec, BytesPerPkt, TotPkts, TotBytes, SrcBytes, DstBytes, DstBytesPerSec'"
      ]
     },
     "execution_count": 38,
     "metadata": {},
     "output_type": "execute_result"
    }
   ],
   "source": [
    "\"\"\" select features \"\"\"\n",
    "selected_fts_names__02 = fts_names[0:14]\n",
    "', '.join(selected_fts_names__02)"
   ]
  },
  {
   "cell_type": "code",
   "execution_count": 39,
   "metadata": {},
   "outputs": [
    {
     "name": "stdout",
     "output_type": "stream",
     "text": [
      "(764542, 14)\n"
     ]
    }
   ],
   "source": [
    "# X_train__02 = Xtrain[:,0:14]\n",
    "X_test__02 = Xtest[:,0:14]\n",
    "# X_val__02 = Xval[:,0:14]\n",
    "\n",
    "print(X_test__02.shape)"
   ]
  },
  {
   "cell_type": "code",
   "execution_count": 40,
   "metadata": {},
   "outputs": [],
   "source": [
    "\"\"\" train \"\"\"\n",
    "from sklearn.neighbors import LocalOutlierFactor\n",
    "\n",
    "n_neighbors = 65\n",
    "contamination = 0.01\n",
    "model__02 = LocalOutlierFactor(n_neighbors=n_neighbors, contamination=contamination, n_jobs=10)"
   ]
  },
  {
   "cell_type": "code",
   "execution_count": 41,
   "metadata": {},
   "outputs": [
    {
     "name": "stdout",
     "output_type": "stream",
     "text": [
      "CPU times: total: 23min 28s\n",
      "Wall time: 2min 33s\n"
     ]
    }
   ],
   "source": [
    "%%time\n",
    "\"\"\" predict \"\"\"\n",
    "y_pred__02 = model__02.fit_predict(X_test__02)"
   ]
  },
  {
   "cell_type": "code",
   "execution_count": 42,
   "metadata": {},
   "outputs": [
    {
     "name": "stdout",
     "output_type": "stream",
     "text": [
      "[[754045   7535]\n",
      " [  2851    111]]\n",
      "              precision    recall  f1-score   support\n",
      "\n",
      "           0     0.9962    0.9901    0.9932    761580\n",
      "           1     0.0145    0.0375    0.0209      2962\n",
      "\n",
      "    accuracy                         0.9864    764542\n",
      "   macro avg     0.5054    0.5138    0.5070    764542\n",
      "weighted avg     0.9924    0.9864    0.9894    764542\n",
      "\n",
      "0.5137903872469258\n"
     ]
    }
   ],
   "source": [
    "\"\"\" evaluate \"\"\"\n",
    "roc_auc__02 = evaluate(y_test, y_pred__02)"
   ]
  },
  {
   "cell_type": "code",
   "execution_count": 43,
   "metadata": {},
   "outputs": [],
   "source": [
    "\"\"\" get lof scores \"\"\"\n",
    "scores_pred__02 = model__02.negative_outlier_factor_"
   ]
  },
  {
   "cell_type": "code",
   "execution_count": 44,
   "metadata": {},
   "outputs": [],
   "source": [
    "\"\"\" save model \"\"\"\n",
    "save_result(model__02, X_test__02, y_pred__02, scores_pred__02, 'lof', selected_fts_names__02, roc_auc__02, 'exp02_fts-0-14', config=f'n_neighbors={n_neighbors}\\ncontamination={contamination}')"
   ]
  },
  {
   "cell_type": "code",
   "execution_count": 48,
   "metadata": {},
   "outputs": [],
   "source": [
    "\"\"\" clean \"\"\"\n",
    "del X_test__02\n",
    "del model__02, y_pred__02, scores_pred__02"
   ]
  },
  {
   "cell_type": "markdown",
   "metadata": {},
   "source": [
    "## Exp 03: Run on all features\n",
    "\n",
    "`Dur`, `sTos`, `dTos`, `Sport`, `Dport`, `PktsPerSec`, `BytesPerSec`, `SrcBytesPerSec`, `BytesPerPkt`, `TotPkts`, `TotBytes`, `SrcBytes`, `DstBytes`, `DstBytesPerSec`, `State_CON`, `State_alltcp`, `State_INT`, `State_S_`, `State_URP`, `State_ECO`, `State_RED`, `State_REQ`, `State_ECR`, `State_URH`, `State_TXD`, `State_URFIL`, `State_R_`, `State_URN`, `State_RSP`, `State_URHPRO`, `State_A_`, `State_other`, `Flag_nan`, `Flag_S`, `Flag_A`, `Flag_P`, `Flag_R`, `Flag_F`, `Proto_udp`, `Proto_tcp`, `Proto_icmp`, `Proto_rtp`, `Proto_rtcp`, `Proto_igmp`, `Proto_arp`, `Proto_other`, `Service_80`, `Service_443`, `Service_21`, `Service_22`, `Service_25`, `Service_6667`, `Service_other`\n",
    "\n",
    "The result actually decrease ?!\n",
    "\n",
    "```\n",
    "CPU times: total: 1h 52min 32s\n",
    "Wall time: 8min 14s\n",
    "\n",
    "[[754007   7573]\n",
    " [  2889     73]]\n",
    "              precision    recall  f1-score   support\n",
    "\n",
    "           0     0.9962    0.9901    0.9931    761580\n",
    "           1     0.0095    0.0246    0.0138      2962\n",
    "\n",
    "    accuracy                         0.9863    764542\n",
    "   macro avg     0.5029    0.5074    0.5034    764542\n",
    "weighted avg     0.9924    0.9863    0.9893    764542\n",
    "\n",
    "0.5073508543727432\n",
    "```"
   ]
  },
  {
   "cell_type": "code",
   "execution_count": 9,
   "metadata": {},
   "outputs": [
    {
     "data": {
      "text/plain": [
       "\"Dur', 'sTos', 'dTos', 'Sport', 'Dport', 'PktsPerSec', 'BytesPerSec', 'SrcBytesPerSec', 'BytesPerPkt', 'TotPkts', 'TotBytes', 'SrcBytes', 'DstBytes', 'DstBytesPerSec', 'State_CON', 'State_alltcp', 'State_INT', 'State_S_', 'State_URP', 'State_ECO', 'State_RED', 'State_REQ', 'State_ECR', 'State_URH', 'State_TXD', 'State_URFIL', 'State_R_', 'State_URN', 'State_RSP', 'State_URHPRO', 'State_A_', 'State_other', 'Flag_nan', 'Flag_S', 'Flag_A', 'Flag_P', 'Flag_R', 'Flag_F', 'Proto_udp', 'Proto_tcp', 'Proto_icmp', 'Proto_rtp', 'Proto_rtcp', 'Proto_igmp', 'Proto_arp', 'Proto_other', 'Service_80', 'Service_443', 'Service_21', 'Service_22', 'Service_25', 'Service_6667', 'Service_other', 'sTos_0', 'sTos_2', 'sTos_3', 'sTos_1', 'sTos_-1', 'dTos_0', 'dTos_-1', 'dTos_3', 'dTos_2', 'dTos_1\""
      ]
     },
     "execution_count": 9,
     "metadata": {},
     "output_type": "execute_result"
    }
   ],
   "source": [
    "\"', '\".join(fts_names)"
   ]
  },
  {
   "cell_type": "code",
   "execution_count": 10,
   "metadata": {},
   "outputs": [
    {
     "data": {
      "text/plain": [
       "53"
      ]
     },
     "execution_count": 10,
     "metadata": {},
     "output_type": "execute_result"
    }
   ],
   "source": [
    "\"\"\" select features \"\"\"\n",
    "selected_fts_names__03 = ['Dur', 'sTos', 'dTos', 'Sport', 'Dport', 'TotPkts', 'TotBytes', 'SrcBytes', 'PktsPerSec', 'BytesPerSec', 'SrcBytesPerSec', 'BytesPerPkt', 'DstBytes', 'DstBytesPerSec', 'State_CON', 'State_alltcp', 'State_INT', 'State_S_', 'State_URP', 'State_ECO', 'State_RED', 'State_REQ', 'State_ECR', 'State_URH', 'State_TXD', 'State_URFIL', 'State_R_', 'State_URN', 'State_RSP', 'State_URHPRO', 'State_A_', 'State_other', 'Flag_nan', 'Flag_S', 'Flag_A', 'Flag_P', 'Flag_R', 'Flag_F', 'Proto_udp', 'Proto_tcp', 'Proto_icmp', 'Proto_rtp', 'Proto_rtcp', 'Proto_igmp', 'Proto_arp', 'Proto_other', 'Service_80', 'Service_443', 'Service_21', 'Service_22', 'Service_25', 'Service_6667', 'Service_other']\n",
    "idx__selected_fts_names__03 = [fts_names.index(s) for s in selected_fts_names__03]\n",
    "len(idx__selected_fts_names__03)"
   ]
  },
  {
   "cell_type": "code",
   "execution_count": 51,
   "metadata": {},
   "outputs": [
    {
     "name": "stdout",
     "output_type": "stream",
     "text": [
      "(764542, 53)\n"
     ]
    }
   ],
   "source": [
    "# X_train__03 = Xtrain[:,idx__selected_fts_names__03]\n",
    "X_test__03 = Xtest[:,idx__selected_fts_names__03]\n",
    "# X_val__03 = Xval[:,idx__selected_fts_names__03]\n",
    "\n",
    "print(X_test__03.shape)"
   ]
  },
  {
   "cell_type": "code",
   "execution_count": 52,
   "metadata": {},
   "outputs": [],
   "source": [
    "\"\"\" train \"\"\"\n",
    "from sklearn.neighbors import LocalOutlierFactor\n",
    "\n",
    "n_neighbors = 65\n",
    "contamination = 0.01\n",
    "model__03 = LocalOutlierFactor(n_neighbors=n_neighbors, contamination=contamination, n_jobs=10)"
   ]
  },
  {
   "cell_type": "code",
   "execution_count": 53,
   "metadata": {},
   "outputs": [
    {
     "name": "stdout",
     "output_type": "stream",
     "text": [
      "CPU times: total: 1h 52min 32s\n",
      "Wall time: 8min 14s\n"
     ]
    }
   ],
   "source": [
    "%%time\n",
    "\"\"\" predict \"\"\"\n",
    "y_pred__03 = model__03.fit_predict(X_test__03)"
   ]
  },
  {
   "cell_type": "code",
   "execution_count": 57,
   "metadata": {},
   "outputs": [
    {
     "name": "stdout",
     "output_type": "stream",
     "text": [
      "[[754007   7573]\n",
      " [  2889     73]]\n",
      "              precision    recall  f1-score   support\n",
      "\n",
      "           0     0.9962    0.9901    0.9931    761580\n",
      "           1     0.0095    0.0246    0.0138      2962\n",
      "\n",
      "    accuracy                         0.9863    764542\n",
      "   macro avg     0.5029    0.5074    0.5034    764542\n",
      "weighted avg     0.9924    0.9863    0.9893    764542\n",
      "\n",
      "0.5073508543727432\n"
     ]
    }
   ],
   "source": [
    "\"\"\" evaluate \"\"\"\n",
    "roc_auc__03 = evaluate(y_test, y_pred__03)"
   ]
  },
  {
   "cell_type": "code",
   "execution_count": 54,
   "metadata": {},
   "outputs": [],
   "source": [
    "\"\"\" get lof scores \"\"\"\n",
    "scores_pred__03 = model__03.negative_outlier_factor_"
   ]
  },
  {
   "cell_type": "code",
   "execution_count": 58,
   "metadata": {},
   "outputs": [],
   "source": [
    "\"\"\" save model \"\"\"\n",
    "save_result(model__03, X_test__03, y_pred__03, scores_pred__03, 'lof', selected_fts_names__03, roc_auc__03, 'exp03_fts-all', config=f'n_neighbors={n_neighbors}\\ncontamination={contamination}')"
   ]
  },
  {
   "cell_type": "code",
   "execution_count": 59,
   "metadata": {},
   "outputs": [],
   "source": [
    "\"\"\" clean \"\"\"\n",
    "del X_test__03\n",
    "del model__03, y_pred__03, scores_pred__03"
   ]
  },
  {
   "cell_type": "markdown",
   "metadata": {},
   "source": [
    "## Exp 04: Run on chosen set of features\n",
    "\n",
    "`sTos`, `Sport`, `Dport`, `TotPkts`, `TotBytes`, `SrcBytes`, `PktsPerSec`, `BytesPerSec`, `SrcBytesPerSec`, `BytesPerPkt`, `State_CON`, `State_alltcp`, `State_INT`, `State_S_`, `State_URP`, `State_ECO`, `State_RED`, `State_REQ`, `State_ECR`, `State_URH`, `State_TXD`, `State_URFIL`, `State_R_`, `State_URN`, `State_RSP`, `State_URHPRO`, `State_A_`, `State_other`, `Flag_nan`, `Flag_S`, `Flag_A`, `Flag_P`, `Flag_R`, `Flag_F`, `Proto_udp`, `Proto_tcp`, `Proto_icmp`, `Proto_rtp`, `Proto_rtcp`, `Proto_igmp`, `Proto_arp`, `Proto_other`, `Service_80`, `Service_443`, `Service_21`, `Service_22`, `Service_25`, `Service_6667`, `Service_other`\n",
    "\n",
    "The result is just similar as Exp01.  \n",
    "\n",
    "```\n",
    "CPU times: total: 1h 46min 15s\n",
    "Wall time: 7min 31s\n",
    "\n",
    "[[754045   7535]\n",
    " [  2851    111]]\n",
    "              precision    recall  f1-score   support\n",
    "\n",
    "           0     0.9962    0.9901    0.9932    761580\n",
    "           1     0.0145    0.0375    0.0209      2962\n",
    "\n",
    "    accuracy                         0.9864    764542\n",
    "   macro avg     0.5054    0.5138    0.5070    764542\n",
    "weighted avg     0.9924    0.9864    0.9894    764542\n",
    "\n",
    "0.5137903872469258\n",
    "```"
   ]
  },
  {
   "cell_type": "code",
   "execution_count": 60,
   "metadata": {},
   "outputs": [
    {
     "data": {
      "text/plain": [
       "49"
      ]
     },
     "execution_count": 60,
     "metadata": {},
     "output_type": "execute_result"
    }
   ],
   "source": [
    "\"\"\" select features \"\"\"\n",
    "selected_fts_names__04 = ['sTos', 'Sport', 'Dport', 'TotPkts', 'TotBytes', 'SrcBytes', 'PktsPerSec', 'BytesPerSec', 'SrcBytesPerSec', 'BytesPerPkt', 'State_CON', 'State_alltcp', 'State_INT', 'State_S_', 'State_URP', 'State_ECO', 'State_RED', 'State_REQ', 'State_ECR', 'State_URH', 'State_TXD', 'State_URFIL', 'State_R_', 'State_URN', 'State_RSP', 'State_URHPRO', 'State_A_', 'State_other', 'Flag_nan', 'Flag_S', 'Flag_A', 'Flag_P', 'Flag_R', 'Flag_F', 'Proto_udp', 'Proto_tcp', 'Proto_icmp', 'Proto_rtp', 'Proto_rtcp', 'Proto_igmp', 'Proto_arp', 'Proto_other', 'Service_80', 'Service_443', 'Service_21', 'Service_22', 'Service_25', 'Service_6667', 'Service_other']\n",
    "idx__selected_fts_names__04 = [fts_names.index(s) for s in selected_fts_names__04]\n",
    "len(idx__selected_fts_names__04)"
   ]
  },
  {
   "cell_type": "code",
   "execution_count": 61,
   "metadata": {},
   "outputs": [
    {
     "name": "stdout",
     "output_type": "stream",
     "text": [
      "(764542, 49)\n"
     ]
    }
   ],
   "source": [
    "# X_train__04 = np.concatenate(tuple([Xtrain[:,[idx]] for idx in idx__selected_fts_names__04]), axis=1)\n",
    "X_test__04 = np.concatenate(tuple([Xtest[:,[idx]] for idx in idx__selected_fts_names__04]), axis=1)\n",
    "# X_val__04 = np.concatenate(tuple([Xval[:,[idx]] for idx in idx__selected_fts_names__04]), axis=1)\n",
    "\n",
    "print(X_test__04.shape)"
   ]
  },
  {
   "cell_type": "code",
   "execution_count": 62,
   "metadata": {},
   "outputs": [],
   "source": [
    "\"\"\" train \"\"\"\n",
    "from sklearn.neighbors import LocalOutlierFactor\n",
    "\n",
    "n_neighbors = 65\n",
    "contamination = 0.01\n",
    "model__04 = LocalOutlierFactor(n_neighbors=n_neighbors, contamination=contamination, n_jobs=10)"
   ]
  },
  {
   "cell_type": "code",
   "execution_count": 63,
   "metadata": {},
   "outputs": [
    {
     "name": "stdout",
     "output_type": "stream",
     "text": [
      "CPU times: total: 1h 46min 15s\n",
      "Wall time: 7min 31s\n"
     ]
    }
   ],
   "source": [
    "%%time\n",
    "\"\"\" predict \"\"\"\n",
    "y_pred__04 = model__04.fit_predict(X_test__04)"
   ]
  },
  {
   "cell_type": "code",
   "execution_count": 64,
   "metadata": {},
   "outputs": [
    {
     "name": "stdout",
     "output_type": "stream",
     "text": [
      "[[754045   7535]\n",
      " [  2851    111]]\n",
      "              precision    recall  f1-score   support\n",
      "\n",
      "           0     0.9962    0.9901    0.9932    761580\n",
      "           1     0.0145    0.0375    0.0209      2962\n",
      "\n",
      "    accuracy                         0.9864    764542\n",
      "   macro avg     0.5054    0.5138    0.5070    764542\n",
      "weighted avg     0.9924    0.9864    0.9894    764542\n",
      "\n",
      "0.5137903872469258\n"
     ]
    }
   ],
   "source": [
    "\"\"\" evaluate \"\"\"\n",
    "roc_auc__04 = evaluate(y_test, y_pred__04)"
   ]
  },
  {
   "cell_type": "code",
   "execution_count": 65,
   "metadata": {},
   "outputs": [],
   "source": [
    "\"\"\" get lof scores \"\"\"\n",
    "scores_pred__04 = model__04.negative_outlier_factor_"
   ]
  },
  {
   "cell_type": "code",
   "execution_count": 66,
   "metadata": {},
   "outputs": [],
   "source": [
    "\"\"\" save model \"\"\"\n",
    "save_result(model__04, X_test__04, y_pred__04, scores_pred__04, 'lof', selected_fts_names__04, roc_auc__04, 'exp04_play', config=f'n_neighbors={n_neighbors}\\ncontamination={contamination}')"
   ]
  },
  {
   "cell_type": "code",
   "execution_count": 67,
   "metadata": {},
   "outputs": [],
   "source": [
    "\"\"\" clean \"\"\"\n",
    "del X_test__04\n",
    "del model__04, y_pred__04, scores_pred__04"
   ]
  },
  {
   "cell_type": "markdown",
   "metadata": {},
   "source": [
    "## Exp 05: Run on numeric features chosen from MI + one-hot features\n",
    "\n",
    "**Chosen features from MI: `dTos`, `Sport`, `BytesPerPkt`, `Dur`, `BytesPerSec`, `DstBytesPerSec`, `PktsPerSec`, `SrcBytesPerSec`, `TotBytes`, `DstBytes`**\n",
    "\n",
    "```\n",
    "CPU times: total: 1h 49min 1s\n",
    "Wall time: 7min 18s\n",
    "\n",
    "[[754033   7547]\n",
    " [  2863     99]]\n",
    "              precision    recall  f1-score   support\n",
    "\n",
    "           0     0.9962    0.9901    0.9931    761580\n",
    "           1     0.0129    0.0334    0.0187      2962\n",
    "\n",
    "    accuracy                         0.9864    764542\n",
    "   macro avg     0.5046    0.5118    0.5059    764542\n",
    "weighted avg     0.9924    0.9864    0.9894    764542\n",
    "\n",
    "0.5117568505498156\n",
    "```"
   ]
  },
  {
   "cell_type": "code",
   "execution_count": 68,
   "metadata": {},
   "outputs": [
    {
     "data": {
      "text/plain": [
       "49"
      ]
     },
     "execution_count": 68,
     "metadata": {},
     "output_type": "execute_result"
    }
   ],
   "source": [
    "\"\"\" select features \"\"\"\n",
    "selected_fts_names__05 = ['dTos', 'Sport', 'BytesPerPkt', 'Dur', 'BytesPerSec', 'DstBytesPerSec', 'PktsPerSec', 'SrcBytesPerSec', 'TotBytes', 'DstBytes', 'State_CON', 'State_alltcp', 'State_INT', 'State_S_', 'State_URP', 'State_ECO', 'State_RED', 'State_REQ', 'State_ECR', 'State_URH', 'State_TXD', 'State_URFIL', 'State_R_', 'State_URN', 'State_RSP', 'State_URHPRO', 'State_A_', 'State_other', 'Flag_nan', 'Flag_S', 'Flag_A', 'Flag_P', 'Flag_R', 'Flag_F', 'Proto_udp', 'Proto_tcp', 'Proto_icmp', 'Proto_rtp', 'Proto_rtcp', 'Proto_igmp', 'Proto_arp', 'Proto_other', 'Service_80', 'Service_443', 'Service_21', 'Service_22', 'Service_25', 'Service_6667', 'Service_other']\n",
    "idx__selected_fts_names__05 = [fts_names.index(s) for s in selected_fts_names__05]\n",
    "len(idx__selected_fts_names__05)"
   ]
  },
  {
   "cell_type": "code",
   "execution_count": 69,
   "metadata": {},
   "outputs": [
    {
     "name": "stdout",
     "output_type": "stream",
     "text": [
      "(764542, 49)\n"
     ]
    }
   ],
   "source": [
    "# X_train__05 = np.concatenate(tuple([Xtrain[:,[idx]] for idx in idx__selected_fts_names__05]), axis=1)\n",
    "X_test__05 = np.concatenate(tuple([Xtest[:,[idx]] for idx in idx__selected_fts_names__05]), axis=1)\n",
    "# X_val__05 = np.concatenate(tuple([Xval[:,[idx]] for idx in idx__selected_fts_names__05]), axis=1)\n",
    "\n",
    "print(X_test__05.shape)"
   ]
  },
  {
   "cell_type": "code",
   "execution_count": 70,
   "metadata": {},
   "outputs": [],
   "source": [
    "\"\"\" train \"\"\"\n",
    "from sklearn.neighbors import LocalOutlierFactor\n",
    "\n",
    "n_neighbors = 65\n",
    "contamination = 0.01\n",
    "model__05 = LocalOutlierFactor(n_neighbors=n_neighbors, contamination=contamination, n_jobs=10)"
   ]
  },
  {
   "cell_type": "code",
   "execution_count": 71,
   "metadata": {},
   "outputs": [
    {
     "name": "stdout",
     "output_type": "stream",
     "text": [
      "CPU times: total: 1h 49min 1s\n",
      "Wall time: 7min 18s\n"
     ]
    }
   ],
   "source": [
    "%%time\n",
    "\"\"\" predict \"\"\"\n",
    "y_pred__05 = model__05.fit_predict(X_test__05)"
   ]
  },
  {
   "cell_type": "code",
   "execution_count": 72,
   "metadata": {},
   "outputs": [
    {
     "name": "stdout",
     "output_type": "stream",
     "text": [
      "[[754033   7547]\n",
      " [  2863     99]]\n",
      "              precision    recall  f1-score   support\n",
      "\n",
      "           0     0.9962    0.9901    0.9931    761580\n",
      "           1     0.0129    0.0334    0.0187      2962\n",
      "\n",
      "    accuracy                         0.9864    764542\n",
      "   macro avg     0.5046    0.5118    0.5059    764542\n",
      "weighted avg     0.9924    0.9864    0.9894    764542\n",
      "\n",
      "0.5117568505498156\n"
     ]
    }
   ],
   "source": [
    "\"\"\" evaluate \"\"\"\n",
    "roc_auc__05 = evaluate(y_test, y_pred__05)"
   ]
  },
  {
   "cell_type": "code",
   "execution_count": 73,
   "metadata": {},
   "outputs": [],
   "source": [
    "\"\"\" get lof scores \"\"\"\n",
    "scores_pred__05 = model__05.negative_outlier_factor_"
   ]
  },
  {
   "cell_type": "code",
   "execution_count": 74,
   "metadata": {},
   "outputs": [],
   "source": [
    "\"\"\" save model \"\"\"\n",
    "save_result(model__05, X_test__05, y_pred__05, scores_pred__05, 'lof', selected_fts_names__05, roc_auc__05, 'exp05_mi1', config=f'n_neighbors={n_neighbors}\\ncontamination={contamination}')"
   ]
  },
  {
   "cell_type": "code",
   "execution_count": 75,
   "metadata": {},
   "outputs": [],
   "source": [
    "\"\"\" clean \"\"\"\n",
    "del X_test__05\n",
    "del model__05, y_pred__05, scores_pred__05"
   ]
  },
  {
   "cell_type": "markdown",
   "metadata": {},
   "source": [
    "## Exp 06: Run on features chosen from MI\n",
    "\n",
    "`State_S_` ,` dTos` ,` Proto_tcp` ,` Proto_udp` ,` Service_80` ,` Service_other` ,` State_CON` ,` Service_25` ,` Sport` ,` Flag_S` ,` Flag_R` ,` BytesPerPkt` ,` Dur` ,` Service_6667` ,` BytesPerSec` ,` State_alltcp` ,` DstBytesPerSec` ,` Flag_A` ,` PktsPerSec` ,` SrcBytesPerSec`\n",
    "\n",
    "```\n",
    "CPU times: total: 1h 20min 59s\n",
    "Wall time: 5min 32s\n",
    "\n",
    "[[754030   7550]\n",
    " [  2866     96]]\n",
    "              precision    recall  f1-score   support\n",
    "\n",
    "           0     0.9962    0.9901    0.9931    761580\n",
    "           1     0.0126    0.0324    0.0181      2962\n",
    "\n",
    "    accuracy                         0.9864    764542\n",
    "   macro avg     0.5044    0.5112    0.5056    764542\n",
    "weighted avg     0.9924    0.9864    0.9894    764542\n",
    "\n",
    "0.511248466375538\n",
    "```"
   ]
  },
  {
   "cell_type": "code",
   "execution_count": 76,
   "metadata": {},
   "outputs": [
    {
     "data": {
      "text/plain": [
       "20"
      ]
     },
     "execution_count": 76,
     "metadata": {},
     "output_type": "execute_result"
    }
   ],
   "source": [
    "\"\"\" select features \"\"\"\n",
    "# selected_fts_names__06 = fts_names[29:30] + fts_names[2:3] + fts_names[51:52] + fts_names[50:51] + fts_names[58:59] + fts_names[64:65] + fts_names[26:27] + fts_names[62:63] + fts_names[3:4] + fts_names[45:46] + fts_names[48:49] + fts_names[26:65]\n",
    "selected_fts_names__06 = ['State_S_','dTos','Proto_tcp','Proto_udp','Service_80','Service_other','State_CON','Service_25','Sport','Flag_S','Flag_R','BytesPerPkt','Dur','Service_6667','BytesPerSec','State_alltcp','DstBytesPerSec','Flag_A','PktsPerSec','SrcBytesPerSec']\n",
    "idx__selected_fts_names__06 = [fts_names.index(s) for s in selected_fts_names__06]\n",
    "len(idx__selected_fts_names__06)\n",
    "# ', '.join(selected_fts_names__05)"
   ]
  },
  {
   "cell_type": "code",
   "execution_count": 77,
   "metadata": {},
   "outputs": [
    {
     "name": "stdout",
     "output_type": "stream",
     "text": [
      "(764542, 20)\n"
     ]
    }
   ],
   "source": [
    "# X_train__06 = np.concatenate(tuple([Xtrain[:,[idx]] for idx in idx__selected_fts_names__06]), axis=1)\n",
    "X_test__06 = np.concatenate(tuple([Xtest[:,[idx]] for idx in idx__selected_fts_names__06]), axis=1)\n",
    "# X_val__06 = np.concatenate(tuple([Xval[:,[idx]] for idx in idx__selected_fts_names__06]), axis=1)\n",
    "\n",
    "print(X_test__06.shape)"
   ]
  },
  {
   "cell_type": "code",
   "execution_count": 78,
   "metadata": {},
   "outputs": [],
   "source": [
    "\"\"\" train \"\"\"\n",
    "from sklearn.neighbors import LocalOutlierFactor\n",
    "\n",
    "n_neighbors = 65\n",
    "contamination = 0.01\n",
    "model__06 = LocalOutlierFactor(n_neighbors=n_neighbors, contamination=contamination, n_jobs=10)"
   ]
  },
  {
   "cell_type": "code",
   "execution_count": 79,
   "metadata": {},
   "outputs": [
    {
     "name": "stdout",
     "output_type": "stream",
     "text": [
      "CPU times: total: 1h 20min 59s\n",
      "Wall time: 5min 32s\n"
     ]
    }
   ],
   "source": [
    "%%time\n",
    "\"\"\" predict \"\"\"\n",
    "y_pred__06 = model__06.fit_predict(X_test__06)"
   ]
  },
  {
   "cell_type": "code",
   "execution_count": 80,
   "metadata": {},
   "outputs": [
    {
     "name": "stdout",
     "output_type": "stream",
     "text": [
      "[[754030   7550]\n",
      " [  2866     96]]\n",
      "              precision    recall  f1-score   support\n",
      "\n",
      "           0     0.9962    0.9901    0.9931    761580\n",
      "           1     0.0126    0.0324    0.0181      2962\n",
      "\n",
      "    accuracy                         0.9864    764542\n",
      "   macro avg     0.5044    0.5112    0.5056    764542\n",
      "weighted avg     0.9924    0.9864    0.9894    764542\n",
      "\n",
      "0.511248466375538\n"
     ]
    }
   ],
   "source": [
    "\"\"\" evaluate \"\"\"\n",
    "roc_auc__06 = evaluate(y_test, y_pred__06)"
   ]
  },
  {
   "cell_type": "code",
   "execution_count": 81,
   "metadata": {},
   "outputs": [],
   "source": [
    "\"\"\" get lof scores \"\"\"\n",
    "scores_pred__06 = model__06.negative_outlier_factor_"
   ]
  },
  {
   "cell_type": "code",
   "execution_count": 84,
   "metadata": {},
   "outputs": [],
   "source": [
    "\"\"\" save model \"\"\"\n",
    "save_result(model__06, X_test__06, y_pred__06, scores_pred__06, 'lof', selected_fts_names__06, roc_auc__06, 'exp06_mi2', config=f'n_neighbors={n_neighbors}\\ncontamination={contamination}')"
   ]
  },
  {
   "cell_type": "code",
   "execution_count": 85,
   "metadata": {},
   "outputs": [],
   "source": [
    "\"\"\" clean \"\"\"\n",
    "del X_test__06\n",
    "del model__06, y_pred__06, scores_pred__06"
   ]
  },
  {
   "cell_type": "markdown",
   "metadata": {},
   "source": [
    "## Exp 07: Run on numeric features chosen from MI + ohe features\n",
    "\n",
    "Chosen features from MI: `dTos`, `Sport`, `BytesPerPkt`, `Dur`, `BytesPerSec`, `DstBytesPerSec`, `PktsPerSec`, `SrcBytesPerSec`, `State_S_`, `Proto_tcp`, `Proto_udp`, `Service_80`, `Service_other`, `State_CON`, `Service_25`, `Flag_S`\n",
    "\n",
    "```\n",
    "CPU times: total: 1h 9min 56s\n",
    "Wall time: 5min 20s\n",
    "\n",
    "[[754008   7572]\n",
    " [  2888     74]]\n",
    "              precision    recall  f1-score   support\n",
    "\n",
    "           0     0.9962    0.9901    0.9931    761580\n",
    "           1     0.0097    0.0250    0.0140      2962\n",
    "\n",
    "    accuracy                         0.9863    764542\n",
    "   macro avg     0.5029    0.5075    0.5035    764542\n",
    "weighted avg     0.9924    0.9863    0.9893    764542\n",
    "\n",
    "0.5075203157641691\n",
    "```"
   ]
  },
  {
   "cell_type": "code",
   "execution_count": 11,
   "metadata": {},
   "outputs": [
    {
     "data": {
      "text/plain": [
       "16"
      ]
     },
     "execution_count": 11,
     "metadata": {},
     "output_type": "execute_result"
    }
   ],
   "source": [
    "\"\"\" select features \"\"\"\n",
    "selected_fts_names__07 = ['dTos','Sport','BytesPerPkt','Dur','BytesPerSec','DstBytesPerSec','PktsPerSec','SrcBytesPerSec',\n",
    "    'State_S_','Proto_tcp','Proto_udp','Service_80','Service_other','State_CON','Service_25','Flag_S'\n",
    "]\n",
    "idx__selected_fts_names__07 = [fts_names.index(s) for s in selected_fts_names__07]\n",
    "len(idx__selected_fts_names__07)"
   ]
  },
  {
   "cell_type": "code",
   "execution_count": 12,
   "metadata": {},
   "outputs": [
    {
     "name": "stdout",
     "output_type": "stream",
     "text": [
      "(764542, 16)\n"
     ]
    }
   ],
   "source": [
    "# X_train__07 = np.concatenate(tuple([Xtrain[:,[idx]] for idx in idx__selected_fts_names__07]), axis=1)\n",
    "X_test__07 = np.concatenate(tuple([Xtest[:,[idx]] for idx in idx__selected_fts_names__07]), axis=1)\n",
    "# X_val__07 = np.concatenate(tuple([Xval[:,[idx]] for idx in idx__selected_fts_names__07]), axis=1)\n",
    "\n",
    "print(X_test__07.shape)"
   ]
  },
  {
   "cell_type": "code",
   "execution_count": 13,
   "metadata": {},
   "outputs": [],
   "source": [
    "\"\"\" train \"\"\"\n",
    "from sklearn.neighbors import LocalOutlierFactor\n",
    "\n",
    "n_neighbors = 65\n",
    "contamination = 0.01\n",
    "model__07 = LocalOutlierFactor(n_neighbors=n_neighbors, contamination=contamination, n_jobs=10)"
   ]
  },
  {
   "cell_type": "code",
   "execution_count": 14,
   "metadata": {},
   "outputs": [
    {
     "name": "stdout",
     "output_type": "stream",
     "text": [
      "CPU times: total: 1h 9min 56s\n",
      "Wall time: 5min 20s\n"
     ]
    }
   ],
   "source": [
    "%%time\n",
    "\"\"\" predict \"\"\"\n",
    "y_pred__07 = model__07.fit_predict(X_test__07)"
   ]
  },
  {
   "cell_type": "code",
   "execution_count": 15,
   "metadata": {},
   "outputs": [
    {
     "name": "stdout",
     "output_type": "stream",
     "text": [
      "[[754008   7572]\n",
      " [  2888     74]]\n",
      "              precision    recall  f1-score   support\n",
      "\n",
      "           0     0.9962    0.9901    0.9931    761580\n",
      "           1     0.0097    0.0250    0.0140      2962\n",
      "\n",
      "    accuracy                         0.9863    764542\n",
      "   macro avg     0.5029    0.5075    0.5035    764542\n",
      "weighted avg     0.9924    0.9863    0.9893    764542\n",
      "\n",
      "0.5075203157641691\n"
     ]
    }
   ],
   "source": [
    "\"\"\" evaluate \"\"\"\n",
    "roc_auc__07 = evaluate(y_test, y_pred__07)"
   ]
  },
  {
   "cell_type": "code",
   "execution_count": 18,
   "metadata": {},
   "outputs": [],
   "source": [
    "\"\"\" get lof scores \"\"\"\n",
    "scores_pred__07 = model__07.negative_outlier_factor_"
   ]
  },
  {
   "cell_type": "code",
   "execution_count": 19,
   "metadata": {},
   "outputs": [],
   "source": [
    "\"\"\" save model \"\"\"\n",
    "save_result(model__07, X_test__07, y_pred__07, scores_pred__07, 'lof', selected_fts_names__07, roc_auc__07, 'exp07_mi3', config=f'n_neighbors={n_neighbors}\\ncontamination={contamination}')"
   ]
  },
  {
   "cell_type": "code",
   "execution_count": 20,
   "metadata": {},
   "outputs": [],
   "source": [
    "\"\"\" clean \"\"\"\n",
    "del X_test__07\n",
    "del model__07, y_pred__07, scores_pred__07"
   ]
  }
 ],
 "metadata": {
  "interpreter": {
   "hash": "ee5cc6fef2d70a7e71ee3826687cbd150f18158e0b1eef11d4f4f92bb920e304"
  },
  "kernelspec": {
   "display_name": "Python 3.9.6 64-bit",
   "language": "python",
   "name": "python3"
  },
  "language_info": {
   "codemirror_mode": {
    "name": "ipython",
    "version": 3
   },
   "file_extension": ".py",
   "mimetype": "text/x-python",
   "name": "python",
   "nbconvert_exporter": "python",
   "pygments_lexer": "ipython3",
   "version": "3.9.6"
  },
  "orig_nbformat": 4
 },
 "nbformat": 4,
 "nbformat_minor": 2
}
