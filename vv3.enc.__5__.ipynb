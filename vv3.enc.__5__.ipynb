{
 "cells": [
  {
   "cell_type": "code",
   "execution_count": 1,
   "metadata": {},
   "outputs": [],
   "source": [
    "import numpy as np\n",
    "import pandas as pd\n",
    "\n",
    "import warnings\n",
    "warnings.filterwarnings(\"ignore\")\n",
    "\n",
    "from sklearn.preprocessing import StandardScaler,MinMaxScaler"
   ]
  },
  {
   "cell_type": "markdown",
   "metadata": {},
   "source": [
    "# Read data"
   ]
  },
  {
   "cell_type": "code",
   "execution_count": 2,
   "metadata": {
    "colab": {},
    "colab_type": "code",
    "id": "NOMATARHRcV5"
   },
   "outputs": [],
   "source": [
    "af = 'vv'\n",
    "pf = '__5__'\n",
    "\n",
    "df__train = pd.read_csv(f'./data/tr.{af}1.csv')\n",
    "df__test = pd.read_csv(f'./data/t.{af}1.csv')\n",
    "df__val = pd.read_csv(f'./data/v.{af}1.csv')"
   ]
  },
  {
   "cell_type": "code",
   "execution_count": 3,
   "metadata": {},
   "outputs": [
    {
     "data": {
      "text/plain": [
       "Index(['Unnamed: 0', 'StreamID', 'StartTime', 'Dur', 'Proto', 'SrcAddr',\n",
       "       'Sport', 'Dir', 'DstAddr', 'Dport', 'State', 'sTos', 'dTos', 'TotPkts',\n",
       "       'TotBytes', 'SrcBytes', 'Label', 'LabelStr', 'PktsPerSec',\n",
       "       'BytesPerSec', 'SrcBytesPerSec', 'BytesPerPkt', 'DstBytes',\n",
       "       'DstBytesPerSec', 'sTos_0', 'sTos_2', 'sTos_3', 'sTos_1', 'sTos_-1',\n",
       "       'dTos_0', 'dTos_-1', 'dTos_3', 'dTos_2', 'dTos_1', 'State_orig',\n",
       "       'State_CON', 'State_alltcp', 'State_INT', 'State_S_', 'State_URP',\n",
       "       'State_ECO', 'State_RED', 'State_REQ', 'State_ECR', 'State_URH',\n",
       "       'State_TXD', 'State_URFIL', 'State_R_', 'State_URN', 'State_RSP',\n",
       "       'State_URHPRO', 'State_A_', 'State_other', 'Flag_nan', 'Flag_S',\n",
       "       'Flag_A', 'Flag_P', 'Flag_R', 'Flag_F', 'Proto_orig', 'Proto_udp',\n",
       "       'Proto_tcp', 'Proto_icmp', 'Proto_rtp', 'Proto_rtcp', 'Proto_igmp',\n",
       "       'Proto_arp', 'Proto_other', 'Service', 'Service_80', 'Service_443',\n",
       "       'Service_21', 'Service_22', 'Service_25', 'Service_6667',\n",
       "       'Service_other', 'SportHex', 'DportHex', 'sTosStr', 'dTosStr',\n",
       "       'pattern', 'key'],\n",
       "      dtype='object')"
      ]
     },
     "execution_count": 3,
     "metadata": {},
     "output_type": "execute_result"
    }
   ],
   "source": [
    "df__train.columns"
   ]
  },
  {
   "cell_type": "code",
   "execution_count": null,
   "metadata": {},
   "outputs": [],
   "source": []
  },
  {
   "cell_type": "markdown",
   "metadata": {
    "colab_type": "text",
    "id": "OPugBJCJ4M2t"
   },
   "source": [
    "## Standardizing\n",
    "    \n",
    "As we have seen that the range of few features in this dataset is very large. So we will keep everything within certain range by applying standardscaler. After this all the features will have mean 0 and std 1"
   ]
  },
  {
   "cell_type": "code",
   "execution_count": 4,
   "metadata": {
    "colab": {},
    "colab_type": "code",
    "id": "zahQPu3dAZyJ"
   },
   "outputs": [
    {
     "name": "stdout",
     "output_type": "stream",
     "text": [
      "[0.         0.25       0.25       0.         0.         0.\n",
      " 0.02170115 0.         0.15148525 0.         0.64735808 0.\n",
      " 0.         0.         0.         0.         0.         0.\n",
      " 0.         0.         0.         0.         0.         0.\n",
      " 0.         0.         0.         0.         0.         0.\n",
      " 0.         0.         0.         0.         0.         0.\n",
      " 0.         0.         0.         0.         0.         0.\n",
      " 0.         0.         0.         0.         0.         0.\n",
      " 0.         0.         0.        ]\n",
      "[2.72670742e-04 2.50000000e-01 2.50000000e-01 1.52585562e-05\n",
      " 1.85522261e-09 1.48738746e-06 3.88207977e-09 3.96033856e-09\n",
      " 2.80222836e-04 2.44914893e-07 3.01449599e-10 1.11088914e-09\n",
      " 1.00000000e+00 1.00000000e+00 1.00000000e+00 1.00000000e+00\n",
      " 1.00000000e+00 1.00000000e+00 1.00000000e+00 1.00000000e+00\n",
      " 1.00000000e+00 1.00000000e+00 1.00000000e+00 1.00000000e+00\n",
      " 1.00000000e+00 1.00000000e+00 1.00000000e+00 1.00000000e+00\n",
      " 1.00000000e+00 1.00000000e+00 1.00000000e+00 5.00000000e-01\n",
      " 5.00000000e-01 5.00000000e-01 5.00000000e-01 5.00000000e-01\n",
      " 1.00000000e+00 1.00000000e+00 1.00000000e+00 1.00000000e+00\n",
      " 1.00000000e+00 1.00000000e+00 1.00000000e+00 1.00000000e+00\n",
      " 1.00000000e+00 1.00000000e+00 1.00000000e+00 1.00000000e+00\n",
      " 1.00000000e+00 1.00000000e+00 1.00000000e+00]\n"
     ]
    }
   ],
   "source": [
    "# Standardizing the data\n",
    "'''\n",
    ",StreamID,StartTime,Dur,Proto,SrcAddr,Sport,Dir,DstAddr,Dport,State,sTos,dTos,TotPkts,TotBytes,SrcBytes,Label,LabelStr,PktsPerSec,BytesPerSec,SrcBytesPerSec,BytesPerPkt,DstBytes,DstBytesPerSec,State_orig,State_CON,State_alltcp,State_INT,State_S_,State_URP,State_ECO,State_RED,State_REQ,State_ECR,State_URH,State_TXD,State_URFIL,State_R_,State_URN,State_RSP,State_URHPRO,State_A_,State_other,Flag_nan,Flag_S,Flag_A,Flag_P,Flag_R,Flag_F,Proto_udp,Proto_tcp,Proto_icmp,Proto_rtp,Proto_rtcp,Proto_igmp,Proto_arp,Proto_other,Service,Service_80,Service_443,Service_21,Service_22,Service_25,Service_6667,Service_other,SportHex,DportHex,sTosStr,dTosStr,pattern,key\n",
    "'''\n",
    "numeric_cols = [\n",
    "    # 'Dir',\n",
    "    'Dur',\n",
    "    'sTos','dTos',\n",
    "    # 'SportHex','DportHex',\n",
    "    'Sport','Dport',\n",
    "    'PktsPerSec','BytesPerSec','SrcBytesPerSec','BytesPerPkt',\n",
    "    'TotPkts','TotBytes','SrcBytes',\n",
    "\n",
    "    # 'DstBytes','DstBytesPerSec',\n",
    "    \n",
    "    'State_CON','State_alltcp','State_INT','State_S_','State_URP','State_ECO','State_RED','State_REQ','State_ECR','State_URH','State_TXD','State_URFIL','State_R_','State_URN','State_RSP','State_URHPRO','State_A_','State_other',\n",
    "    'Flag_nan','Flag_S','Flag_A','Flag_P','Flag_R','Flag_F',\n",
    "    'Proto_udp','Proto_tcp','Proto_icmp','Proto_rtp','Proto_rtcp','Proto_igmp','Proto_arp','Proto_other',\n",
    "    'Service_80','Service_443','Service_21','Service_22','Service_25','Service_6667','Service_other'\n",
    "]\n",
    "\n",
    "ss = MinMaxScaler()\n",
    "ss = ss.fit(df__train[numeric_cols].values)\n",
    "df__train[numeric_cols] = ss.transform(df__train[numeric_cols].values)\n",
    "df__test[numeric_cols] = ss.transform(df__test[numeric_cols].values)\n",
    "df__val[numeric_cols] = ss.transform(df__val[numeric_cols].values)\n",
    "\n",
    "print(ss.min_)\n",
    "print(ss.scale_)"
   ]
  },
  {
   "cell_type": "markdown",
   "metadata": {},
   "source": [
    "# X y"
   ]
  },
  {
   "cell_type": "code",
   "execution_count": 5,
   "metadata": {},
   "outputs": [],
   "source": [
    "fts_cols = [\n",
    "       'Dur',\n",
    "\n",
    "       'sTos', 'dTos', \n",
    "       'Sport', 'Dport',\n",
    "\n",
    "       'TotPkts', 'TotBytes',\n",
    "       'SrcBytes', 'PktsPerSec', 'BytesPerSec',\n",
    "       'SrcBytesPerSec', 'BytesPerPkt', \n",
    "       'DstBytes', 'DstBytesPerSec',\n",
    "\n",
    "       'SportHex', 'DportHex',\n",
    "\n",
    "       'sTos_-1','sTos_0','sTos_1','sTos_2','sTos_3',\n",
    "       'dTos_-1','dTos_0','dTos_1','dTos_2','dTos_3',\n",
    "\n",
    "       'State_CON', 'State_alltcp', 'State_INT', 'State_S_',\n",
    "       'State_URP', 'State_ECO', 'State_RED', 'State_REQ', 'State_ECR',\n",
    "       'State_URH', 'State_TXD', 'State_URFIL', 'State_R_', 'State_URN',\n",
    "       'State_RSP', 'State_URHPRO', 'State_A_', 'State_other', 'Flag_nan',\n",
    "\n",
    "       'Flag_S', 'Flag_A', 'Flag_P', 'Flag_R', 'Flag_F', \n",
    "\n",
    "       'Proto_udp', 'Proto_tcp', 'Proto_icmp', 'Proto_rtp', 'Proto_rtcp',\n",
    "       'Proto_igmp', 'Proto_arp', 'Proto_other', 'Service_80',\n",
    "\n",
    "       'Service_443', 'Service_21', 'Service_22', 'Service_25', 'Service_6667',\n",
    "       'Service_other', \n",
    "]"
   ]
  },
  {
   "cell_type": "code",
   "execution_count": 6,
   "metadata": {},
   "outputs": [],
   "source": [
    "\"\"\" creating x and y set from the dataset \"\"\"\n",
    "X_train, y_train = df__train[fts_cols].values, df__train['Label'].values\n",
    "X_test, y_test = df__test[fts_cols].values, df__test['Label'].values\n",
    "X_val, y_val = df__val[fts_cols].values, df__val['Label'].values"
   ]
  },
  {
   "cell_type": "code",
   "execution_count": 7,
   "metadata": {},
   "outputs": [
    {
     "name": "stdout",
     "output_type": "stream",
     "text": [
      "(1529165, 65) (1529165,)\n"
     ]
    }
   ],
   "source": [
    "\"\"\" for binary classification \"\"\"\n",
    "y_train[y_train != 5] = 0\n",
    "y_train[y_train == 5] = 1\n",
    "\n",
    "y_test[y_test != 5] = 0\n",
    "y_test[y_test == 5] = 1\n",
    "\n",
    "y_val[y_val != 5] = 0\n",
    "y_val[y_val == 5] = 1\n",
    "\n",
    "print(X_train.shape, y_train.shape)"
   ]
  },
  {
   "cell_type": "markdown",
   "metadata": {},
   "source": [
    "# Save ?"
   ]
  },
  {
   "cell_type": "code",
   "execution_count": 8,
   "metadata": {},
   "outputs": [],
   "source": [
    "np.save(f'data/{af}3.tr.X.{pf}.npy', X_train)\n",
    "np.save(f'data/{af}3.tr.y.npy', y_train)\n",
    "\n",
    "np.save(f'data/{af}3.t.X.{pf}.npy', X_test)\n",
    "np.save(f'data/{af}3.t.y.npy', y_test)\n",
    "\n",
    "np.save(f'data/{af}3.v.X.{pf}.npy', X_val)\n",
    "np.save(f'data/{af}3.v.y.npy', y_val)"
   ]
  },
  {
   "cell_type": "code",
   "execution_count": 10,
   "metadata": {},
   "outputs": [
    {
     "data": {
      "text/plain": [
       "614"
      ]
     },
     "execution_count": 10,
     "metadata": {},
     "output_type": "execute_result"
    }
   ],
   "source": [
    "open(f'data/{af}3.fts_cols.{pf}.txt', 'w').write('\\n'.join(fts_cols))"
   ]
  },
  {
   "cell_type": "code",
   "execution_count": 11,
   "metadata": {},
   "outputs": [],
   "source": [
    "#? cleanup\n",
    "del df__train\n",
    "del df__test\n",
    "del df__val\n",
    "del X_train\n",
    "del y_train\n",
    "del X_test\n",
    "del y_test\n",
    "del X_val\n",
    "del y_val"
   ]
  }
 ],
 "metadata": {
  "interpreter": {
   "hash": "ee5cc6fef2d70a7e71ee3826687cbd150f18158e0b1eef11d4f4f92bb920e304"
  },
  "kernelspec": {
   "display_name": "Python 3.9.6 64-bit",
   "language": "python",
   "name": "python3"
  },
  "language_info": {
   "codemirror_mode": {
    "name": "ipython",
    "version": 3
   },
   "file_extension": ".py",
   "mimetype": "text/x-python",
   "name": "python",
   "nbconvert_exporter": "python",
   "pygments_lexer": "ipython3",
   "version": "3.9.6"
  },
  "orig_nbformat": 4
 },
 "nbformat": 4,
 "nbformat_minor": 2
}
