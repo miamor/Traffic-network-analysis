{
 "cells": [
  {
   "cell_type": "markdown",
   "metadata": {},
   "source": [
    "# 4colab"
   ]
  },
  {
   "cell_type": "code",
   "execution_count": 7,
   "metadata": {},
   "outputs": [],
   "source": [
    "# # Load the Drive helper and mount\n",
    "# from google.colab import drive\n",
    "\n",
    "# # This will prompt for authorization.\n",
    "# drive.mount('/content/drive')\n",
    "\n",
    "# %cd '/content/drive/MyDrive/Colab Notebooks/C73_A2_1/data'\n",
    "# !ls\n",
    "\n",
    "# data_dir = '/content/drive/MyDrive/Colab Notebooks/C73_A2_1/data'\n",
    "# result_dir = '/content/drive/MyDrive/Colab Notebooks/C73_A2_1/result'"
   ]
  },
  {
   "cell_type": "code",
   "execution_count": 8,
   "metadata": {},
   "outputs": [],
   "source": [
    "data_dir = 'data'\n",
    "result_dir = 'result'"
   ]
  },
  {
   "cell_type": "markdown",
   "metadata": {},
   "source": [
    "# Import"
   ]
  },
  {
   "cell_type": "code",
   "execution_count": 9,
   "metadata": {},
   "outputs": [],
   "source": [
    "import pandas as pd\n",
    "import numpy as np\n",
    "import matplotlib.pyplot as plt\n",
    "import copy\n",
    "\n",
    "import warnings\n",
    "warnings.filterwarnings(\"ignore\")"
   ]
  },
  {
   "cell_type": "markdown",
   "metadata": {},
   "source": [
    "# Read data"
   ]
  },
  {
   "cell_type": "code",
   "execution_count": 10,
   "metadata": {},
   "outputs": [],
   "source": [
    "af = 'vv'\n",
    "dt = 'v'\n",
    "pf = '__5__'\n",
    "\n",
    "Xtrain = np.load(f'{data_dir}/{af}3.tr.X.{pf}.npy', allow_pickle=True)\n",
    "y_train = np.load(f'{data_dir}/{af}3.tr.y.npy', allow_pickle=True)\n",
    "\n",
    "Xtest = np.load(f'{data_dir}/{af}3.t.X.{pf}.npy', allow_pickle=True)\n",
    "y_test = np.load(f'{data_dir}/{af}3.t.y.npy', allow_pickle=True)\n",
    "\n",
    "# Xval = np.load(f'{data_dir}/{af}3.v.X.{pf}.npy', allow_pickle=True)\n",
    "# y_val = np.load(f'{data_dir}/{af}3.v.y.npy', allow_pickle=True)\n",
    "\n",
    "#? features names\n",
    "fts_names = [line.strip() for line in open(f'{data_dir}/{af}3.fts_cols.{pf}.txt').readlines()]"
   ]
  },
  {
   "cell_type": "code",
   "execution_count": 11,
   "metadata": {},
   "outputs": [
    {
     "data": {
      "text/plain": [
       "(1529165, 65)"
      ]
     },
     "execution_count": 11,
     "metadata": {},
     "output_type": "execute_result"
    }
   ],
   "source": [
    "Xtrain.shape"
   ]
  },
  {
   "cell_type": "code",
   "execution_count": 12,
   "metadata": {},
   "outputs": [],
   "source": [
    "# for i in range(0, len(fts_names)):\n",
    "#     print(i, fts_names[i])"
   ]
  },
  {
   "cell_type": "markdown",
   "metadata": {},
   "source": [
    "# Kmeans functions"
   ]
  },
  {
   "cell_type": "code",
   "execution_count": 37,
   "metadata": {},
   "outputs": [],
   "source": [
    "from scipy.spatial.distance import euclidean\n",
    "from scipy.stats import median_abs_deviation\n",
    "\n",
    "def calculate_modifed_z_score(array, medians, mads):\n",
    "    \"\"\"\n",
    "    This function is made to be used with `numpy.apply_along_axis`. Takes in a 2-dimensional \n",
    "    vector of distances and labels and returns their respective Modified Z-score acording to \n",
    "    their respective distribution.\n",
    "    \"\"\"\n",
    "    distance, label = array\n",
    "    median = medians[label]\n",
    "    mad = mads[label]\n",
    "    z_mod = (distance - median)/mad\n",
    "    return z_mod\n",
    "\n",
    "def get_distance_centroid(array, centroids):\n",
    "    \"\"\"\n",
    "    This function is made to be used with `numpy.apply_along_axis`.Takes in an n-dimensional \n",
    "    vector of features (previously processed) and finds the distance to their respective \n",
    "    cluster centroid.\n",
    "    \"\"\"\n",
    "    vector = array[:-1]\n",
    "    label = array[-1]\n",
    "    centroid = centroids[int(label)]\n",
    "    dist = euclidean(vector, centroid)\n",
    "    return dist\n",
    "\n",
    "def characterization_k_clusters(kmeans_model, X, features_name):\n",
    "    \"\"\"\n",
    "    \"\"\"\n",
    "    arr_labels = kmeans_model.predict(X).reshape((-1, 1))\n",
    "    arr_centroids = kmeans_model.cluster_centers_\n",
    "\n",
    "    \"\"\" store data to dataframe \"\"\"\n",
    "    dataframe = pd.DataFrame(X, columns=features_name)\n",
    "    dataframe['clusters'] = arr_labels.flatten()\n",
    "\n",
    "    # 2. Create an array of features and lables\n",
    "    arr_features_and_labels = dataframe[features_name + ['clusters']].values\n",
    "\n",
    "    # 3. Find the distance between the centroid and its respective vectors\n",
    "    arr_distance_between_centroid_vectors = np.apply_along_axis(func1d=get_distance_centroid, arr=arr_features_and_labels,\n",
    "                                                                axis=1, centroids=arr_centroids)\n",
    "    dataframe['distance_centroid'] = arr_distance_between_centroid_vectors\n",
    "\n",
    "    # 4. Ge the modified Z-score of each distance_centroid observation\n",
    "    arr_distance_and_labels = dataframe[['distance_centroid', 'clusters']].values\n",
    "    # -> Iterate over the labes and get the median and MAD\n",
    "    arr_labels_iterations = np.sort(dataframe['clusters'].unique())\n",
    "    list_medians = {}\n",
    "    list_mads = {}\n",
    "    for label in arr_labels_iterations:\n",
    "        arr_distance_specific_cluster = dataframe.query(f\"clusters == {label}\")['distance_centroid'].values\n",
    "        median_distance_specific_cluster = np.median(arr_distance_specific_cluster)\n",
    "        mad_distance_specific_cluster = median_abs_deviation(arr_distance_specific_cluster)\n",
    "        list_medians[label] = median_distance_specific_cluster\n",
    "        list_mads[label] = mad_distance_specific_cluster\n",
    "\n",
    "    # -> Calculate the Modified Z-score\n",
    "    arr_z_mod = np.apply_along_axis(func1d=calculate_modifed_z_score, arr=arr_distance_and_labels, axis=1,\n",
    "                                    medians=list_medians, mads=list_mads)\n",
    "    dataframe['z_mod'] = arr_z_mod\n",
    "\n",
    "    return dataframe"
   ]
  },
  {
   "cell_type": "code",
   "execution_count": 14,
   "metadata": {},
   "outputs": [],
   "source": [
    "def detect_anomaly(value, threshold):\n",
    "    if value > threshold:\n",
    "        return -1 #? anomaly\n",
    "    return 1 #? normal"
   ]
  },
  {
   "cell_type": "code",
   "execution_count": 15,
   "metadata": {},
   "outputs": [],
   "source": [
    "from sklearn.cluster import KMeans\n",
    "from sklearn.metrics import silhouette_score\n",
    "\n",
    "\n",
    "def find_optimal_k_clusters_plot(X, minK, maxK, titlePlot, random_state=11):\n",
    "    \"\"\"\n",
    "    This function displays a plot of the Within Cluster Sum Squares (WCSS) and the \n",
    "    Silhouette Score. The objective of this function is to visually identify the \n",
    "    optimal number of clusters\n",
    "\n",
    "    * **`minK`** and **`maxK`** (_int_): are the minimun (inclusive) and maximum (non inclusive)\n",
    "    amount of clusters to test.\n",
    "    * **`random_state`** (_default = 11_): Is a random seed for reproducibility \n",
    "    \"\"\"\n",
    "    wcss = []\n",
    "    list_models = []\n",
    "\n",
    "    for i in range(minK, maxK):\n",
    "        kmeans = KMeans(n_clusters=i, init='k-means++',\n",
    "                        random_state=random_state)\n",
    "        kmeans.fit(X)\n",
    "        list_models.append(kmeans)\n",
    "        wcss.append(kmeans.inertia_)\n",
    "\n",
    "    sil_scores = [silhouette_score(X, model.labels_, random_state=random_state)\n",
    "                  for model in list_models[1:]]\n",
    "\n",
    "    # P L O T   R E S U L T S\n",
    "    fig, ax1 = plt.subplots(figsize=(6, 4.5), dpi=100, facecolor='white')\n",
    "    ax1.set_facecolor('white')\n",
    "    fig.suptitle(titlePlot, size=13)\n",
    "    ax1.plot(range(minK, maxK), wcss,\n",
    "             linestyle='--', marker='P', color='teal', label='WCSS')\n",
    "    ax1.set_xlabel('Number of clusters')\n",
    "    ax1.set_ylabel('WCSS')\n",
    "    ax1.tick_params(axis='y', colors='teal')\n",
    "    ax1.yaxis.label.set_color('teal')\n",
    "\n",
    "    ax2 = ax1.twinx()\n",
    "    ax2.plot(range(minK + 1, maxK), sil_scores,\n",
    "             linestyle=':', marker='o', color='maroon', label='Silhouette score')\n",
    "    ax2.set_ylabel('Silhouette Score')\n",
    "    ax2.tick_params(axis='y', colors='maroon')\n",
    "    ax2.yaxis.label.set_color('maroon')\n"
   ]
  },
  {
   "cell_type": "markdown",
   "metadata": {},
   "source": [
    "# Test and evaluate"
   ]
  },
  {
   "cell_type": "code",
   "execution_count": 16,
   "metadata": {},
   "outputs": [],
   "source": [
    "from sklearn.metrics import classification_report, confusion_matrix, PrecisionRecallDisplay, f1_score, roc_auc_score, roc_curve, auc\n",
    "\n",
    "def evaluate(y_true, y_pred):\n",
    "    cm = confusion_matrix(y_true, y_pred)\n",
    "    print(cm)\n",
    "    print(classification_report(y_true, y_pred, digits=4))\n",
    "    roc_auc = roc_auc_score(y_true, y_pred)\n",
    "    print(roc_auc)\n",
    "\n",
    "    # display = PrecisionRecallDisplay.from_predictions(y_true, y_pred)\n",
    "    # _ = display.ax_.set_title(\"2-class Precision-Recall curve\")\n",
    "    return roc_auc"
   ]
  },
  {
   "cell_type": "code",
   "execution_count": 17,
   "metadata": {},
   "outputs": [],
   "source": [
    "import pickle\n",
    "\n",
    "def save_result(model, Xtr, Xt, model_name, selected_fts_names, roc_auc, expname='', config=None):\n",
    "    ra = '{:.2f}'.format(round(roc_auc * 100, 2))\n",
    "    if ra <= 70: #? not good enough to even bother\n",
    "        return\n",
    "    \n",
    "    #? save model\n",
    "    pickle.dump(model, open(f'{result_dir}/{af}5.model_{model_name}.__{ra}__.__{expname}__.{pf}.pkl','wb'))\n",
    "\n",
    "    #? save transformed X as well\n",
    "    np.save(f'{result_dir}/{af}5.data_{model_name}.__{ra}__.__{expname}__.tr.X.{pf}.npy', Xtr)\n",
    "    np.save(f'{result_dir}/{af}5.data_{model_name}.__{ra}__.__{expname}__.t.X.{pf}.npy', Xt)\n",
    "    # np.save(f'{result_dir}/u3-5.data_{model_name}.__{ra}__.v.X.{pf}.npy', x_val)\n",
    "\n",
    "    #? save fts\n",
    "    open(f'{result_dir}/{af}5.fts_{model_name}.__{ra}__.__{expname}__.{pf}.txt', 'w').write('\\n'.join(selected_fts_names))\n",
    "    #? save config\n",
    "    if config is not None:\n",
    "        open(f'{result_dir}/{af}5.config_{model_name}.__{ra}__.__{expname}__.{pf}.txt', 'w').write(config)"
   ]
  },
  {
   "cell_type": "markdown",
   "metadata": {},
   "source": [
    "## Exp 02: Run on all features\n",
    "\n",
    "The result increase, yet running time is much higher\n",
    "\n",
    "```\n",
    "CPU times: total: 2min 13s\n",
    "Wall time: 39.8 s\n",
    "\n",
    "[[751564  10016]\n",
    " [  1123   1839]]\n",
    "              precision    recall  f1-score   support\n",
    "\n",
    "           0     0.9985    0.9868    0.9926    761580\n",
    "           1     0.1551    0.6209    0.2482      2962\n",
    "\n",
    "    accuracy                         0.9854    764542\n",
    "   macro avg     0.5768    0.8039    0.6204    764542\n",
    "weighted avg     0.9952    0.9854    0.9898    764542\n",
    "\n",
    "0.8038563375096434\n",
    "```"
   ]
  },
  {
   "cell_type": "code",
   "execution_count": 18,
   "metadata": {},
   "outputs": [
    {
     "data": {
      "text/plain": [
       "'Dur, sTos, dTos, Sport, Dport, TotPkts, TotBytes, SrcBytes, PktsPerSec, BytesPerSec, SrcBytesPerSec, BytesPerPkt, DstBytes, DstBytesPerSec, SportHex, DportHex, sTos_-1, sTos_0, sTos_1, sTos_2, sTos_3, dTos_-1, dTos_0, dTos_1, dTos_2, dTos_3, State_CON, State_alltcp, State_INT, State_S_, State_URP, State_ECO, State_RED, State_REQ, State_ECR, State_URH, State_TXD, State_URFIL, State_R_, State_URN, State_RSP, State_URHPRO, State_A_, State_other, Flag_nan, Flag_S, Flag_A, Flag_P, Flag_R, Flag_F, Proto_udp, Proto_tcp, Proto_icmp, Proto_rtp, Proto_rtcp, Proto_igmp, Proto_arp, Proto_other, Service_80, Service_443, Service_21, Service_22, Service_25, Service_6667, Service_other'"
      ]
     },
     "execution_count": 18,
     "metadata": {},
     "output_type": "execute_result"
    }
   ],
   "source": [
    "\"\"\" select features \"\"\"\n",
    "selected_fts_names__02 = fts_names[:]\n",
    "', '.join(selected_fts_names__02)"
   ]
  },
  {
   "cell_type": "code",
   "execution_count": 19,
   "metadata": {},
   "outputs": [
    {
     "name": "stdout",
     "output_type": "stream",
     "text": [
      "(1529165, 65)\n"
     ]
    }
   ],
   "source": [
    "X_train__02 = Xtrain[:,:]\n",
    "X_test__02 = Xtest[:,:]\n",
    "# X_val__02 = Xval[:,:]\n",
    "print(X_train__02.shape)"
   ]
  },
  {
   "cell_type": "code",
   "execution_count": 20,
   "metadata": {},
   "outputs": [],
   "source": [
    "# \"\"\" Test from 1 to 12 clusters \"\"\"\n",
    "# find_optimal_k_clusters_plot(X_train__02, minK=1, maxK=4, titlePlot='Find optimal k')"
   ]
  },
  {
   "cell_type": "code",
   "execution_count": 22,
   "metadata": {},
   "outputs": [
    {
     "name": "stdout",
     "output_type": "stream",
     "text": [
      "CPU times: total: 1min 40s\n",
      "Wall time: 7.9 s\n"
     ]
    },
    {
     "data": {
      "text/html": [
       "<style>#sk-container-id-1 {color: black;background-color: white;}#sk-container-id-1 pre{padding: 0;}#sk-container-id-1 div.sk-toggleable {background-color: white;}#sk-container-id-1 label.sk-toggleable__label {cursor: pointer;display: block;width: 100%;margin-bottom: 0;padding: 0.3em;box-sizing: border-box;text-align: center;}#sk-container-id-1 label.sk-toggleable__label-arrow:before {content: \"▸\";float: left;margin-right: 0.25em;color: #696969;}#sk-container-id-1 label.sk-toggleable__label-arrow:hover:before {color: black;}#sk-container-id-1 div.sk-estimator:hover label.sk-toggleable__label-arrow:before {color: black;}#sk-container-id-1 div.sk-toggleable__content {max-height: 0;max-width: 0;overflow: hidden;text-align: left;background-color: #f0f8ff;}#sk-container-id-1 div.sk-toggleable__content pre {margin: 0.2em;color: black;border-radius: 0.25em;background-color: #f0f8ff;}#sk-container-id-1 input.sk-toggleable__control:checked~div.sk-toggleable__content {max-height: 200px;max-width: 100%;overflow: auto;}#sk-container-id-1 input.sk-toggleable__control:checked~label.sk-toggleable__label-arrow:before {content: \"▾\";}#sk-container-id-1 div.sk-estimator input.sk-toggleable__control:checked~label.sk-toggleable__label {background-color: #d4ebff;}#sk-container-id-1 div.sk-label input.sk-toggleable__control:checked~label.sk-toggleable__label {background-color: #d4ebff;}#sk-container-id-1 input.sk-hidden--visually {border: 0;clip: rect(1px 1px 1px 1px);clip: rect(1px, 1px, 1px, 1px);height: 1px;margin: -1px;overflow: hidden;padding: 0;position: absolute;width: 1px;}#sk-container-id-1 div.sk-estimator {font-family: monospace;background-color: #f0f8ff;border: 1px dotted black;border-radius: 0.25em;box-sizing: border-box;margin-bottom: 0.5em;}#sk-container-id-1 div.sk-estimator:hover {background-color: #d4ebff;}#sk-container-id-1 div.sk-parallel-item::after {content: \"\";width: 100%;border-bottom: 1px solid gray;flex-grow: 1;}#sk-container-id-1 div.sk-label:hover label.sk-toggleable__label {background-color: #d4ebff;}#sk-container-id-1 div.sk-serial::before {content: \"\";position: absolute;border-left: 1px solid gray;box-sizing: border-box;top: 0;bottom: 0;left: 50%;z-index: 0;}#sk-container-id-1 div.sk-serial {display: flex;flex-direction: column;align-items: center;background-color: white;padding-right: 0.2em;padding-left: 0.2em;position: relative;}#sk-container-id-1 div.sk-item {position: relative;z-index: 1;}#sk-container-id-1 div.sk-parallel {display: flex;align-items: stretch;justify-content: center;background-color: white;position: relative;}#sk-container-id-1 div.sk-item::before, #sk-container-id-1 div.sk-parallel-item::before {content: \"\";position: absolute;border-left: 1px solid gray;box-sizing: border-box;top: 0;bottom: 0;left: 50%;z-index: -1;}#sk-container-id-1 div.sk-parallel-item {display: flex;flex-direction: column;z-index: 1;position: relative;background-color: white;}#sk-container-id-1 div.sk-parallel-item:first-child::after {align-self: flex-end;width: 50%;}#sk-container-id-1 div.sk-parallel-item:last-child::after {align-self: flex-start;width: 50%;}#sk-container-id-1 div.sk-parallel-item:only-child::after {width: 0;}#sk-container-id-1 div.sk-dashed-wrapped {border: 1px dashed gray;margin: 0 0.4em 0.5em 0.4em;box-sizing: border-box;padding-bottom: 0.4em;background-color: white;}#sk-container-id-1 div.sk-label label {font-family: monospace;font-weight: bold;display: inline-block;line-height: 1.2em;}#sk-container-id-1 div.sk-label-container {text-align: center;}#sk-container-id-1 div.sk-container {/* jupyter's `normalize.less` sets `[hidden] { display: none; }` but bootstrap.min.css set `[hidden] { display: none !important; }` so we also need the `!important` here to be able to override the default hidden behavior on the sphinx rendered scikit-learn.org. See: https://github.com/scikit-learn/scikit-learn/issues/21755 */display: inline-block !important;position: relative;}#sk-container-id-1 div.sk-text-repr-fallback {display: none;}</style><div id=\"sk-container-id-1\" class=\"sk-top-container\"><div class=\"sk-text-repr-fallback\"><pre>KMeans(init=&#x27;random&#x27;, max_iter=500000, n_clusters=6, random_state=11)</pre><b>In a Jupyter environment, please rerun this cell to show the HTML representation or trust the notebook. <br />On GitHub, the HTML representation is unable to render, please try loading this page with nbviewer.org.</b></div><div class=\"sk-container\" hidden><div class=\"sk-item\"><div class=\"sk-estimator sk-toggleable\"><input class=\"sk-toggleable__control sk-hidden--visually\" id=\"sk-estimator-id-1\" type=\"checkbox\" checked><label for=\"sk-estimator-id-1\" class=\"sk-toggleable__label sk-toggleable__label-arrow\">KMeans</label><div class=\"sk-toggleable__content\"><pre>KMeans(init=&#x27;random&#x27;, max_iter=500000, n_clusters=6, random_state=11)</pre></div></div></div></div></div>"
      ],
      "text/plain": [
       "KMeans(init='random', max_iter=500000, n_clusters=6, random_state=11)"
      ]
     },
     "execution_count": 22,
     "metadata": {},
     "output_type": "execute_result"
    }
   ],
   "source": [
    "\"\"\" train \"\"\"\n",
    "from sklearn.cluster import KMeans\n",
    "\n",
    "n_clusters = 6\n",
    "model__02 = KMeans(n_clusters=n_clusters, init='random', n_init=10, max_iter=500000, random_state=11, verbose=0)\n",
    "model__02.fit(X_train__02)\n",
    "\n",
    "%time model__02.fit(X_train__02)"
   ]
  },
  {
   "cell_type": "code",
   "execution_count": 51,
   "metadata": {},
   "outputs": [
    {
     "name": "stdout",
     "output_type": "stream",
     "text": [
      "CPU times: total: 11.1 s\n",
      "Wall time: 10.3 s\n"
     ]
    }
   ],
   "source": [
    "%%time\n",
    "\"\"\" predict \"\"\"\n",
    "df_out__02 = characterization_k_clusters(model__02, X_test__02, features_name=selected_fts_names__02)"
   ]
  },
  {
   "cell_type": "code",
   "execution_count": 52,
   "metadata": {},
   "outputs": [
    {
     "name": "stdout",
     "output_type": "stream",
     "text": [
      "count    764542.000000\n",
      "mean          0.504369\n",
      "std           5.202642\n",
      "min          -3.640574\n",
      "25%          -0.871671\n",
      "50%           0.000000\n",
      "75%           1.074429\n",
      "max         440.155625\n",
      "Name: z_mod, dtype: float64\n"
     ]
    }
   ],
   "source": [
    "print(df_out__02['z_mod'].describe())"
   ]
  },
  {
   "cell_type": "code",
   "execution_count": 53,
   "metadata": {},
   "outputs": [],
   "source": [
    "\"\"\" detect outliers using threshold on z_mod score \"\"\"\n",
    "thresh = 20\n",
    "df_out__02['Label_Pred'] = df_out__02['z_mod'].apply(detect_anomaly, args=(thresh,))\n",
    "y_pred__02 = df_out__02['Label_Pred'].values"
   ]
  },
  {
   "cell_type": "code",
   "execution_count": 54,
   "metadata": {},
   "outputs": [
    {
     "name": "stdout",
     "output_type": "stream",
     "text": [
      "[[759422   2158]\n",
      " [  2962      0]]\n",
      "              precision    recall  f1-score   support\n",
      "\n",
      "           0     0.9961    0.9972    0.9966    761580\n",
      "           1     0.0000    0.0000    0.0000      2962\n",
      "\n",
      "    accuracy                         0.9933    764542\n",
      "   macro avg     0.4981    0.4986    0.4983    764542\n",
      "weighted avg     0.9923    0.9933    0.9928    764542\n",
      "\n",
      "0.49858320859266264\n"
     ]
    }
   ],
   "source": [
    "\"\"\" evaluate \"\"\"\n",
    "#? relabel to use classification metrics\n",
    "y_pred__02[y_pred__02 == 1] = 0\n",
    "y_pred__02[y_pred__02 == -1] = 1\n",
    "\n",
    "roc_auc__02 = evaluate(y_test, y_pred__02)"
   ]
  },
  {
   "cell_type": "markdown",
   "metadata": {},
   "source": [
    "### Save model ?"
   ]
  },
  {
   "cell_type": "code",
   "execution_count": 20,
   "metadata": {},
   "outputs": [],
   "source": [
    "save_result(model__02, X_train__02, X_test__02, 'iforest', selected_fts_names__02, roc_auc__02, 'exp02__fts-all')"
   ]
  },
  {
   "cell_type": "markdown",
   "metadata": {},
   "source": [
    "## Exp 04: Run on chosen set of features\n",
    "\n",
    "The overall ROC_AUC end execution time does not change much from experiment 02 or 03.  \n",
    "Recall for minority class increases.  \n",
    "\n",
    "```\n",
    "CPU times: total: 7h 17min 18s\n",
    "Wall time: 27min 47s\n",
    "\n",
    "[[744296  17284]\n",
    " [  1711   1251]]\n",
    "              precision    recall  f1-score   support\n",
    "\n",
    "           0     0.9977    0.9773    0.9874    761580\n",
    "           1     0.0675    0.4223    0.1164      2962\n",
    "\n",
    "    accuracy                         0.9752    764542\n",
    "   macro avg     0.5326    0.6998    0.5519    764542\n",
    "weighted avg     0.9941    0.9752    0.9840    764542\n",
    "\n",
    "0.6998274199809809\n",
    "```"
   ]
  },
  {
   "cell_type": "code",
   "execution_count": 42,
   "metadata": {},
   "outputs": [
    {
     "data": {
      "text/plain": [
       "49"
      ]
     },
     "execution_count": 42,
     "metadata": {},
     "output_type": "execute_result"
    }
   ],
   "source": [
    "\"\"\" select features \"\"\"\n",
    "selected_fts_names__04 = ['sTos', 'Sport', 'Dport', 'TotPkts', 'TotBytes', 'SrcBytes', 'PktsPerSec', 'BytesPerSec', 'SrcBytesPerSec', 'BytesPerPkt', 'State_CON', 'State_alltcp', 'State_INT', 'State_S_', 'State_URP', 'State_ECO', 'State_RED', 'State_REQ', 'State_ECR', 'State_URH', 'State_TXD', 'State_URFIL', 'State_R_', 'State_URN', 'State_RSP', 'State_URHPRO', 'State_A_', 'State_other', 'Flag_nan', 'Flag_S', 'Flag_A', 'Flag_P', 'Flag_R', 'Flag_F', 'Proto_udp', 'Proto_tcp', 'Proto_icmp', 'Proto_rtp', 'Proto_rtcp', 'Proto_igmp', 'Proto_arp', 'Proto_other', 'Service_80', 'Service_443', 'Service_21', 'Service_22', 'Service_25', 'Service_6667', 'Service_other']\n",
    "idx__selected_fts_names__04 = [fts_names.index(s) for s in selected_fts_names__04]\n",
    "len(idx__selected_fts_names__04)"
   ]
  },
  {
   "cell_type": "code",
   "execution_count": 43,
   "metadata": {},
   "outputs": [
    {
     "name": "stdout",
     "output_type": "stream",
     "text": [
      "(1529165, 49)\n"
     ]
    }
   ],
   "source": [
    "X_train__04 = np.concatenate(tuple([Xtrain[:,[idx]] for idx in idx__selected_fts_names__04]), axis=1)\n",
    "X_test__04 = np.concatenate(tuple([Xtest[:,[idx]] for idx in idx__selected_fts_names__04]), axis=1)\n",
    "\n",
    "print(X_train__04.shape)"
   ]
  },
  {
   "cell_type": "code",
   "execution_count": 44,
   "metadata": {},
   "outputs": [
    {
     "name": "stdout",
     "output_type": "stream",
     "text": [
      "CPU times: total: 1min 1s\n",
      "Wall time: 5.14 s\n"
     ]
    },
    {
     "data": {
      "text/html": [
       "<style>#sk-container-id-2 {color: black;background-color: white;}#sk-container-id-2 pre{padding: 0;}#sk-container-id-2 div.sk-toggleable {background-color: white;}#sk-container-id-2 label.sk-toggleable__label {cursor: pointer;display: block;width: 100%;margin-bottom: 0;padding: 0.3em;box-sizing: border-box;text-align: center;}#sk-container-id-2 label.sk-toggleable__label-arrow:before {content: \"▸\";float: left;margin-right: 0.25em;color: #696969;}#sk-container-id-2 label.sk-toggleable__label-arrow:hover:before {color: black;}#sk-container-id-2 div.sk-estimator:hover label.sk-toggleable__label-arrow:before {color: black;}#sk-container-id-2 div.sk-toggleable__content {max-height: 0;max-width: 0;overflow: hidden;text-align: left;background-color: #f0f8ff;}#sk-container-id-2 div.sk-toggleable__content pre {margin: 0.2em;color: black;border-radius: 0.25em;background-color: #f0f8ff;}#sk-container-id-2 input.sk-toggleable__control:checked~div.sk-toggleable__content {max-height: 200px;max-width: 100%;overflow: auto;}#sk-container-id-2 input.sk-toggleable__control:checked~label.sk-toggleable__label-arrow:before {content: \"▾\";}#sk-container-id-2 div.sk-estimator input.sk-toggleable__control:checked~label.sk-toggleable__label {background-color: #d4ebff;}#sk-container-id-2 div.sk-label input.sk-toggleable__control:checked~label.sk-toggleable__label {background-color: #d4ebff;}#sk-container-id-2 input.sk-hidden--visually {border: 0;clip: rect(1px 1px 1px 1px);clip: rect(1px, 1px, 1px, 1px);height: 1px;margin: -1px;overflow: hidden;padding: 0;position: absolute;width: 1px;}#sk-container-id-2 div.sk-estimator {font-family: monospace;background-color: #f0f8ff;border: 1px dotted black;border-radius: 0.25em;box-sizing: border-box;margin-bottom: 0.5em;}#sk-container-id-2 div.sk-estimator:hover {background-color: #d4ebff;}#sk-container-id-2 div.sk-parallel-item::after {content: \"\";width: 100%;border-bottom: 1px solid gray;flex-grow: 1;}#sk-container-id-2 div.sk-label:hover label.sk-toggleable__label {background-color: #d4ebff;}#sk-container-id-2 div.sk-serial::before {content: \"\";position: absolute;border-left: 1px solid gray;box-sizing: border-box;top: 0;bottom: 0;left: 50%;z-index: 0;}#sk-container-id-2 div.sk-serial {display: flex;flex-direction: column;align-items: center;background-color: white;padding-right: 0.2em;padding-left: 0.2em;position: relative;}#sk-container-id-2 div.sk-item {position: relative;z-index: 1;}#sk-container-id-2 div.sk-parallel {display: flex;align-items: stretch;justify-content: center;background-color: white;position: relative;}#sk-container-id-2 div.sk-item::before, #sk-container-id-2 div.sk-parallel-item::before {content: \"\";position: absolute;border-left: 1px solid gray;box-sizing: border-box;top: 0;bottom: 0;left: 50%;z-index: -1;}#sk-container-id-2 div.sk-parallel-item {display: flex;flex-direction: column;z-index: 1;position: relative;background-color: white;}#sk-container-id-2 div.sk-parallel-item:first-child::after {align-self: flex-end;width: 50%;}#sk-container-id-2 div.sk-parallel-item:last-child::after {align-self: flex-start;width: 50%;}#sk-container-id-2 div.sk-parallel-item:only-child::after {width: 0;}#sk-container-id-2 div.sk-dashed-wrapped {border: 1px dashed gray;margin: 0 0.4em 0.5em 0.4em;box-sizing: border-box;padding-bottom: 0.4em;background-color: white;}#sk-container-id-2 div.sk-label label {font-family: monospace;font-weight: bold;display: inline-block;line-height: 1.2em;}#sk-container-id-2 div.sk-label-container {text-align: center;}#sk-container-id-2 div.sk-container {/* jupyter's `normalize.less` sets `[hidden] { display: none; }` but bootstrap.min.css set `[hidden] { display: none !important; }` so we also need the `!important` here to be able to override the default hidden behavior on the sphinx rendered scikit-learn.org. See: https://github.com/scikit-learn/scikit-learn/issues/21755 */display: inline-block !important;position: relative;}#sk-container-id-2 div.sk-text-repr-fallback {display: none;}</style><div id=\"sk-container-id-2\" class=\"sk-top-container\"><div class=\"sk-text-repr-fallback\"><pre>KMeans(init=&#x27;random&#x27;, max_iter=500000, n_clusters=6, random_state=11)</pre><b>In a Jupyter environment, please rerun this cell to show the HTML representation or trust the notebook. <br />On GitHub, the HTML representation is unable to render, please try loading this page with nbviewer.org.</b></div><div class=\"sk-container\" hidden><div class=\"sk-item\"><div class=\"sk-estimator sk-toggleable\"><input class=\"sk-toggleable__control sk-hidden--visually\" id=\"sk-estimator-id-2\" type=\"checkbox\" checked><label for=\"sk-estimator-id-2\" class=\"sk-toggleable__label sk-toggleable__label-arrow\">KMeans</label><div class=\"sk-toggleable__content\"><pre>KMeans(init=&#x27;random&#x27;, max_iter=500000, n_clusters=6, random_state=11)</pre></div></div></div></div></div>"
      ],
      "text/plain": [
       "KMeans(init='random', max_iter=500000, n_clusters=6, random_state=11)"
      ]
     },
     "execution_count": 44,
     "metadata": {},
     "output_type": "execute_result"
    }
   ],
   "source": [
    "\"\"\" train \"\"\"\n",
    "from sklearn.cluster import KMeans\n",
    "\n",
    "n_clusters = 6\n",
    "model__04 = KMeans(n_clusters=n_clusters, init='random', n_init=10, max_iter=500000, random_state=11, verbose=0)\n",
    "model__04.fit(X_train__04)\n",
    "\n",
    "%time model__04.fit(X_train__04)"
   ]
  },
  {
   "cell_type": "code",
   "execution_count": 45,
   "metadata": {},
   "outputs": [
    {
     "name": "stdout",
     "output_type": "stream",
     "text": [
      "CPU times: total: 10.2 s\n",
      "Wall time: 9.7 s\n"
     ]
    }
   ],
   "source": [
    "%%time\n",
    "\"\"\" predict \"\"\"\n",
    "df_out__04 = characterization_k_clusters(model__04, X_test__04, features_name=selected_fts_names__04)"
   ]
  },
  {
   "cell_type": "code",
   "execution_count": 50,
   "metadata": {},
   "outputs": [
    {
     "data": {
      "text/plain": [
       "count    764542.000000\n",
       "mean          0.257282\n",
       "std           2.320004\n",
       "min          -4.776297\n",
       "25%          -0.985876\n",
       "50%           0.000000\n",
       "75%           1.028351\n",
       "max          26.539831\n",
       "Name: z_mod, dtype: float64"
      ]
     },
     "execution_count": 50,
     "metadata": {},
     "output_type": "execute_result"
    }
   ],
   "source": [
    "print(df_out__04['z_mod'].describe())"
   ]
  },
  {
   "cell_type": "code",
   "execution_count": 46,
   "metadata": {},
   "outputs": [],
   "source": [
    "\"\"\" detect outliers using threshold on z_mod score \"\"\"\n",
    "thresh = 2.5\n",
    "df_out__04['Label_Pred'] = df_out__04['z_mod'].apply(detect_anomaly, args=(thresh,))\n",
    "y_pred__04 = df_out__04['Label_Pred'].values"
   ]
  },
  {
   "cell_type": "code",
   "execution_count": 47,
   "metadata": {},
   "outputs": [
    {
     "name": "stdout",
     "output_type": "stream",
     "text": [
      "[[734784  26796]\n",
      " [  1009   1953]]\n",
      "              precision    recall  f1-score   support\n",
      "\n",
      "           0     0.9986    0.9648    0.9814    761580\n",
      "           1     0.0679    0.6594    0.1232      2962\n",
      "\n",
      "    accuracy                         0.9636    764542\n",
      "   macro avg     0.5333    0.8121    0.5523    764542\n",
      "weighted avg     0.9950    0.9636    0.9781    764542\n",
      "\n",
      "0.8120835209164556\n"
     ]
    }
   ],
   "source": [
    "\"\"\" evaluate \"\"\"\n",
    "#? relabel to use classification metrics\n",
    "y_pred__04[y_pred__04 == 1] = 0\n",
    "y_pred__04[y_pred__04 == -1] = 1\n",
    "\n",
    "roc_auc__04 = evaluate(y_test, y_pred__04)"
   ]
  },
  {
   "cell_type": "markdown",
   "metadata": {},
   "source": [
    "### Save model ?"
   ]
  },
  {
   "cell_type": "code",
   "execution_count": 48,
   "metadata": {},
   "outputs": [],
   "source": [
    "save_result(model__04, X_train__04, X_test__04, 'kmeans', selected_fts_names__04, roc_auc__04, 'exp04__play', config=f\"n_clusters={n_clusters}, init='random', n_init=10, max_iter=500000\\nthresh={thresh}\")"
   ]
  },
  {
   "cell_type": "markdown",
   "metadata": {},
   "source": [
    "## Exp 06: Run on features chosen from MI\n",
    "\n",
    "**Chosen features from MI: `State_S_` ,` dTos` ,` Proto_tcp` ,` Proto_udp` ,` Service_80` ,` Service_other` ,` State_CON` ,` Service_25` ,` Sport` ,` Flag_S` ,` Flag_R` ,` BytesPerPkt` ,` Dur` ,` Service_6667` ,` BytesPerSec` ,` State_alltcp` ,` DstBytesPerSec` ,` Flag_A` ,` PktsPerSec` ,` SrcBytesPerSec`**\n",
    "\n",
    "```\n",
    "CPU times: total: 2min 42s\n",
    "Wall time: 37.3 s\n",
    "\n",
    "[[752538   9042]\n",
    " [  1486   1476]]\n",
    "              precision    recall  f1-score   support\n",
    "\n",
    "           0     0.9980    0.9881    0.9931    761580\n",
    "           1     0.1403    0.4983    0.2190      2962\n",
    "\n",
    "    accuracy                         0.9862    764542\n",
    "   macro avg     0.5692    0.7432    0.6060    764542\n",
    "weighted avg     0.9947    0.9862    0.9901    764542\n",
    "\n",
    "0.7432196328259532\n",
    "```"
   ]
  },
  {
   "cell_type": "code",
   "execution_count": 34,
   "metadata": {},
   "outputs": [
    {
     "data": {
      "text/plain": [
       "20"
      ]
     },
     "execution_count": 34,
     "metadata": {},
     "output_type": "execute_result"
    }
   ],
   "source": [
    "\"\"\" select features \"\"\"\n",
    "# selected_fts_names__06 = fts_names[29:30] + fts_names[2:3] + fts_names[51:52] + fts_names[50:51] + fts_names[58:59] + fts_names[64:65] + fts_names[26:27] + fts_names[62:63] + fts_names[3:4] + fts_names[45:46] + fts_names[48:49] + fts_names[26:65]\n",
    "selected_fts_names__06 = ['State_S_','dTos','Proto_tcp','Proto_udp','Service_80','Service_other','State_CON','Service_25','Sport','Flag_S','Flag_R','BytesPerPkt','Dur','Service_6667','BytesPerSec','State_alltcp','DstBytesPerSec','Flag_A','PktsPerSec','SrcBytesPerSec']\n",
    "idx__selected_fts_names__06 = [fts_names.index(s) for s in selected_fts_names__06]\n",
    "len(idx__selected_fts_names__06)\n",
    "# ', '.join(selected_fts_names__05)"
   ]
  },
  {
   "cell_type": "code",
   "execution_count": 35,
   "metadata": {},
   "outputs": [
    {
     "name": "stdout",
     "output_type": "stream",
     "text": [
      "(1529165, 20)\n"
     ]
    }
   ],
   "source": [
    "X_train__06 = np.concatenate(tuple([Xtrain[:,[idx]] for idx in idx__selected_fts_names__06]), axis=1)\n",
    "X_test__06 = np.concatenate(tuple([Xtest[:,[idx]] for idx in idx__selected_fts_names__06]), axis=1)\n",
    "\n",
    "print(X_train__06.shape)"
   ]
  },
  {
   "cell_type": "code",
   "execution_count": 36,
   "metadata": {},
   "outputs": [
    {
     "name": "stderr",
     "output_type": "stream",
     "text": [
      "[Parallel(n_jobs=10)]: Using backend ThreadingBackend with 10 concurrent workers.\n",
      "[Parallel(n_jobs=10)]: Done   2 out of  10 | elapsed:   13.0s remaining:   52.4s\n",
      "[Parallel(n_jobs=10)]: Done  10 out of  10 | elapsed:   16.1s finished\n"
     ]
    },
    {
     "name": "stdout",
     "output_type": "stream",
     "text": [
      "CPU times: total: 2min 42s\n",
      "Wall time: 37.3 s\n"
     ]
    },
    {
     "data": {
      "text/html": [
       "<style>#sk-container-id-3 {color: black;background-color: white;}#sk-container-id-3 pre{padding: 0;}#sk-container-id-3 div.sk-toggleable {background-color: white;}#sk-container-id-3 label.sk-toggleable__label {cursor: pointer;display: block;width: 100%;margin-bottom: 0;padding: 0.3em;box-sizing: border-box;text-align: center;}#sk-container-id-3 label.sk-toggleable__label-arrow:before {content: \"▸\";float: left;margin-right: 0.25em;color: #696969;}#sk-container-id-3 label.sk-toggleable__label-arrow:hover:before {color: black;}#sk-container-id-3 div.sk-estimator:hover label.sk-toggleable__label-arrow:before {color: black;}#sk-container-id-3 div.sk-toggleable__content {max-height: 0;max-width: 0;overflow: hidden;text-align: left;background-color: #f0f8ff;}#sk-container-id-3 div.sk-toggleable__content pre {margin: 0.2em;color: black;border-radius: 0.25em;background-color: #f0f8ff;}#sk-container-id-3 input.sk-toggleable__control:checked~div.sk-toggleable__content {max-height: 200px;max-width: 100%;overflow: auto;}#sk-container-id-3 input.sk-toggleable__control:checked~label.sk-toggleable__label-arrow:before {content: \"▾\";}#sk-container-id-3 div.sk-estimator input.sk-toggleable__control:checked~label.sk-toggleable__label {background-color: #d4ebff;}#sk-container-id-3 div.sk-label input.sk-toggleable__control:checked~label.sk-toggleable__label {background-color: #d4ebff;}#sk-container-id-3 input.sk-hidden--visually {border: 0;clip: rect(1px 1px 1px 1px);clip: rect(1px, 1px, 1px, 1px);height: 1px;margin: -1px;overflow: hidden;padding: 0;position: absolute;width: 1px;}#sk-container-id-3 div.sk-estimator {font-family: monospace;background-color: #f0f8ff;border: 1px dotted black;border-radius: 0.25em;box-sizing: border-box;margin-bottom: 0.5em;}#sk-container-id-3 div.sk-estimator:hover {background-color: #d4ebff;}#sk-container-id-3 div.sk-parallel-item::after {content: \"\";width: 100%;border-bottom: 1px solid gray;flex-grow: 1;}#sk-container-id-3 div.sk-label:hover label.sk-toggleable__label {background-color: #d4ebff;}#sk-container-id-3 div.sk-serial::before {content: \"\";position: absolute;border-left: 1px solid gray;box-sizing: border-box;top: 0;bottom: 0;left: 50%;z-index: 0;}#sk-container-id-3 div.sk-serial {display: flex;flex-direction: column;align-items: center;background-color: white;padding-right: 0.2em;padding-left: 0.2em;position: relative;}#sk-container-id-3 div.sk-item {position: relative;z-index: 1;}#sk-container-id-3 div.sk-parallel {display: flex;align-items: stretch;justify-content: center;background-color: white;position: relative;}#sk-container-id-3 div.sk-item::before, #sk-container-id-3 div.sk-parallel-item::before {content: \"\";position: absolute;border-left: 1px solid gray;box-sizing: border-box;top: 0;bottom: 0;left: 50%;z-index: -1;}#sk-container-id-3 div.sk-parallel-item {display: flex;flex-direction: column;z-index: 1;position: relative;background-color: white;}#sk-container-id-3 div.sk-parallel-item:first-child::after {align-self: flex-end;width: 50%;}#sk-container-id-3 div.sk-parallel-item:last-child::after {align-self: flex-start;width: 50%;}#sk-container-id-3 div.sk-parallel-item:only-child::after {width: 0;}#sk-container-id-3 div.sk-dashed-wrapped {border: 1px dashed gray;margin: 0 0.4em 0.5em 0.4em;box-sizing: border-box;padding-bottom: 0.4em;background-color: white;}#sk-container-id-3 div.sk-label label {font-family: monospace;font-weight: bold;display: inline-block;line-height: 1.2em;}#sk-container-id-3 div.sk-label-container {text-align: center;}#sk-container-id-3 div.sk-container {/* jupyter's `normalize.less` sets `[hidden] { display: none; }` but bootstrap.min.css set `[hidden] { display: none !important; }` so we also need the `!important` here to be able to override the default hidden behavior on the sphinx rendered scikit-learn.org. See: https://github.com/scikit-learn/scikit-learn/issues/21755 */display: inline-block !important;position: relative;}#sk-container-id-3 div.sk-text-repr-fallback {display: none;}</style><div id=\"sk-container-id-3\" class=\"sk-top-container\"><div class=\"sk-text-repr-fallback\"><pre>IsolationForest(contamination=0.01, max_samples=1529165, n_estimators=35,\n",
       "                n_jobs=10, verbose=1)</pre><b>In a Jupyter environment, please rerun this cell to show the HTML representation or trust the notebook. <br />On GitHub, the HTML representation is unable to render, please try loading this page with nbviewer.org.</b></div><div class=\"sk-container\" hidden><div class=\"sk-item\"><div class=\"sk-estimator sk-toggleable\"><input class=\"sk-toggleable__control sk-hidden--visually\" id=\"sk-estimator-id-3\" type=\"checkbox\" checked><label for=\"sk-estimator-id-3\" class=\"sk-toggleable__label sk-toggleable__label-arrow\">IsolationForest</label><div class=\"sk-toggleable__content\"><pre>IsolationForest(contamination=0.01, max_samples=1529165, n_estimators=35,\n",
       "                n_jobs=10, verbose=1)</pre></div></div></div></div></div>"
      ],
      "text/plain": [
       "IsolationForest(contamination=0.01, max_samples=1529165, n_estimators=35,\n",
       "                n_jobs=10, verbose=1)"
      ]
     },
     "execution_count": 36,
     "metadata": {},
     "output_type": "execute_result"
    }
   ],
   "source": [
    "\"\"\" train \"\"\"\n",
    "from sklearn.ensemble import IsolationForest\n",
    "\n",
    "n_estimators = 35\n",
    "contamination = 0.01\n",
    "model__06 = IsolationForest(n_estimators=n_estimators, max_samples=X_train__06.shape[0], contamination=contamination, n_jobs=10, verbose=1)\n",
    "\n",
    "%time model__06.fit(X_train__05)"
   ]
  },
  {
   "cell_type": "code",
   "execution_count": 37,
   "metadata": {},
   "outputs": [
    {
     "name": "stdout",
     "output_type": "stream",
     "text": [
      "CPU times: total: 10.2 s\n",
      "Wall time: 10.3 s\n"
     ]
    }
   ],
   "source": [
    "%%time\n",
    "\"\"\" predict \"\"\"\n",
    "y_pred__06 = model__06.predict(X_test__06)"
   ]
  },
  {
   "cell_type": "code",
   "execution_count": 38,
   "metadata": {},
   "outputs": [
    {
     "name": "stdout",
     "output_type": "stream",
     "text": [
      "[[752538   9042]\n",
      " [  1486   1476]]\n",
      "              precision    recall  f1-score   support\n",
      "\n",
      "           0     0.9980    0.9881    0.9931    761580\n",
      "           1     0.1403    0.4983    0.2190      2962\n",
      "\n",
      "    accuracy                         0.9862    764542\n",
      "   macro avg     0.5692    0.7432    0.6060    764542\n",
      "weighted avg     0.9947    0.9862    0.9901    764542\n",
      "\n",
      "0.7432196328259532\n"
     ]
    }
   ],
   "source": [
    "\"\"\" evaluate \"\"\"\n",
    "#? relabel to use classification metrics\n",
    "y_pred__06[y_pred__06 == 1] = 0\n",
    "y_pred__06[y_pred__06 == -1] = 1\n",
    "\n",
    "roc_auc__06 = evaluate(y_test, y_pred__06)"
   ]
  },
  {
   "cell_type": "markdown",
   "metadata": {},
   "source": [
    "### Save model ?"
   ]
  },
  {
   "cell_type": "code",
   "execution_count": 39,
   "metadata": {},
   "outputs": [],
   "source": [
    "save_result(model__06, X_train__06, X_test__06, 'iforest', selected_fts_names__06, roc_auc__06, 'exp06__mi')"
   ]
  },
  {
   "cell_type": "markdown",
   "metadata": {},
   "source": [
    "## Checking score"
   ]
  },
  {
   "cell_type": "markdown",
   "metadata": {},
   "source": [
    "The best set of features is of experiment 02.  \n",
    "Use this experiment result to further analyze the scores of outliers"
   ]
  },
  {
   "cell_type": "markdown",
   "metadata": {},
   "source": [
    "Check `vv2-6.after_predict`"
   ]
  }
 ],
 "metadata": {
  "interpreter": {
   "hash": "ee5cc6fef2d70a7e71ee3826687cbd150f18158e0b1eef11d4f4f92bb920e304"
  },
  "kernelspec": {
   "display_name": "Python 3.9.6 64-bit",
   "language": "python",
   "name": "python3"
  },
  "language_info": {
   "codemirror_mode": {
    "name": "ipython",
    "version": 3
   },
   "file_extension": ".py",
   "mimetype": "text/x-python",
   "name": "python",
   "nbconvert_exporter": "python",
   "pygments_lexer": "ipython3",
   "version": "3.9.6"
  },
  "orig_nbformat": 4
 },
 "nbformat": 4,
 "nbformat_minor": 2
}
